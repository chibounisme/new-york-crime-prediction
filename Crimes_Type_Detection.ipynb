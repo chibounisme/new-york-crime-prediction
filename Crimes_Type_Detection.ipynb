{
  "cells": [
    {
      "cell_type": "code",
      "execution_count": null,
      "metadata": {
        "id": "X7T3GkHOirSR"
      },
      "outputs": [],
      "source": [
        "import numpy as np\n",
        "import pandas as pd\n",
        "import seaborn as sns\n",
        "import matplotlib.pyplot as plt\n",
        "from collections import Counter\n",
        "import os"
      ]
    },
    {
      "cell_type": "markdown",
      "metadata": {
        "id": "f7MuQXpIvLyE"
      },
      "source": [
        "#Data Importation "
      ]
    },
    {
      "cell_type": "code",
      "execution_count": null,
      "metadata": {
        "id": "_sFx8ZVBvKy6"
      },
      "outputs": [],
      "source": [
        "os.chdir('/content/drive/MyDrive/Crimes Detection/NY_crimes/')\n",
        "data = pd.read_csv('NYPD_Complaint_Data_Historic.csv')\n",
        "data.head()"
      ]
    },
    {
      "cell_type": "code",
      "execution_count": null,
      "metadata": {
        "id": "M5TkLEnocgqK"
      },
      "outputs": [],
      "source": [
        "data.drop(['CMPLNT_NUM','STATION_NAME','TRANSIT_DISTRICT','SUSP_AGE_GROUP','HOUSING_PSA','HADEVELOPT','LOC_OF_OCCUR_DESC','PARKS_NM','CMPLNT_TO_DT','CMPLNT_TO_TM','Lat_Lon','RPT_DT','SUSP_SEX','SUSP_RACE','Y_COORD_CD','X_COORD_CD','JURIS_DESC','LAW_CAT_CD'],axis=1,inplace= True)"
      ]
    },
    {
      "cell_type": "code",
      "execution_count": null,
      "metadata": {
        "id": "Ppr-o-fYXVot"
      },
      "outputs": [],
      "source": [
        "data.dropna(axis=0, how='all',inplace = True)"
      ]
    },
    {
      "cell_type": "code",
      "execution_count": null,
      "metadata": {
        "colab": {
          "base_uri": "https://localhost:8080/"
        },
        "id": "2zg5L4PCbTZn",
        "outputId": "30241011-6893-4ed6-faad-347be9f376ff"
      },
      "outputs": [
        {
          "output_type": "stream",
          "name": "stdout",
          "text": [
            "CMPLNT_FR_DT 655\n",
            "CMPLNT_FR_TM 48\n",
            "ADDR_PCT_CD 2166\n",
            "KY_CD 0\n",
            "OFNS_DESC 18825\n",
            "PD_CD 5865\n",
            "PD_DESC 5865\n",
            "CRM_ATPT_CPTD_CD 7\n",
            "BORO_NM 10894\n",
            "PREM_TYP_DESC 39732\n",
            "JURISDICTION_CODE 5865\n",
            "Latitude 24064\n",
            "Longitude 24064\n",
            "PATROL_BORO 6322\n",
            "VIC_AGE_GROUP 1638444\n",
            "VIC_RACE 308\n",
            "VIC_SEX 307\n"
          ]
        }
      ],
      "source": [
        "for i in data.columns:\n",
        "  print(i,data[i].isnull().sum())"
      ]
    },
    {
      "cell_type": "code",
      "source": [
        "data.shape"
      ],
      "metadata": {
        "colab": {
          "base_uri": "https://localhost:8080/"
        },
        "id": "TVIVgJK_J_Y-",
        "outputId": "e407e1b1-01d1-4e5e-dde3-93d56d9d1b3e"
      },
      "execution_count": null,
      "outputs": [
        {
          "output_type": "execute_result",
          "data": {
            "text/plain": [
              "(6983207, 17)"
            ]
          },
          "metadata": {},
          "execution_count": 6
        }
      ]
    },
    {
      "cell_type": "code",
      "execution_count": null,
      "metadata": {
        "id": "rg-ZmRlgczA3"
      },
      "outputs": [],
      "source": [
        "data.dropna(axis=0,how='any',inplace=True)"
      ]
    },
    {
      "cell_type": "code",
      "source": [
        "data.shape"
      ],
      "metadata": {
        "colab": {
          "base_uri": "https://localhost:8080/"
        },
        "id": "1WVrhC5uKBVG",
        "outputId": "696affbb-fc4b-4c3b-e292-678664916dba"
      },
      "execution_count": null,
      "outputs": [
        {
          "output_type": "execute_result",
          "data": {
            "text/plain": [
              "(5288940, 17)"
            ]
          },
          "metadata": {},
          "execution_count": 8
        }
      ]
    },
    {
      "cell_type": "code",
      "execution_count": null,
      "metadata": {
        "colab": {
          "base_uri": "https://localhost:8080/"
        },
        "id": "_xr2BLVLggy_",
        "outputId": "612be928-bb27-4ff9-e12d-982baaff0516"
      },
      "outputs": [
        {
          "output_type": "stream",
          "name": "stdout",
          "text": [
            "CMPLNT_FR_DT 0\n",
            "CMPLNT_FR_TM 0\n",
            "ADDR_PCT_CD 0\n",
            "KY_CD 0\n",
            "OFNS_DESC 0\n",
            "PD_CD 0\n",
            "PD_DESC 0\n",
            "CRM_ATPT_CPTD_CD 0\n",
            "BORO_NM 0\n",
            "PREM_TYP_DESC 0\n",
            "JURISDICTION_CODE 0\n",
            "Latitude 0\n",
            "Longitude 0\n",
            "PATROL_BORO 0\n",
            "VIC_AGE_GROUP 0\n",
            "VIC_RACE 0\n",
            "VIC_SEX 0\n"
          ]
        }
      ],
      "source": [
        "for i in data.columns:\n",
        "  print(i,data[i].isnull().sum())"
      ]
    },
    {
      "cell_type": "code",
      "execution_count": null,
      "metadata": {
        "colab": {
          "base_uri": "https://localhost:8080/"
        },
        "id": "RGvo1rMFgks8",
        "outputId": "ebc762eb-9404-4b8e-8968-3761bc51eea2"
      },
      "outputs": [
        {
          "output_type": "execute_result",
          "data": {
            "text/plain": [
              "5288940"
            ]
          },
          "metadata": {},
          "execution_count": 10
        }
      ],
      "source": [
        "data.shape[0]"
      ]
    },
    {
      "cell_type": "code",
      "execution_count": null,
      "metadata": {
        "colab": {
          "base_uri": "https://localhost:8080/"
        },
        "id": "cYUQAIkHgnEx",
        "outputId": "d1209e00-45d6-4dcb-a4d9-b2b504236078"
      },
      "outputs": [
        {
          "output_type": "stream",
          "name": "stdout",
          "text": [
            "ASSAULT 3 & RELATED OFFENSES : 697294\n",
            "GRAND LARCENY : 528252\n",
            "PETIT LARCENY : 837178\n",
            "HARRASSMENT 2 : 836358\n",
            "SEX CRIMES : 78734\n",
            "DANGEROUS WEAPONS : 45404\n",
            "BURGLARY : 180126\n",
            "CRIMINAL MISCHIEF & RELATED OF : 515234\n",
            "INTOXICATED & IMPAIRED DRIVING : 25624\n",
            "OFF. AGNST PUB ORD SENSBLTY & : 342815\n",
            "FELONY ASSAULT : 242925\n",
            "MISCELLANEOUS PENAL LAW : 128117\n",
            "OFFENSES AGAINST PUBLIC ADMINI : 78220\n",
            "VEHICLE AND TRAFFIC LAWS : 65601\n",
            "CRIMINAL TRESPASS : 26297\n",
            "GRAND LARCENY OF MOTOR VEHICLE : 110833\n",
            "DANGEROUS DRUGS : 81052\n",
            "OTHER OFFENSES RELATED TO THEF : 10954\n",
            "THEFT-FRAUD : 67836\n",
            "ROBBERY : 229213\n",
            "UNAUTHORIZED USE OF A VEHICLE : 15288\n",
            "FRAUDS : 30003\n",
            "RAPE : 20076\n",
            "OFFENSES INVOLVING FRAUD : 5431\n",
            "POSSESSION OF STOLEN PROPERTY : 15684\n",
            "OFFENSES AGAINST THE PERSON : 10550\n",
            "ADMINISTRATIVE CODE : 12398\n",
            "KIDNAPPING & RELATED OFFENSES : 2622\n",
            "FORGERY : 27703\n",
            "NYS LAWS-UNCLASSIFIED FELONY : 3181\n",
            "THEFT OF SERVICES : 1811\n",
            "ARSON : 4914\n",
            "ALCOHOLIC BEVERAGE CONTROL LAW : 479\n",
            "PROSTITUTION & RELATED OFFENSES : 455\n",
            "GAMBLING : 1028\n",
            "OTHER STATE LAWS (NON PENAL LA : 1294\n",
            "OFFENSES RELATED TO CHILDREN : 530\n",
            "PETIT LARCENY OF MOTOR VEHICLE : 1037\n",
            "JOSTLING : 317\n",
            "FRAUDULENT ACCOSTING : 2179\n",
            "AGRICULTURE & MRKTS LAW-UNCLASSIFIED : 584\n",
            "BURGLAR'S TOOLS : 1569\n",
            "LOITERING : 5\n",
            "CHILD ABANDONMENT/NON SUPPORT : 347\n",
            "ENDAN WELFARE INCOMP : 241\n",
            "DISORDERLY CONDUCT : 265\n",
            "HOMICIDE-NEGLIGENT-VEHICLE : 85\n",
            "NYS LAWS-UNCLASSIFIED VIOLATION : 53\n",
            "HOMICIDE-NEGLIGENT,UNCLASSIFIE : 149\n",
            "OFFENSES AGAINST PUBLIC SAFETY : 230\n",
            "OTHER STATE LAWS : 76\n",
            "LOITERING/GAMBLING (CARDS, DIC : 46\n",
            "KIDNAPPING : 45\n",
            "UNLAWFUL POSS. WEAP. ON SCHOOL : 12\n",
            "ESCAPE 3 : 48\n",
            "DISRUPTION OF A RELIGIOUS SERV : 23\n",
            "OTHER STATE LAWS (NON PENAL LAW) : 7\n",
            "ANTICIPATORY OFFENSES : 41\n",
            "NEW YORK CITY HEALTH CODE : 16\n",
            "INTOXICATED/IMPAIRED DRIVING : 15\n",
            "UNDER THE INFLUENCE OF DRUGS : 2\n",
            "FORTUNE TELLING : 3\n",
            "LOITERING FOR DRUG PURPOSES : 2\n",
            "ADMINISTRATIVE CODES : 3\n",
            "ABORTION : 7\n",
            "OFFENSES AGAINST MARRIAGE UNCL : 4\n",
            "OTHER TRAFFIC INFRACTION : 2\n",
            "KIDNAPPING AND RELATED OFFENSES : 3\n",
            "FELONY SEX CRIMES : 10\n"
          ]
        }
      ],
      "source": [
        "from collections import Counter\n",
        "nbr_classes = Counter(data.OFNS_DESC)\n",
        "for i,j in nbr_classes.items():\n",
        "  print(i,':',j)"
      ]
    },
    {
      "cell_type": "code",
      "execution_count": null,
      "metadata": {
        "colab": {
          "base_uri": "https://localhost:8080/",
          "height": 496
        },
        "id": "_dGmp8a7V2bb",
        "outputId": "b7155643-9a48-4956-8fb0-4f53825ff994"
      },
      "outputs": [
        {
          "output_type": "execute_result",
          "data": {
            "text/html": [
              "\n",
              "  <div id=\"df-17c17a8b-1aa6-4d8c-a309-0edac4afd3b8\">\n",
              "    <div class=\"colab-df-container\">\n",
              "      <div>\n",
              "<style scoped>\n",
              "    .dataframe tbody tr th:only-of-type {\n",
              "        vertical-align: middle;\n",
              "    }\n",
              "\n",
              "    .dataframe tbody tr th {\n",
              "        vertical-align: top;\n",
              "    }\n",
              "\n",
              "    .dataframe thead th {\n",
              "        text-align: right;\n",
              "    }\n",
              "</style>\n",
              "<table border=\"1\" class=\"dataframe\">\n",
              "  <thead>\n",
              "    <tr style=\"text-align: right;\">\n",
              "      <th></th>\n",
              "      <th>CMPLNT_FR_DT</th>\n",
              "      <th>CMPLNT_FR_TM</th>\n",
              "      <th>ADDR_PCT_CD</th>\n",
              "      <th>KY_CD</th>\n",
              "      <th>OFNS_DESC</th>\n",
              "      <th>PD_CD</th>\n",
              "      <th>PD_DESC</th>\n",
              "      <th>CRM_ATPT_CPTD_CD</th>\n",
              "      <th>BORO_NM</th>\n",
              "      <th>PREM_TYP_DESC</th>\n",
              "      <th>JURISDICTION_CODE</th>\n",
              "      <th>Latitude</th>\n",
              "      <th>Longitude</th>\n",
              "      <th>PATROL_BORO</th>\n",
              "      <th>VIC_AGE_GROUP</th>\n",
              "      <th>VIC_RACE</th>\n",
              "      <th>VIC_SEX</th>\n",
              "    </tr>\n",
              "  </thead>\n",
              "  <tbody>\n",
              "    <tr>\n",
              "      <th>0</th>\n",
              "      <td>09/04/2014</td>\n",
              "      <td>17:25:00</td>\n",
              "      <td>81.0</td>\n",
              "      <td>344</td>\n",
              "      <td>ASSAULT 3 &amp; RELATED OFFENSES</td>\n",
              "      <td>101.0</td>\n",
              "      <td>ASSAULT 3</td>\n",
              "      <td>COMPLETED</td>\n",
              "      <td>BROOKLYN</td>\n",
              "      <td>STREET</td>\n",
              "      <td>0.0</td>\n",
              "      <td>40.685041</td>\n",
              "      <td>-73.921777</td>\n",
              "      <td>PATROL BORO BKLYN NORTH</td>\n",
              "      <td>25-44</td>\n",
              "      <td>WHITE</td>\n",
              "      <td>F</td>\n",
              "    </tr>\n",
              "    <tr>\n",
              "      <th>1</th>\n",
              "      <td>10/12/2016</td>\n",
              "      <td>07:40:00</td>\n",
              "      <td>121.0</td>\n",
              "      <td>109</td>\n",
              "      <td>GRAND LARCENY</td>\n",
              "      <td>417.0</td>\n",
              "      <td>LARCENY,GRAND FROM PERSON,PURS</td>\n",
              "      <td>COMPLETED</td>\n",
              "      <td>STATEN ISLAND</td>\n",
              "      <td>STREET</td>\n",
              "      <td>0.0</td>\n",
              "      <td>40.636991</td>\n",
              "      <td>-74.134093</td>\n",
              "      <td>PATROL BORO STATEN ISLAND</td>\n",
              "      <td>45-64</td>\n",
              "      <td>WHITE HISPANIC</td>\n",
              "      <td>F</td>\n",
              "    </tr>\n",
              "    <tr>\n",
              "      <th>2</th>\n",
              "      <td>09/28/2012</td>\n",
              "      <td>13:30:00</td>\n",
              "      <td>41.0</td>\n",
              "      <td>109</td>\n",
              "      <td>GRAND LARCENY</td>\n",
              "      <td>413.0</td>\n",
              "      <td>LARCENY,GRAND BY FALSE PROMISE</td>\n",
              "      <td>COMPLETED</td>\n",
              "      <td>BRONX</td>\n",
              "      <td>STREET</td>\n",
              "      <td>0.0</td>\n",
              "      <td>40.823876</td>\n",
              "      <td>-73.891863</td>\n",
              "      <td>PATROL BORO BRONX</td>\n",
              "      <td>45-64</td>\n",
              "      <td>WHITE HISPANIC</td>\n",
              "      <td>F</td>\n",
              "    </tr>\n",
              "    <tr>\n",
              "      <th>3</th>\n",
              "      <td>03/24/2015</td>\n",
              "      <td>15:45:00</td>\n",
              "      <td>46.0</td>\n",
              "      <td>341</td>\n",
              "      <td>PETIT LARCENY</td>\n",
              "      <td>339.0</td>\n",
              "      <td>LARCENY,PETIT FROM OPEN AREAS,</td>\n",
              "      <td>COMPLETED</td>\n",
              "      <td>BRONX</td>\n",
              "      <td>STREET</td>\n",
              "      <td>0.0</td>\n",
              "      <td>40.845707</td>\n",
              "      <td>-73.910398</td>\n",
              "      <td>PATROL BORO BRONX</td>\n",
              "      <td>&lt;18</td>\n",
              "      <td>WHITE HISPANIC</td>\n",
              "      <td>F</td>\n",
              "    </tr>\n",
              "    <tr>\n",
              "      <th>4</th>\n",
              "      <td>05/20/2017</td>\n",
              "      <td>04:02:00</td>\n",
              "      <td>109.0</td>\n",
              "      <td>344</td>\n",
              "      <td>ASSAULT 3 &amp; RELATED OFFENSES</td>\n",
              "      <td>101.0</td>\n",
              "      <td>ASSAULT 3</td>\n",
              "      <td>COMPLETED</td>\n",
              "      <td>QUEENS</td>\n",
              "      <td>STREET</td>\n",
              "      <td>0.0</td>\n",
              "      <td>40.763992</td>\n",
              "      <td>-73.828426</td>\n",
              "      <td>PATROL BORO QUEENS NORTH</td>\n",
              "      <td>25-44</td>\n",
              "      <td>BLACK</td>\n",
              "      <td>M</td>\n",
              "    </tr>\n",
              "  </tbody>\n",
              "</table>\n",
              "</div>\n",
              "      <button class=\"colab-df-convert\" onclick=\"convertToInteractive('df-17c17a8b-1aa6-4d8c-a309-0edac4afd3b8')\"\n",
              "              title=\"Convert this dataframe to an interactive table.\"\n",
              "              style=\"display:none;\">\n",
              "        \n",
              "  <svg xmlns=\"http://www.w3.org/2000/svg\" height=\"24px\"viewBox=\"0 0 24 24\"\n",
              "       width=\"24px\">\n",
              "    <path d=\"M0 0h24v24H0V0z\" fill=\"none\"/>\n",
              "    <path d=\"M18.56 5.44l.94 2.06.94-2.06 2.06-.94-2.06-.94-.94-2.06-.94 2.06-2.06.94zm-11 1L8.5 8.5l.94-2.06 2.06-.94-2.06-.94L8.5 2.5l-.94 2.06-2.06.94zm10 10l.94 2.06.94-2.06 2.06-.94-2.06-.94-.94-2.06-.94 2.06-2.06.94z\"/><path d=\"M17.41 7.96l-1.37-1.37c-.4-.4-.92-.59-1.43-.59-.52 0-1.04.2-1.43.59L10.3 9.45l-7.72 7.72c-.78.78-.78 2.05 0 2.83L4 21.41c.39.39.9.59 1.41.59.51 0 1.02-.2 1.41-.59l7.78-7.78 2.81-2.81c.8-.78.8-2.07 0-2.86zM5.41 20L4 18.59l7.72-7.72 1.47 1.35L5.41 20z\"/>\n",
              "  </svg>\n",
              "      </button>\n",
              "      \n",
              "  <style>\n",
              "    .colab-df-container {\n",
              "      display:flex;\n",
              "      flex-wrap:wrap;\n",
              "      gap: 12px;\n",
              "    }\n",
              "\n",
              "    .colab-df-convert {\n",
              "      background-color: #E8F0FE;\n",
              "      border: none;\n",
              "      border-radius: 50%;\n",
              "      cursor: pointer;\n",
              "      display: none;\n",
              "      fill: #1967D2;\n",
              "      height: 32px;\n",
              "      padding: 0 0 0 0;\n",
              "      width: 32px;\n",
              "    }\n",
              "\n",
              "    .colab-df-convert:hover {\n",
              "      background-color: #E2EBFA;\n",
              "      box-shadow: 0px 1px 2px rgba(60, 64, 67, 0.3), 0px 1px 3px 1px rgba(60, 64, 67, 0.15);\n",
              "      fill: #174EA6;\n",
              "    }\n",
              "\n",
              "    [theme=dark] .colab-df-convert {\n",
              "      background-color: #3B4455;\n",
              "      fill: #D2E3FC;\n",
              "    }\n",
              "\n",
              "    [theme=dark] .colab-df-convert:hover {\n",
              "      background-color: #434B5C;\n",
              "      box-shadow: 0px 1px 3px 1px rgba(0, 0, 0, 0.15);\n",
              "      filter: drop-shadow(0px 1px 2px rgba(0, 0, 0, 0.3));\n",
              "      fill: #FFFFFF;\n",
              "    }\n",
              "  </style>\n",
              "\n",
              "      <script>\n",
              "        const buttonEl =\n",
              "          document.querySelector('#df-17c17a8b-1aa6-4d8c-a309-0edac4afd3b8 button.colab-df-convert');\n",
              "        buttonEl.style.display =\n",
              "          google.colab.kernel.accessAllowed ? 'block' : 'none';\n",
              "\n",
              "        async function convertToInteractive(key) {\n",
              "          const element = document.querySelector('#df-17c17a8b-1aa6-4d8c-a309-0edac4afd3b8');\n",
              "          const dataTable =\n",
              "            await google.colab.kernel.invokeFunction('convertToInteractive',\n",
              "                                                     [key], {});\n",
              "          if (!dataTable) return;\n",
              "\n",
              "          const docLinkHtml = 'Like what you see? Visit the ' +\n",
              "            '<a target=\"_blank\" href=https://colab.research.google.com/notebooks/data_table.ipynb>data table notebook</a>'\n",
              "            + ' to learn more about interactive tables.';\n",
              "          element.innerHTML = '';\n",
              "          dataTable['output_type'] = 'display_data';\n",
              "          await google.colab.output.renderOutput(dataTable, element);\n",
              "          const docLink = document.createElement('div');\n",
              "          docLink.innerHTML = docLinkHtml;\n",
              "          element.appendChild(docLink);\n",
              "        }\n",
              "      </script>\n",
              "    </div>\n",
              "  </div>\n",
              "  "
            ],
            "text/plain": [
              "  CMPLNT_FR_DT CMPLNT_FR_TM  ADDR_PCT_CD  ...  VIC_AGE_GROUP        VIC_RACE  VIC_SEX\n",
              "0   09/04/2014     17:25:00         81.0  ...          25-44           WHITE        F\n",
              "1   10/12/2016     07:40:00        121.0  ...          45-64  WHITE HISPANIC        F\n",
              "2   09/28/2012     13:30:00         41.0  ...          45-64  WHITE HISPANIC        F\n",
              "3   03/24/2015     15:45:00         46.0  ...            <18  WHITE HISPANIC        F\n",
              "4   05/20/2017     04:02:00        109.0  ...          25-44           BLACK        M\n",
              "\n",
              "[5 rows x 17 columns]"
            ]
          },
          "metadata": {},
          "execution_count": 12
        }
      ],
      "source": [
        "data.head()"
      ]
    },
    {
      "cell_type": "code",
      "execution_count": null,
      "metadata": {
        "id": "ACCv-t5RV3QD"
      },
      "outputs": [],
      "source": [
        "data[\"date\"] = data[[\"CMPLNT_FR_DT\",\"CMPLNT_FR_TM\"]].agg('-'.join, axis=1)"
      ]
    },
    {
      "cell_type": "code",
      "execution_count": null,
      "metadata": {
        "colab": {
          "base_uri": "https://localhost:8080/"
        },
        "id": "s2v9V6wyHj1r",
        "outputId": "2c2f43af-dbef-4873-b736-5a14bb6bbd46"
      },
      "outputs": [
        {
          "output_type": "stream",
          "name": "stdout",
          "text": [
            "CMPLNT_FR_DT 0\n",
            "CMPLNT_FR_TM 0\n",
            "ADDR_PCT_CD 0\n",
            "KY_CD 0\n",
            "OFNS_DESC 0\n",
            "PD_CD 0\n",
            "PD_DESC 0\n",
            "CRM_ATPT_CPTD_CD 0\n",
            "BORO_NM 0\n",
            "PREM_TYP_DESC 0\n",
            "JURISDICTION_CODE 0\n",
            "Latitude 0\n",
            "Longitude 0\n",
            "PATROL_BORO 0\n",
            "VIC_AGE_GROUP 0\n",
            "VIC_RACE 0\n",
            "VIC_SEX 0\n",
            "date 0\n"
          ]
        }
      ],
      "source": [
        "for i in data.columns:\n",
        "  print(i,data[i].isnull().sum())"
      ]
    },
    {
      "cell_type": "code",
      "execution_count": null,
      "metadata": {
        "colab": {
          "base_uri": "https://localhost:8080/",
          "height": 496
        },
        "id": "KA0bJ3uemX7p",
        "outputId": "ad7cd720-441a-4e70-d4ec-395bcd9f190e"
      },
      "outputs": [
        {
          "output_type": "execute_result",
          "data": {
            "text/html": [
              "\n",
              "  <div id=\"df-713cf987-e7e1-45e4-9e87-1c4bec828af3\">\n",
              "    <div class=\"colab-df-container\">\n",
              "      <div>\n",
              "<style scoped>\n",
              "    .dataframe tbody tr th:only-of-type {\n",
              "        vertical-align: middle;\n",
              "    }\n",
              "\n",
              "    .dataframe tbody tr th {\n",
              "        vertical-align: top;\n",
              "    }\n",
              "\n",
              "    .dataframe thead th {\n",
              "        text-align: right;\n",
              "    }\n",
              "</style>\n",
              "<table border=\"1\" class=\"dataframe\">\n",
              "  <thead>\n",
              "    <tr style=\"text-align: right;\">\n",
              "      <th></th>\n",
              "      <th>CMPLNT_FR_DT</th>\n",
              "      <th>CMPLNT_FR_TM</th>\n",
              "      <th>ADDR_PCT_CD</th>\n",
              "      <th>KY_CD</th>\n",
              "      <th>OFNS_DESC</th>\n",
              "      <th>PD_CD</th>\n",
              "      <th>PD_DESC</th>\n",
              "      <th>CRM_ATPT_CPTD_CD</th>\n",
              "      <th>BORO_NM</th>\n",
              "      <th>PREM_TYP_DESC</th>\n",
              "      <th>JURISDICTION_CODE</th>\n",
              "      <th>Latitude</th>\n",
              "      <th>Longitude</th>\n",
              "      <th>PATROL_BORO</th>\n",
              "      <th>VIC_AGE_GROUP</th>\n",
              "      <th>VIC_RACE</th>\n",
              "      <th>VIC_SEX</th>\n",
              "      <th>date</th>\n",
              "    </tr>\n",
              "  </thead>\n",
              "  <tbody>\n",
              "    <tr>\n",
              "      <th>0</th>\n",
              "      <td>09/04/2014</td>\n",
              "      <td>17:25:00</td>\n",
              "      <td>81.0</td>\n",
              "      <td>344</td>\n",
              "      <td>ASSAULT 3 &amp; RELATED OFFENSES</td>\n",
              "      <td>101.0</td>\n",
              "      <td>ASSAULT 3</td>\n",
              "      <td>COMPLETED</td>\n",
              "      <td>BROOKLYN</td>\n",
              "      <td>STREET</td>\n",
              "      <td>0.0</td>\n",
              "      <td>40.685041</td>\n",
              "      <td>-73.921777</td>\n",
              "      <td>PATROL BORO BKLYN NORTH</td>\n",
              "      <td>25-44</td>\n",
              "      <td>WHITE</td>\n",
              "      <td>F</td>\n",
              "      <td>09/04/2014-17:25:00</td>\n",
              "    </tr>\n",
              "    <tr>\n",
              "      <th>1</th>\n",
              "      <td>10/12/2016</td>\n",
              "      <td>07:40:00</td>\n",
              "      <td>121.0</td>\n",
              "      <td>109</td>\n",
              "      <td>GRAND LARCENY</td>\n",
              "      <td>417.0</td>\n",
              "      <td>LARCENY,GRAND FROM PERSON,PURS</td>\n",
              "      <td>COMPLETED</td>\n",
              "      <td>STATEN ISLAND</td>\n",
              "      <td>STREET</td>\n",
              "      <td>0.0</td>\n",
              "      <td>40.636991</td>\n",
              "      <td>-74.134093</td>\n",
              "      <td>PATROL BORO STATEN ISLAND</td>\n",
              "      <td>45-64</td>\n",
              "      <td>WHITE HISPANIC</td>\n",
              "      <td>F</td>\n",
              "      <td>10/12/2016-07:40:00</td>\n",
              "    </tr>\n",
              "    <tr>\n",
              "      <th>2</th>\n",
              "      <td>09/28/2012</td>\n",
              "      <td>13:30:00</td>\n",
              "      <td>41.0</td>\n",
              "      <td>109</td>\n",
              "      <td>GRAND LARCENY</td>\n",
              "      <td>413.0</td>\n",
              "      <td>LARCENY,GRAND BY FALSE PROMISE</td>\n",
              "      <td>COMPLETED</td>\n",
              "      <td>BRONX</td>\n",
              "      <td>STREET</td>\n",
              "      <td>0.0</td>\n",
              "      <td>40.823876</td>\n",
              "      <td>-73.891863</td>\n",
              "      <td>PATROL BORO BRONX</td>\n",
              "      <td>45-64</td>\n",
              "      <td>WHITE HISPANIC</td>\n",
              "      <td>F</td>\n",
              "      <td>09/28/2012-13:30:00</td>\n",
              "    </tr>\n",
              "    <tr>\n",
              "      <th>3</th>\n",
              "      <td>03/24/2015</td>\n",
              "      <td>15:45:00</td>\n",
              "      <td>46.0</td>\n",
              "      <td>341</td>\n",
              "      <td>PETIT LARCENY</td>\n",
              "      <td>339.0</td>\n",
              "      <td>LARCENY,PETIT FROM OPEN AREAS,</td>\n",
              "      <td>COMPLETED</td>\n",
              "      <td>BRONX</td>\n",
              "      <td>STREET</td>\n",
              "      <td>0.0</td>\n",
              "      <td>40.845707</td>\n",
              "      <td>-73.910398</td>\n",
              "      <td>PATROL BORO BRONX</td>\n",
              "      <td>&lt;18</td>\n",
              "      <td>WHITE HISPANIC</td>\n",
              "      <td>F</td>\n",
              "      <td>03/24/2015-15:45:00</td>\n",
              "    </tr>\n",
              "    <tr>\n",
              "      <th>4</th>\n",
              "      <td>05/20/2017</td>\n",
              "      <td>04:02:00</td>\n",
              "      <td>109.0</td>\n",
              "      <td>344</td>\n",
              "      <td>ASSAULT 3 &amp; RELATED OFFENSES</td>\n",
              "      <td>101.0</td>\n",
              "      <td>ASSAULT 3</td>\n",
              "      <td>COMPLETED</td>\n",
              "      <td>QUEENS</td>\n",
              "      <td>STREET</td>\n",
              "      <td>0.0</td>\n",
              "      <td>40.763992</td>\n",
              "      <td>-73.828426</td>\n",
              "      <td>PATROL BORO QUEENS NORTH</td>\n",
              "      <td>25-44</td>\n",
              "      <td>BLACK</td>\n",
              "      <td>M</td>\n",
              "      <td>05/20/2017-04:02:00</td>\n",
              "    </tr>\n",
              "  </tbody>\n",
              "</table>\n",
              "</div>\n",
              "      <button class=\"colab-df-convert\" onclick=\"convertToInteractive('df-713cf987-e7e1-45e4-9e87-1c4bec828af3')\"\n",
              "              title=\"Convert this dataframe to an interactive table.\"\n",
              "              style=\"display:none;\">\n",
              "        \n",
              "  <svg xmlns=\"http://www.w3.org/2000/svg\" height=\"24px\"viewBox=\"0 0 24 24\"\n",
              "       width=\"24px\">\n",
              "    <path d=\"M0 0h24v24H0V0z\" fill=\"none\"/>\n",
              "    <path d=\"M18.56 5.44l.94 2.06.94-2.06 2.06-.94-2.06-.94-.94-2.06-.94 2.06-2.06.94zm-11 1L8.5 8.5l.94-2.06 2.06-.94-2.06-.94L8.5 2.5l-.94 2.06-2.06.94zm10 10l.94 2.06.94-2.06 2.06-.94-2.06-.94-.94-2.06-.94 2.06-2.06.94z\"/><path d=\"M17.41 7.96l-1.37-1.37c-.4-.4-.92-.59-1.43-.59-.52 0-1.04.2-1.43.59L10.3 9.45l-7.72 7.72c-.78.78-.78 2.05 0 2.83L4 21.41c.39.39.9.59 1.41.59.51 0 1.02-.2 1.41-.59l7.78-7.78 2.81-2.81c.8-.78.8-2.07 0-2.86zM5.41 20L4 18.59l7.72-7.72 1.47 1.35L5.41 20z\"/>\n",
              "  </svg>\n",
              "      </button>\n",
              "      \n",
              "  <style>\n",
              "    .colab-df-container {\n",
              "      display:flex;\n",
              "      flex-wrap:wrap;\n",
              "      gap: 12px;\n",
              "    }\n",
              "\n",
              "    .colab-df-convert {\n",
              "      background-color: #E8F0FE;\n",
              "      border: none;\n",
              "      border-radius: 50%;\n",
              "      cursor: pointer;\n",
              "      display: none;\n",
              "      fill: #1967D2;\n",
              "      height: 32px;\n",
              "      padding: 0 0 0 0;\n",
              "      width: 32px;\n",
              "    }\n",
              "\n",
              "    .colab-df-convert:hover {\n",
              "      background-color: #E2EBFA;\n",
              "      box-shadow: 0px 1px 2px rgba(60, 64, 67, 0.3), 0px 1px 3px 1px rgba(60, 64, 67, 0.15);\n",
              "      fill: #174EA6;\n",
              "    }\n",
              "\n",
              "    [theme=dark] .colab-df-convert {\n",
              "      background-color: #3B4455;\n",
              "      fill: #D2E3FC;\n",
              "    }\n",
              "\n",
              "    [theme=dark] .colab-df-convert:hover {\n",
              "      background-color: #434B5C;\n",
              "      box-shadow: 0px 1px 3px 1px rgba(0, 0, 0, 0.15);\n",
              "      filter: drop-shadow(0px 1px 2px rgba(0, 0, 0, 0.3));\n",
              "      fill: #FFFFFF;\n",
              "    }\n",
              "  </style>\n",
              "\n",
              "      <script>\n",
              "        const buttonEl =\n",
              "          document.querySelector('#df-713cf987-e7e1-45e4-9e87-1c4bec828af3 button.colab-df-convert');\n",
              "        buttonEl.style.display =\n",
              "          google.colab.kernel.accessAllowed ? 'block' : 'none';\n",
              "\n",
              "        async function convertToInteractive(key) {\n",
              "          const element = document.querySelector('#df-713cf987-e7e1-45e4-9e87-1c4bec828af3');\n",
              "          const dataTable =\n",
              "            await google.colab.kernel.invokeFunction('convertToInteractive',\n",
              "                                                     [key], {});\n",
              "          if (!dataTable) return;\n",
              "\n",
              "          const docLinkHtml = 'Like what you see? Visit the ' +\n",
              "            '<a target=\"_blank\" href=https://colab.research.google.com/notebooks/data_table.ipynb>data table notebook</a>'\n",
              "            + ' to learn more about interactive tables.';\n",
              "          element.innerHTML = '';\n",
              "          dataTable['output_type'] = 'display_data';\n",
              "          await google.colab.output.renderOutput(dataTable, element);\n",
              "          const docLink = document.createElement('div');\n",
              "          docLink.innerHTML = docLinkHtml;\n",
              "          element.appendChild(docLink);\n",
              "        }\n",
              "      </script>\n",
              "    </div>\n",
              "  </div>\n",
              "  "
            ],
            "text/plain": [
              "  CMPLNT_FR_DT CMPLNT_FR_TM  ...  VIC_SEX                 date\n",
              "0   09/04/2014     17:25:00  ...        F  09/04/2014-17:25:00\n",
              "1   10/12/2016     07:40:00  ...        F  10/12/2016-07:40:00\n",
              "2   09/28/2012     13:30:00  ...        F  09/28/2012-13:30:00\n",
              "3   03/24/2015     15:45:00  ...        F  03/24/2015-15:45:00\n",
              "4   05/20/2017     04:02:00  ...        M  05/20/2017-04:02:00\n",
              "\n",
              "[5 rows x 18 columns]"
            ]
          },
          "metadata": {},
          "execution_count": 15
        }
      ],
      "source": [
        "data.head()"
      ]
    },
    {
      "cell_type": "code",
      "execution_count": null,
      "metadata": {
        "id": "-treiGMlPmua"
      },
      "outputs": [],
      "source": [
        "data = data.astype({\"date\": str}, errors='raise') "
      ]
    },
    {
      "cell_type": "code",
      "execution_count": null,
      "metadata": {
        "colab": {
          "base_uri": "https://localhost:8080/"
        },
        "id": "TOxlvWU2heEL",
        "outputId": "3165c0d1-5916-4a0b-e370-fd4a9b3ee902"
      },
      "outputs": [
        {
          "output_type": "stream",
          "name": "stdout",
          "text": [
            "[[1.49032290e+09]\n",
            " [1.13607366e+09]\n",
            " [1.41765300e+09]\n",
            " [1.39309572e+09]\n",
            " [1.49657040e+09]\n",
            " [1.47493980e+09]\n",
            " [1.36116360e+09]\n",
            " [1.39934880e+09]\n",
            " [1.45010340e+09]\n",
            " [1.40800860e+09]]\n"
          ]
        }
      ],
      "source": [
        "from datetime import datetime\n",
        "Timestamp = np.zeros((data.shape[0],1))\n",
        "Date = np.array(data[\"date\"])\n",
        "for i in range (data.shape[0]):\n",
        "  Timestamp[i,] = datetime.strptime(Date[i,],\"%m/%d/%Y-%H:%M:%S\").timestamp() \n",
        "print(Timestamp[10:20,])"
      ]
    },
    {
      "cell_type": "code",
      "source": [
        "for i in data.columns:\n",
        "  print(i,data[i].isnull().sum())"
      ],
      "metadata": {
        "colab": {
          "base_uri": "https://localhost:8080/"
        },
        "id": "VXnaX2NjKQqH",
        "outputId": "3e170440-aa2d-40b7-9411-45e062913dae"
      },
      "execution_count": null,
      "outputs": [
        {
          "output_type": "stream",
          "name": "stdout",
          "text": [
            "CMPLNT_FR_DT 0\n",
            "CMPLNT_FR_TM 0\n",
            "ADDR_PCT_CD 0\n",
            "KY_CD 0\n",
            "OFNS_DESC 0\n",
            "PD_CD 0\n",
            "PD_DESC 0\n",
            "CRM_ATPT_CPTD_CD 0\n",
            "BORO_NM 0\n",
            "PREM_TYP_DESC 0\n",
            "JURISDICTION_CODE 0\n",
            "Latitude 0\n",
            "Longitude 0\n",
            "PATROL_BORO 0\n",
            "VIC_AGE_GROUP 0\n",
            "VIC_RACE 0\n",
            "VIC_SEX 0\n",
            "date 0\n"
          ]
        }
      ]
    },
    {
      "cell_type": "code",
      "execution_count": null,
      "metadata": {
        "id": "_AfygF7rpAic"
      },
      "outputs": [],
      "source": [
        "data['DateTime']= pd.DataFrame(Timestamp)\n",
        "data.dropna(axis=0,how='any',inplace=True)"
      ]
    },
    {
      "cell_type": "code",
      "execution_count": null,
      "metadata": {
        "colab": {
          "base_uri": "https://localhost:8080/"
        },
        "id": "ltkkRaSWIg9D",
        "outputId": "ff0b027c-ceb5-4cd5-dd62-303fdc85d6e8"
      },
      "outputs": [
        {
          "output_type": "stream",
          "name": "stdout",
          "text": [
            "CMPLNT_FR_DT 0\n",
            "CMPLNT_FR_TM 0\n",
            "ADDR_PCT_CD 0\n",
            "KY_CD 0\n",
            "OFNS_DESC 0\n",
            "PD_CD 0\n",
            "PD_DESC 0\n",
            "CRM_ATPT_CPTD_CD 0\n",
            "BORO_NM 0\n",
            "PREM_TYP_DESC 0\n",
            "JURISDICTION_CODE 0\n",
            "Latitude 0\n",
            "Longitude 0\n",
            "PATROL_BORO 0\n",
            "VIC_AGE_GROUP 0\n",
            "VIC_RACE 0\n",
            "VIC_SEX 0\n",
            "date 0\n",
            "DateTime 0\n"
          ]
        }
      ],
      "source": [
        "for i in data.columns:\n",
        "  print(i,data[i].isnull().sum())"
      ]
    },
    {
      "cell_type": "code",
      "execution_count": null,
      "metadata": {
        "id": "7dwZeoQnx12J"
      },
      "outputs": [],
      "source": [
        "data.drop(['KY_CD'],axis=1,inplace= True)\n",
        "data.drop([\"CMPLNT_FR_DT\",\"CMPLNT_FR_TM\"],axis=1,inplace=True)\n",
        "data.drop(['date'],axis=1,inplace=True)"
      ]
    },
    {
      "cell_type": "code",
      "execution_count": null,
      "metadata": {
        "colab": {
          "base_uri": "https://localhost:8080/",
          "height": 371
        },
        "id": "p3v4B5nQk6au",
        "outputId": "a78ee433-5cf8-4ee7-f64a-4871a7539141"
      },
      "outputs": [
        {
          "output_type": "execute_result",
          "data": {
            "text/html": [
              "\n",
              "  <div id=\"df-18f5e71f-58af-4851-aeb2-a566c60cd69e\">\n",
              "    <div class=\"colab-df-container\">\n",
              "      <div>\n",
              "<style scoped>\n",
              "    .dataframe tbody tr th:only-of-type {\n",
              "        vertical-align: middle;\n",
              "    }\n",
              "\n",
              "    .dataframe tbody tr th {\n",
              "        vertical-align: top;\n",
              "    }\n",
              "\n",
              "    .dataframe thead th {\n",
              "        text-align: right;\n",
              "    }\n",
              "</style>\n",
              "<table border=\"1\" class=\"dataframe\">\n",
              "  <thead>\n",
              "    <tr style=\"text-align: right;\">\n",
              "      <th></th>\n",
              "      <th>ADDR_PCT_CD</th>\n",
              "      <th>OFNS_DESC</th>\n",
              "      <th>PD_CD</th>\n",
              "      <th>PD_DESC</th>\n",
              "      <th>CRM_ATPT_CPTD_CD</th>\n",
              "      <th>BORO_NM</th>\n",
              "      <th>PREM_TYP_DESC</th>\n",
              "      <th>JURISDICTION_CODE</th>\n",
              "      <th>Latitude</th>\n",
              "      <th>Longitude</th>\n",
              "      <th>PATROL_BORO</th>\n",
              "      <th>VIC_AGE_GROUP</th>\n",
              "      <th>VIC_RACE</th>\n",
              "      <th>VIC_SEX</th>\n",
              "      <th>DateTime</th>\n",
              "    </tr>\n",
              "  </thead>\n",
              "  <tbody>\n",
              "    <tr>\n",
              "      <th>0</th>\n",
              "      <td>81.0</td>\n",
              "      <td>ASSAULT 3 &amp; RELATED OFFENSES</td>\n",
              "      <td>101.0</td>\n",
              "      <td>ASSAULT 3</td>\n",
              "      <td>COMPLETED</td>\n",
              "      <td>BROOKLYN</td>\n",
              "      <td>STREET</td>\n",
              "      <td>0.0</td>\n",
              "      <td>40.685041</td>\n",
              "      <td>-73.921777</td>\n",
              "      <td>PATROL BORO BKLYN NORTH</td>\n",
              "      <td>25-44</td>\n",
              "      <td>WHITE</td>\n",
              "      <td>F</td>\n",
              "      <td>1.409852e+09</td>\n",
              "    </tr>\n",
              "    <tr>\n",
              "      <th>1</th>\n",
              "      <td>121.0</td>\n",
              "      <td>GRAND LARCENY</td>\n",
              "      <td>417.0</td>\n",
              "      <td>LARCENY,GRAND FROM PERSON,PURS</td>\n",
              "      <td>COMPLETED</td>\n",
              "      <td>STATEN ISLAND</td>\n",
              "      <td>STREET</td>\n",
              "      <td>0.0</td>\n",
              "      <td>40.636991</td>\n",
              "      <td>-74.134093</td>\n",
              "      <td>PATROL BORO STATEN ISLAND</td>\n",
              "      <td>45-64</td>\n",
              "      <td>WHITE HISPANIC</td>\n",
              "      <td>F</td>\n",
              "      <td>1.476258e+09</td>\n",
              "    </tr>\n",
              "    <tr>\n",
              "      <th>2</th>\n",
              "      <td>41.0</td>\n",
              "      <td>GRAND LARCENY</td>\n",
              "      <td>413.0</td>\n",
              "      <td>LARCENY,GRAND BY FALSE PROMISE</td>\n",
              "      <td>COMPLETED</td>\n",
              "      <td>BRONX</td>\n",
              "      <td>STREET</td>\n",
              "      <td>0.0</td>\n",
              "      <td>40.823876</td>\n",
              "      <td>-73.891863</td>\n",
              "      <td>PATROL BORO BRONX</td>\n",
              "      <td>45-64</td>\n",
              "      <td>WHITE HISPANIC</td>\n",
              "      <td>F</td>\n",
              "      <td>1.348839e+09</td>\n",
              "    </tr>\n",
              "    <tr>\n",
              "      <th>3</th>\n",
              "      <td>46.0</td>\n",
              "      <td>PETIT LARCENY</td>\n",
              "      <td>339.0</td>\n",
              "      <td>LARCENY,PETIT FROM OPEN AREAS,</td>\n",
              "      <td>COMPLETED</td>\n",
              "      <td>BRONX</td>\n",
              "      <td>STREET</td>\n",
              "      <td>0.0</td>\n",
              "      <td>40.845707</td>\n",
              "      <td>-73.910398</td>\n",
              "      <td>PATROL BORO BRONX</td>\n",
              "      <td>&lt;18</td>\n",
              "      <td>WHITE HISPANIC</td>\n",
              "      <td>F</td>\n",
              "      <td>1.427212e+09</td>\n",
              "    </tr>\n",
              "    <tr>\n",
              "      <th>4</th>\n",
              "      <td>109.0</td>\n",
              "      <td>ASSAULT 3 &amp; RELATED OFFENSES</td>\n",
              "      <td>101.0</td>\n",
              "      <td>ASSAULT 3</td>\n",
              "      <td>COMPLETED</td>\n",
              "      <td>QUEENS</td>\n",
              "      <td>STREET</td>\n",
              "      <td>0.0</td>\n",
              "      <td>40.763992</td>\n",
              "      <td>-73.828426</td>\n",
              "      <td>PATROL BORO QUEENS NORTH</td>\n",
              "      <td>25-44</td>\n",
              "      <td>BLACK</td>\n",
              "      <td>M</td>\n",
              "      <td>1.495253e+09</td>\n",
              "    </tr>\n",
              "  </tbody>\n",
              "</table>\n",
              "</div>\n",
              "      <button class=\"colab-df-convert\" onclick=\"convertToInteractive('df-18f5e71f-58af-4851-aeb2-a566c60cd69e')\"\n",
              "              title=\"Convert this dataframe to an interactive table.\"\n",
              "              style=\"display:none;\">\n",
              "        \n",
              "  <svg xmlns=\"http://www.w3.org/2000/svg\" height=\"24px\"viewBox=\"0 0 24 24\"\n",
              "       width=\"24px\">\n",
              "    <path d=\"M0 0h24v24H0V0z\" fill=\"none\"/>\n",
              "    <path d=\"M18.56 5.44l.94 2.06.94-2.06 2.06-.94-2.06-.94-.94-2.06-.94 2.06-2.06.94zm-11 1L8.5 8.5l.94-2.06 2.06-.94-2.06-.94L8.5 2.5l-.94 2.06-2.06.94zm10 10l.94 2.06.94-2.06 2.06-.94-2.06-.94-.94-2.06-.94 2.06-2.06.94z\"/><path d=\"M17.41 7.96l-1.37-1.37c-.4-.4-.92-.59-1.43-.59-.52 0-1.04.2-1.43.59L10.3 9.45l-7.72 7.72c-.78.78-.78 2.05 0 2.83L4 21.41c.39.39.9.59 1.41.59.51 0 1.02-.2 1.41-.59l7.78-7.78 2.81-2.81c.8-.78.8-2.07 0-2.86zM5.41 20L4 18.59l7.72-7.72 1.47 1.35L5.41 20z\"/>\n",
              "  </svg>\n",
              "      </button>\n",
              "      \n",
              "  <style>\n",
              "    .colab-df-container {\n",
              "      display:flex;\n",
              "      flex-wrap:wrap;\n",
              "      gap: 12px;\n",
              "    }\n",
              "\n",
              "    .colab-df-convert {\n",
              "      background-color: #E8F0FE;\n",
              "      border: none;\n",
              "      border-radius: 50%;\n",
              "      cursor: pointer;\n",
              "      display: none;\n",
              "      fill: #1967D2;\n",
              "      height: 32px;\n",
              "      padding: 0 0 0 0;\n",
              "      width: 32px;\n",
              "    }\n",
              "\n",
              "    .colab-df-convert:hover {\n",
              "      background-color: #E2EBFA;\n",
              "      box-shadow: 0px 1px 2px rgba(60, 64, 67, 0.3), 0px 1px 3px 1px rgba(60, 64, 67, 0.15);\n",
              "      fill: #174EA6;\n",
              "    }\n",
              "\n",
              "    [theme=dark] .colab-df-convert {\n",
              "      background-color: #3B4455;\n",
              "      fill: #D2E3FC;\n",
              "    }\n",
              "\n",
              "    [theme=dark] .colab-df-convert:hover {\n",
              "      background-color: #434B5C;\n",
              "      box-shadow: 0px 1px 3px 1px rgba(0, 0, 0, 0.15);\n",
              "      filter: drop-shadow(0px 1px 2px rgba(0, 0, 0, 0.3));\n",
              "      fill: #FFFFFF;\n",
              "    }\n",
              "  </style>\n",
              "\n",
              "      <script>\n",
              "        const buttonEl =\n",
              "          document.querySelector('#df-18f5e71f-58af-4851-aeb2-a566c60cd69e button.colab-df-convert');\n",
              "        buttonEl.style.display =\n",
              "          google.colab.kernel.accessAllowed ? 'block' : 'none';\n",
              "\n",
              "        async function convertToInteractive(key) {\n",
              "          const element = document.querySelector('#df-18f5e71f-58af-4851-aeb2-a566c60cd69e');\n",
              "          const dataTable =\n",
              "            await google.colab.kernel.invokeFunction('convertToInteractive',\n",
              "                                                     [key], {});\n",
              "          if (!dataTable) return;\n",
              "\n",
              "          const docLinkHtml = 'Like what you see? Visit the ' +\n",
              "            '<a target=\"_blank\" href=https://colab.research.google.com/notebooks/data_table.ipynb>data table notebook</a>'\n",
              "            + ' to learn more about interactive tables.';\n",
              "          element.innerHTML = '';\n",
              "          dataTable['output_type'] = 'display_data';\n",
              "          await google.colab.output.renderOutput(dataTable, element);\n",
              "          const docLink = document.createElement('div');\n",
              "          docLink.innerHTML = docLinkHtml;\n",
              "          element.appendChild(docLink);\n",
              "        }\n",
              "      </script>\n",
              "    </div>\n",
              "  </div>\n",
              "  "
            ],
            "text/plain": [
              "   ADDR_PCT_CD                     OFNS_DESC  ...  VIC_SEX      DateTime\n",
              "0         81.0  ASSAULT 3 & RELATED OFFENSES  ...        F  1.409852e+09\n",
              "1        121.0                 GRAND LARCENY  ...        F  1.476258e+09\n",
              "2         41.0                 GRAND LARCENY  ...        F  1.348839e+09\n",
              "3         46.0                 PETIT LARCENY  ...        F  1.427212e+09\n",
              "4        109.0  ASSAULT 3 & RELATED OFFENSES  ...        M  1.495253e+09\n",
              "\n",
              "[5 rows x 15 columns]"
            ]
          },
          "metadata": {},
          "execution_count": 22
        }
      ],
      "source": [
        "data.head()"
      ]
    },
    {
      "cell_type": "code",
      "execution_count": null,
      "metadata": {
        "colab": {
          "base_uri": "https://localhost:8080/"
        },
        "id": "Nibsci90prij",
        "outputId": "e6b48879-80ef-448a-e67f-e5e2f13e8380"
      },
      "outputs": [
        {
          "output_type": "stream",
          "name": "stdout",
          "text": [
            " We will work with 16 classes\n"
          ]
        }
      ],
      "source": [
        "OFNS_DESC = Counter(data['OFNS_DESC'])\n",
        "crimes = {}\n",
        "crimes_dict = {}\n",
        "not_consid=[]\n",
        "for i,j in OFNS_DESC.items():\n",
        "  crimes[i]=j\n",
        "for i in crimes.keys():\n",
        "  if crimes[i] >= 40000:\n",
        "    crimes_dict[i] = crimes[i]\n",
        "  else:\n",
        "    not_consid.append(i)\n",
        "print(' We will work with {} classes'.format(len(crimes_dict.keys())))"
      ]
    },
    {
      "cell_type": "code",
      "execution_count": null,
      "metadata": {
        "id": "AvHdmGzpqMt7"
      },
      "outputs": [],
      "source": [
        "# crimes_dataset = data[data['OFNS_DESC'] in list(crimes_dict.keys())] df_row = pd.concat([df1, df2])\n",
        "dataset = pd.DataFrame()\n",
        "for crime in (crimes_dict.keys()):\n",
        "  dataset = pd.concat([data[data['OFNS_DESC']==crime],dataset],axis=0)"
      ]
    },
    {
      "cell_type": "code",
      "execution_count": null,
      "metadata": {
        "colab": {
          "base_uri": "https://localhost:8080/"
        },
        "id": "JhJ_fVo7_k73",
        "outputId": "e66c3c2f-d108-413b-8ce9-eec73810fd48"
      },
      "outputs": [
        {
          "output_type": "stream",
          "name": "stdout",
          "text": [
            "ROBBERY : 174292\n",
            "THEFT-FRAUD : 51458\n",
            "DANGEROUS DRUGS : 52165\n",
            "GRAND LARCENY OF MOTOR VEHICLE : 88316\n",
            "VEHICLE AND TRAFFIC LAWS : 48268\n",
            "OFFENSES AGAINST PUBLIC ADMINI : 56398\n",
            "MISCELLANEOUS PENAL LAW : 92638\n",
            "FELONY ASSAULT : 178053\n",
            "OFF. AGNST PUB ORD SENSBLTY & : 265063\n",
            "CRIMINAL MISCHIEF & RELATED OF : 390346\n",
            "BURGLARY : 136525\n",
            "SEX CRIMES : 59744\n",
            "HARRASSMENT 2 : 629696\n",
            "PETIT LARCENY : 624237\n",
            "GRAND LARCENY : 391634\n",
            "ASSAULT 3 & RELATED OFFENSES : 519937\n",
            "------------------------------------------\n",
            "We have now 16 classes\n"
          ]
        }
      ],
      "source": [
        "from collections import Counter\n",
        "nbr_classe = Counter(dataset['OFNS_DESC'])\n",
        "for i,j in nbr_classe.items():\n",
        "  print(i,':',j)\n",
        "print('------------------------------------------')\n",
        "print('We have now {} classes'.format(len(nbr_classe.keys())))"
      ]
    },
    {
      "cell_type": "code",
      "execution_count": null,
      "metadata": {
        "colab": {
          "base_uri": "https://localhost:8080/",
          "height": 166
        },
        "id": "pK4oGZB4wiPY",
        "outputId": "f3814732-2e18-428f-90a8-a2ac7af0547f"
      },
      "outputs": [
        {
          "output_type": "error",
          "ename": "NameError",
          "evalue": "ignored",
          "traceback": [
            "\u001b[0;31m---------------------------------------------------------------------------\u001b[0m",
            "\u001b[0;31mNameError\u001b[0m                                 Traceback (most recent call last)",
            "\u001b[0;32m<ipython-input-1-a62c974a6759>\u001b[0m in \u001b[0;36m<module>\u001b[0;34m()\u001b[0m\n\u001b[0;32m----> 1\u001b[0;31m \u001b[0mdataset\u001b[0m\u001b[0;34m.\u001b[0m\u001b[0mshape\u001b[0m\u001b[0;34m\u001b[0m\u001b[0;34m\u001b[0m\u001b[0m\n\u001b[0m",
            "\u001b[0;31mNameError\u001b[0m: name 'dataset' is not defined"
          ]
        }
      ],
      "source": [
        "dataset.shape"
      ]
    },
    {
      "cell_type": "code",
      "execution_count": null,
      "metadata": {
        "id": "bPthtz9P7PU3"
      },
      "outputs": [],
      "source": [
        "dataset.to_csv(\"Crime_type_detection_filtred_n.csv\")"
      ]
    },
    {
      "cell_type": "markdown",
      "metadata": {
        "id": "R5AbmkgvAe_x"
      },
      "source": [
        "#NEW"
      ]
    },
    {
      "cell_type": "markdown",
      "metadata": {
        "id": "RZlWclSRAnES"
      },
      "source": [
        "## We will just upload to our environment the filtred dataset to free some memory space"
      ]
    },
    {
      "cell_type": "code",
      "execution_count": null,
      "metadata": {
        "id": "qmpWRIaaAu_4"
      },
      "outputs": [],
      "source": [
        "import numpy as np\n",
        "import pandas as pd\n",
        "import seaborn as sns\n",
        "import matplotlib.pyplot as plt\n",
        "from collections import Counter\n",
        "import os"
      ]
    },
    {
      "cell_type": "code",
      "execution_count": null,
      "metadata": {
        "id": "S2KaaxuYAUs0"
      },
      "outputs": [],
      "source": [
        "df = pd.read_csv(\"/content/drive/MyDrive/Crimes Detection/NY_crimes/Crime_type_detection_filtred_n.csv\")"
      ]
    },
    {
      "cell_type": "code",
      "execution_count": null,
      "metadata": {
        "colab": {
          "base_uri": "https://localhost:8080/",
          "height": 512
        },
        "id": "6IqaP__3pTiI",
        "outputId": "0595ee1d-14ce-4618-c662-a7aee9c6863e"
      },
      "outputs": [
        {
          "output_type": "execute_result",
          "data": {
            "text/html": [
              "\n",
              "  <div id=\"df-386dbf28-eb22-44f6-952e-0c95831ce071\">\n",
              "    <div class=\"colab-df-container\">\n",
              "      <div>\n",
              "<style scoped>\n",
              "    .dataframe tbody tr th:only-of-type {\n",
              "        vertical-align: middle;\n",
              "    }\n",
              "\n",
              "    .dataframe tbody tr th {\n",
              "        vertical-align: top;\n",
              "    }\n",
              "\n",
              "    .dataframe thead th {\n",
              "        text-align: right;\n",
              "    }\n",
              "</style>\n",
              "<table border=\"1\" class=\"dataframe\">\n",
              "  <thead>\n",
              "    <tr style=\"text-align: right;\">\n",
              "      <th></th>\n",
              "      <th>Unnamed: 0</th>\n",
              "      <th>ADDR_PCT_CD</th>\n",
              "      <th>OFNS_DESC</th>\n",
              "      <th>PD_CD</th>\n",
              "      <th>PD_DESC</th>\n",
              "      <th>CRM_ATPT_CPTD_CD</th>\n",
              "      <th>BORO_NM</th>\n",
              "      <th>PREM_TYP_DESC</th>\n",
              "      <th>JURISDICTION_CODE</th>\n",
              "      <th>Latitude</th>\n",
              "      <th>Longitude</th>\n",
              "      <th>PATROL_BORO</th>\n",
              "      <th>VIC_AGE_GROUP</th>\n",
              "      <th>VIC_RACE</th>\n",
              "      <th>VIC_SEX</th>\n",
              "      <th>DateTime</th>\n",
              "    </tr>\n",
              "  </thead>\n",
              "  <tbody>\n",
              "    <tr>\n",
              "      <th>0</th>\n",
              "      <td>94</td>\n",
              "      <td>47.0</td>\n",
              "      <td>ROBBERY</td>\n",
              "      <td>380.0</td>\n",
              "      <td>ROBBERY,CAR JACKING</td>\n",
              "      <td>COMPLETED</td>\n",
              "      <td>BRONX</td>\n",
              "      <td>STREET</td>\n",
              "      <td>0.0</td>\n",
              "      <td>40.887644</td>\n",
              "      <td>-73.852103</td>\n",
              "      <td>PATROL BORO BRONX</td>\n",
              "      <td>25-44</td>\n",
              "      <td>WHITE HISPANIC</td>\n",
              "      <td>M</td>\n",
              "      <td>1.488785e+09</td>\n",
              "    </tr>\n",
              "    <tr>\n",
              "      <th>1</th>\n",
              "      <td>101</td>\n",
              "      <td>115.0</td>\n",
              "      <td>ROBBERY</td>\n",
              "      <td>397.0</td>\n",
              "      <td>ROBBERY,OPEN AREA UNCLASSIFIED</td>\n",
              "      <td>COMPLETED</td>\n",
              "      <td>QUEENS</td>\n",
              "      <td>STREET</td>\n",
              "      <td>0.0</td>\n",
              "      <td>40.753515</td>\n",
              "      <td>-73.856826</td>\n",
              "      <td>PATROL BORO QUEENS NORTH</td>\n",
              "      <td>25-44</td>\n",
              "      <td>BLACK HISPANIC</td>\n",
              "      <td>M</td>\n",
              "      <td>1.448798e+09</td>\n",
              "    </tr>\n",
              "    <tr>\n",
              "      <th>2</th>\n",
              "      <td>207</td>\n",
              "      <td>67.0</td>\n",
              "      <td>ROBBERY</td>\n",
              "      <td>382.0</td>\n",
              "      <td>ROBBERY,NECKCHAIN/JEWELRY</td>\n",
              "      <td>ATTEMPTED</td>\n",
              "      <td>BROOKLYN</td>\n",
              "      <td>STREET</td>\n",
              "      <td>0.0</td>\n",
              "      <td>40.652327</td>\n",
              "      <td>-73.927517</td>\n",
              "      <td>PATROL BORO BKLYN SOUTH</td>\n",
              "      <td>25-44</td>\n",
              "      <td>BLACK</td>\n",
              "      <td>F</td>\n",
              "      <td>1.353940e+09</td>\n",
              "    </tr>\n",
              "    <tr>\n",
              "      <th>3</th>\n",
              "      <td>234</td>\n",
              "      <td>106.0</td>\n",
              "      <td>ROBBERY</td>\n",
              "      <td>389.0</td>\n",
              "      <td>ROBBERY,DWELLING</td>\n",
              "      <td>COMPLETED</td>\n",
              "      <td>QUEENS</td>\n",
              "      <td>RESIDENCE-HOUSE</td>\n",
              "      <td>0.0</td>\n",
              "      <td>40.682983</td>\n",
              "      <td>-73.832434</td>\n",
              "      <td>PATROL BORO QUEENS SOUTH</td>\n",
              "      <td>25-44</td>\n",
              "      <td>ASIAN / PACIFIC ISLANDER</td>\n",
              "      <td>M</td>\n",
              "      <td>1.476371e+09</td>\n",
              "    </tr>\n",
              "    <tr>\n",
              "      <th>4</th>\n",
              "      <td>270</td>\n",
              "      <td>6.0</td>\n",
              "      <td>ROBBERY</td>\n",
              "      <td>396.0</td>\n",
              "      <td>ROBBERY,BEGIN AS SHOPLIFTING</td>\n",
              "      <td>COMPLETED</td>\n",
              "      <td>MANHATTAN</td>\n",
              "      <td>CHAIN STORE</td>\n",
              "      <td>0.0</td>\n",
              "      <td>40.735036</td>\n",
              "      <td>-73.991237</td>\n",
              "      <td>PATROL BORO MAN SOUTH</td>\n",
              "      <td>UNKNOWN</td>\n",
              "      <td>BLACK</td>\n",
              "      <td>D</td>\n",
              "      <td>1.465769e+09</td>\n",
              "    </tr>\n",
              "  </tbody>\n",
              "</table>\n",
              "</div>\n",
              "      <button class=\"colab-df-convert\" onclick=\"convertToInteractive('df-386dbf28-eb22-44f6-952e-0c95831ce071')\"\n",
              "              title=\"Convert this dataframe to an interactive table.\"\n",
              "              style=\"display:none;\">\n",
              "        \n",
              "  <svg xmlns=\"http://www.w3.org/2000/svg\" height=\"24px\"viewBox=\"0 0 24 24\"\n",
              "       width=\"24px\">\n",
              "    <path d=\"M0 0h24v24H0V0z\" fill=\"none\"/>\n",
              "    <path d=\"M18.56 5.44l.94 2.06.94-2.06 2.06-.94-2.06-.94-.94-2.06-.94 2.06-2.06.94zm-11 1L8.5 8.5l.94-2.06 2.06-.94-2.06-.94L8.5 2.5l-.94 2.06-2.06.94zm10 10l.94 2.06.94-2.06 2.06-.94-2.06-.94-.94-2.06-.94 2.06-2.06.94z\"/><path d=\"M17.41 7.96l-1.37-1.37c-.4-.4-.92-.59-1.43-.59-.52 0-1.04.2-1.43.59L10.3 9.45l-7.72 7.72c-.78.78-.78 2.05 0 2.83L4 21.41c.39.39.9.59 1.41.59.51 0 1.02-.2 1.41-.59l7.78-7.78 2.81-2.81c.8-.78.8-2.07 0-2.86zM5.41 20L4 18.59l7.72-7.72 1.47 1.35L5.41 20z\"/>\n",
              "  </svg>\n",
              "      </button>\n",
              "      \n",
              "  <style>\n",
              "    .colab-df-container {\n",
              "      display:flex;\n",
              "      flex-wrap:wrap;\n",
              "      gap: 12px;\n",
              "    }\n",
              "\n",
              "    .colab-df-convert {\n",
              "      background-color: #E8F0FE;\n",
              "      border: none;\n",
              "      border-radius: 50%;\n",
              "      cursor: pointer;\n",
              "      display: none;\n",
              "      fill: #1967D2;\n",
              "      height: 32px;\n",
              "      padding: 0 0 0 0;\n",
              "      width: 32px;\n",
              "    }\n",
              "\n",
              "    .colab-df-convert:hover {\n",
              "      background-color: #E2EBFA;\n",
              "      box-shadow: 0px 1px 2px rgba(60, 64, 67, 0.3), 0px 1px 3px 1px rgba(60, 64, 67, 0.15);\n",
              "      fill: #174EA6;\n",
              "    }\n",
              "\n",
              "    [theme=dark] .colab-df-convert {\n",
              "      background-color: #3B4455;\n",
              "      fill: #D2E3FC;\n",
              "    }\n",
              "\n",
              "    [theme=dark] .colab-df-convert:hover {\n",
              "      background-color: #434B5C;\n",
              "      box-shadow: 0px 1px 3px 1px rgba(0, 0, 0, 0.15);\n",
              "      filter: drop-shadow(0px 1px 2px rgba(0, 0, 0, 0.3));\n",
              "      fill: #FFFFFF;\n",
              "    }\n",
              "  </style>\n",
              "\n",
              "      <script>\n",
              "        const buttonEl =\n",
              "          document.querySelector('#df-386dbf28-eb22-44f6-952e-0c95831ce071 button.colab-df-convert');\n",
              "        buttonEl.style.display =\n",
              "          google.colab.kernel.accessAllowed ? 'block' : 'none';\n",
              "\n",
              "        async function convertToInteractive(key) {\n",
              "          const element = document.querySelector('#df-386dbf28-eb22-44f6-952e-0c95831ce071');\n",
              "          const dataTable =\n",
              "            await google.colab.kernel.invokeFunction('convertToInteractive',\n",
              "                                                     [key], {});\n",
              "          if (!dataTable) return;\n",
              "\n",
              "          const docLinkHtml = 'Like what you see? Visit the ' +\n",
              "            '<a target=\"_blank\" href=https://colab.research.google.com/notebooks/data_table.ipynb>data table notebook</a>'\n",
              "            + ' to learn more about interactive tables.';\n",
              "          element.innerHTML = '';\n",
              "          dataTable['output_type'] = 'display_data';\n",
              "          await google.colab.output.renderOutput(dataTable, element);\n",
              "          const docLink = document.createElement('div');\n",
              "          docLink.innerHTML = docLinkHtml;\n",
              "          element.appendChild(docLink);\n",
              "        }\n",
              "      </script>\n",
              "    </div>\n",
              "  </div>\n",
              "  "
            ],
            "text/plain": [
              "   Unnamed: 0  ADDR_PCT_CD  ... VIC_SEX      DateTime\n",
              "0          94         47.0  ...       M  1.488785e+09\n",
              "1         101        115.0  ...       M  1.448798e+09\n",
              "2         207         67.0  ...       F  1.353940e+09\n",
              "3         234        106.0  ...       M  1.476371e+09\n",
              "4         270          6.0  ...       D  1.465769e+09\n",
              "\n",
              "[5 rows x 16 columns]"
            ]
          },
          "metadata": {},
          "execution_count": 3
        }
      ],
      "source": [
        "df.head()"
      ]
    },
    {
      "cell_type": "markdown",
      "metadata": {
        "id": "I6lrl2buBUuY"
      },
      "source": [
        "## Data Encoding"
      ]
    },
    {
      "cell_type": "code",
      "execution_count": null,
      "metadata": {
        "colab": {
          "base_uri": "https://localhost:8080/"
        },
        "id": "Pt8V_SdjBTlq",
        "outputId": "61cfeab0-2e60-46b2-b78c-c8e79289af7f"
      },
      "outputs": [
        {
          "output_type": "execute_result",
          "data": {
            "text/plain": [
              "183"
            ]
          },
          "metadata": {},
          "execution_count": 4
        }
      ],
      "source": [
        "df['VIC_AGE_GROUP'].nunique()"
      ]
    },
    {
      "cell_type": "code",
      "execution_count": null,
      "metadata": {
        "colab": {
          "base_uri": "https://localhost:8080/"
        },
        "id": "bN9TREkIJRqw",
        "outputId": "1d58db55-810b-43fe-aff7-3603afa13f7d"
      },
      "outputs": [
        {
          "output_type": "stream",
          "name": "stdout",
          "text": [
            "25-44 : 1655146\n",
            "UNKNOWN : 323445\n",
            "18-24 : 519187\n",
            "45-64 : 848989\n",
            "<18 : 240666\n",
            "65+ : 170955\n"
          ]
        }
      ],
      "source": [
        "age_dict = Counter(df['VIC_AGE_GROUP'])\n",
        "c=6;\n",
        "age=[]\n",
        "for i,j in age_dict.items():\n",
        "  print(i,':',j)\n",
        "  c-=1\n",
        "  if c==0:\n",
        "    break\n",
        "  age.append(i)"
      ]
    },
    {
      "cell_type": "code",
      "execution_count": null,
      "metadata": {
        "colab": {
          "base_uri": "https://localhost:8080/"
        },
        "id": "EzjaUk5KVRZu",
        "outputId": "f128333d-7379-465d-a305-bc3b35f44443"
      },
      "outputs": [
        {
          "output_type": "stream",
          "name": "stdout",
          "text": [
            "WHITE HISPANIC : 798359\n",
            "BLACK HISPANIC : 165087\n",
            "BLACK : 1180609\n",
            "ASIAN / PACIFIC ISLANDER : 275450\n",
            "AMERICAN INDIAN/ALASKAN NATIVE : 22757\n",
            "WHITE : 860756\n",
            "UNKNOWN : 455724\n",
            "OTHER : 28\n"
          ]
        }
      ],
      "source": [
        "race_dict = Counter(df['VIC_RACE'])\n",
        "for i,j in race_dict.items():\n",
        "  print(i,':',j)"
      ]
    },
    {
      "cell_type": "code",
      "execution_count": null,
      "metadata": {
        "id": "TQJtYNVuJxpO"
      },
      "outputs": [],
      "source": [
        "dataframe_f = pd.DataFrame()\n",
        "for AGE in age:\n",
        "  dataframe_f = pd.concat([df[df['VIC_AGE_GROUP']==AGE],dataframe_f],axis=0)"
      ]
    },
    {
      "cell_type": "code",
      "execution_count": null,
      "metadata": {
        "colab": {
          "base_uri": "https://localhost:8080/"
        },
        "id": "1whD_48XTEtc",
        "outputId": "d00fdab9-6bdc-4b60-9876-164d5994a283"
      },
      "outputs": [
        {
          "output_type": "stream",
          "name": "stdout",
          "text": [
            "Collecting category_encoders\n",
            "  Downloading category_encoders-2.3.0-py2.py3-none-any.whl (82 kB)\n",
            "\u001b[?25l\r\u001b[K     |████                            | 10 kB 19.4 MB/s eta 0:00:01\r\u001b[K     |████████                        | 20 kB 11.8 MB/s eta 0:00:01\r\u001b[K     |████████████                    | 30 kB 9.7 MB/s eta 0:00:01\r\u001b[K     |████████████████                | 40 kB 8.7 MB/s eta 0:00:01\r\u001b[K     |████████████████████            | 51 kB 5.6 MB/s eta 0:00:01\r\u001b[K     |████████████████████████        | 61 kB 5.2 MB/s eta 0:00:01\r\u001b[K     |████████████████████████████    | 71 kB 5.5 MB/s eta 0:00:01\r\u001b[K     |███████████████████████████████▉| 81 kB 6.2 MB/s eta 0:00:01\r\u001b[K     |████████████████████████████████| 82 kB 347 kB/s \n",
            "\u001b[?25hRequirement already satisfied: patsy>=0.5.1 in /usr/local/lib/python3.7/dist-packages (from category_encoders) (0.5.2)\n",
            "Requirement already satisfied: numpy>=1.14.0 in /usr/local/lib/python3.7/dist-packages (from category_encoders) (1.19.5)\n",
            "Requirement already satisfied: pandas>=0.21.1 in /usr/local/lib/python3.7/dist-packages (from category_encoders) (1.1.5)\n",
            "Requirement already satisfied: scipy>=1.0.0 in /usr/local/lib/python3.7/dist-packages (from category_encoders) (1.4.1)\n",
            "Requirement already satisfied: statsmodels>=0.9.0 in /usr/local/lib/python3.7/dist-packages (from category_encoders) (0.10.2)\n",
            "Requirement already satisfied: scikit-learn>=0.20.0 in /usr/local/lib/python3.7/dist-packages (from category_encoders) (1.0.1)\n",
            "Requirement already satisfied: pytz>=2017.2 in /usr/local/lib/python3.7/dist-packages (from pandas>=0.21.1->category_encoders) (2018.9)\n",
            "Requirement already satisfied: python-dateutil>=2.7.3 in /usr/local/lib/python3.7/dist-packages (from pandas>=0.21.1->category_encoders) (2.8.2)\n",
            "Requirement already satisfied: six in /usr/local/lib/python3.7/dist-packages (from patsy>=0.5.1->category_encoders) (1.15.0)\n",
            "Requirement already satisfied: joblib>=0.11 in /usr/local/lib/python3.7/dist-packages (from scikit-learn>=0.20.0->category_encoders) (1.1.0)\n",
            "Requirement already satisfied: threadpoolctl>=2.0.0 in /usr/local/lib/python3.7/dist-packages (from scikit-learn>=0.20.0->category_encoders) (3.0.0)\n",
            "Installing collected packages: category-encoders\n",
            "Successfully installed category-encoders-2.3.0\n"
          ]
        }
      ],
      "source": [
        "% pip install category_encoders"
      ]
    },
    {
      "cell_type": "code",
      "source": [
        "dataframe_f[\"PD_CD\"].nunique()"
      ],
      "metadata": {
        "colab": {
          "base_uri": "https://localhost:8080/"
        },
        "id": "gVAYodMJWrNX",
        "outputId": "49e65b9d-6a0b-47d9-b2dc-fdfe8db8af8b"
      },
      "execution_count": null,
      "outputs": [
        {
          "output_type": "execute_result",
          "data": {
            "text/plain": [
              "264"
            ]
          },
          "metadata": {},
          "execution_count": 40
        }
      ]
    },
    {
      "cell_type": "code",
      "execution_count": null,
      "metadata": {
        "colab": {
          "base_uri": "https://localhost:8080/"
        },
        "id": "nuOecKoeRmW9",
        "outputId": "917ae565-2754-4b8f-a52b-84d3bb82db64"
      },
      "outputs": [
        {
          "output_type": "stream",
          "name": "stderr",
          "text": [
            "/usr/local/lib/python3.7/dist-packages/statsmodels/tools/_testing.py:19: FutureWarning: pandas.util.testing is deprecated. Use the functions in the public API at pandas.testing instead.\n",
            "  import pandas.util.testing as tm\n"
          ]
        }
      ],
      "source": [
        "import category_encoders as cat_en\n",
        "binary_encoder = cat_en.BinaryEncoder()\n",
        "dataframe_f_bin= binary_encoder.fit_transform(dataframe_f[[\"PATROL_BORO\",\"PREM_TYP_DESC\",\"BORO_NM\",\"VIC_AGE_GROUP\",\"VIC_SEX\",\"VIC_RACE\"]])\n",
        "# \"PD_DESC\"\"CRM_ATPT_CPTD_CD\",\"PREM_TYP_DESC\","
      ]
    },
    {
      "cell_type": "code",
      "execution_count": null,
      "metadata": {
        "id": "lMH2TxuJTBoI"
      },
      "outputs": [],
      "source": [
        "dataframe_f.drop([\"CRM_ATPT_CPTD_CD\",\"JURISDICTION_CODE\",\"PD_DESC\",\"PD_CD\"],axis=1,inplace=True)"
      ]
    },
    {
      "cell_type": "code",
      "execution_count": null,
      "metadata": {
        "id": "n7ry8h0pTR5a"
      },
      "outputs": [],
      "source": [
        "# from sklearn.preprocessing import OrdinalEncoder\n",
        "# AGE = ['UNKNOWN','65+','45-64','25-44','18-24','<18']\n",
        "# SEX = ['D','E','F','M']\n",
        "# RACE = ['OTHER','AMERICAN INDIAN/ALASKAN NATIVE','BLACK HISPANIC','ASIAN / PACIFIC ISLANDER','UNKNOWN','WHITE','WHITE HISPANIC','BLACK']\n",
        "\n",
        "# end_age = OrdinalEncoder(categories=[AGE])\n",
        "# dataframe_f['VIC_AGE_GROUP']=end_age.fit_transform(dataframe_f.loc[:,['VIC_AGE_GROUP']])\n",
        "\n",
        "# end_sex = OrdinalEncoder(categories=[SEX])\n",
        "# dataframe_f['VIC_SEX']=end_sex.fit_transform(dataframe_f.loc[:,['VIC_SEX']])\n",
        "\n",
        "# end_race= OrdinalEncoder(categories=[RACE])\n",
        "# dataframe_f['VIC_RACE']=end_race.fit_transform(dataframe_f.loc[:,['VIC_RACE']])"
      ]
    },
    {
      "cell_type": "code",
      "execution_count": null,
      "metadata": {
        "id": "CJlX3uHTcQ8V"
      },
      "outputs": [],
      "source": [
        "from sklearn.preprocessing import LabelEncoder\n",
        "labelencoder = LabelEncoder() \n",
        "dataframe_f[\"OFNS_DESC\"] = labelencoder.fit_transform(dataframe_f[\"OFNS_DESC\"])"
      ]
    },
    {
      "cell_type": "code",
      "source": [
        "Target_df=dataframe_f[['Target','OFNS_DESC']]\n",
        "Target_dict={}\n",
        "for i in Target_df['OFNS_DESC'].unique():\n",
        "  c = Target_df[Target_df['OFNS_DESC']==i]\n",
        "  print(c)\n",
        "  Target_dict[i]=c['Target'].iloc[0]\n",
        "  continue"
      ],
      "metadata": {
        "colab": {
          "base_uri": "https://localhost:8080/"
        },
        "id": "ZYsosEY-oFVa",
        "outputId": "a3f513f6-17b6-45d5-c3b3-ac80fdbcc857"
      },
      "execution_count": null,
      "outputs": [
        {
          "output_type": "stream",
          "name": "stdout",
          "text": [
            "        Target OFNS_DESC\n",
            "7           12   ROBBERY\n",
            "17          12   ROBBERY\n",
            "27          12   ROBBERY\n",
            "29          12   ROBBERY\n",
            "31          12   ROBBERY\n",
            "...        ...       ...\n",
            "174284      12   ROBBERY\n",
            "174285      12   ROBBERY\n",
            "174286      12   ROBBERY\n",
            "174288      12   ROBBERY\n",
            "174290      12   ROBBERY\n",
            "\n",
            "[169088 rows x 2 columns]\n",
            "        Target    OFNS_DESC\n",
            "174307      14  THEFT-FRAUD\n",
            "174454      14  THEFT-FRAUD\n",
            "174518      14  THEFT-FRAUD\n",
            "174724      14  THEFT-FRAUD\n",
            "174779      14  THEFT-FRAUD\n",
            "...        ...          ...\n",
            "225738      14  THEFT-FRAUD\n",
            "225739      14  THEFT-FRAUD\n",
            "225740      14  THEFT-FRAUD\n",
            "225745      14  THEFT-FRAUD\n",
            "225746      14  THEFT-FRAUD\n",
            "\n",
            "[46040 rows x 2 columns]\n",
            "        Target        OFNS_DESC\n",
            "226441       3  DANGEROUS DRUGS\n",
            "227963       3  DANGEROUS DRUGS\n",
            "229851       3  DANGEROUS DRUGS\n",
            "232098       3  DANGEROUS DRUGS\n",
            "232286       3  DANGEROUS DRUGS\n",
            "...        ...              ...\n",
            "277055       3  DANGEROUS DRUGS\n",
            "277089       3  DANGEROUS DRUGS\n",
            "277096       3  DANGEROUS DRUGS\n",
            "277103       3  DANGEROUS DRUGS\n",
            "277415       3  DANGEROUS DRUGS\n",
            "\n",
            "[52094 rows x 2 columns]\n",
            "        Target                       OFNS_DESC\n",
            "280320       6  GRAND LARCENY OF MOTOR VEHICLE\n",
            "281440       6  GRAND LARCENY OF MOTOR VEHICLE\n",
            "287452       6  GRAND LARCENY OF MOTOR VEHICLE\n",
            "290124       6  GRAND LARCENY OF MOTOR VEHICLE\n",
            "290996       6  GRAND LARCENY OF MOTOR VEHICLE\n",
            "...        ...                             ...\n",
            "366222       6  GRAND LARCENY OF MOTOR VEHICLE\n",
            "366223       6  GRAND LARCENY OF MOTOR VEHICLE\n",
            "366226       6  GRAND LARCENY OF MOTOR VEHICLE\n",
            "366228       6  GRAND LARCENY OF MOTOR VEHICLE\n",
            "366230       6  GRAND LARCENY OF MOTOR VEHICLE\n",
            "\n",
            "[82623 rows x 2 columns]\n",
            "        Target                 OFNS_DESC\n",
            "366239      15  VEHICLE AND TRAFFIC LAWS\n",
            "366243      15  VEHICLE AND TRAFFIC LAWS\n",
            "366250      15  VEHICLE AND TRAFFIC LAWS\n",
            "366258      15  VEHICLE AND TRAFFIC LAWS\n",
            "366263      15  VEHICLE AND TRAFFIC LAWS\n",
            "...        ...                       ...\n",
            "414485      15  VEHICLE AND TRAFFIC LAWS\n",
            "414488      15  VEHICLE AND TRAFFIC LAWS\n",
            "414490      15  VEHICLE AND TRAFFIC LAWS\n",
            "414494      15  VEHICLE AND TRAFFIC LAWS\n",
            "414497      15  VEHICLE AND TRAFFIC LAWS\n",
            "\n",
            "[45614 rows x 2 columns]\n",
            "        Target                       OFNS_DESC\n",
            "414512      10  OFFENSES AGAINST PUBLIC ADMINI\n",
            "414578      10  OFFENSES AGAINST PUBLIC ADMINI\n",
            "414629      10  OFFENSES AGAINST PUBLIC ADMINI\n",
            "414670      10  OFFENSES AGAINST PUBLIC ADMINI\n",
            "414685      10  OFFENSES AGAINST PUBLIC ADMINI\n",
            "...        ...                             ...\n",
            "470884      10  OFFENSES AGAINST PUBLIC ADMINI\n",
            "470885      10  OFFENSES AGAINST PUBLIC ADMINI\n",
            "470887      10  OFFENSES AGAINST PUBLIC ADMINI\n",
            "470888      10  OFFENSES AGAINST PUBLIC ADMINI\n",
            "470893      10  OFFENSES AGAINST PUBLIC ADMINI\n",
            "\n",
            "[54683 rows x 2 columns]\n",
            "        Target                OFNS_DESC\n",
            "470919       8  MISCELLANEOUS PENAL LAW\n",
            "470955       8  MISCELLANEOUS PENAL LAW\n",
            "471017       8  MISCELLANEOUS PENAL LAW\n",
            "471021       8  MISCELLANEOUS PENAL LAW\n",
            "471029       8  MISCELLANEOUS PENAL LAW\n",
            "...        ...                      ...\n",
            "563520       8  MISCELLANEOUS PENAL LAW\n",
            "563522       8  MISCELLANEOUS PENAL LAW\n",
            "563524       8  MISCELLANEOUS PENAL LAW\n",
            "563529       8  MISCELLANEOUS PENAL LAW\n",
            "563533       8  MISCELLANEOUS PENAL LAW\n",
            "\n",
            "[88781 rows x 2 columns]\n",
            "        Target       OFNS_DESC\n",
            "563562       4  FELONY ASSAULT\n",
            "563575       4  FELONY ASSAULT\n",
            "563579       4  FELONY ASSAULT\n",
            "563590       4  FELONY ASSAULT\n",
            "563601       4  FELONY ASSAULT\n",
            "...        ...             ...\n",
            "741576       4  FELONY ASSAULT\n",
            "741578       4  FELONY ASSAULT\n",
            "741580       4  FELONY ASSAULT\n",
            "741583       4  FELONY ASSAULT\n",
            "741585       4  FELONY ASSAULT\n",
            "\n",
            "[171042 rows x 2 columns]\n",
            "         Target                      OFNS_DESC\n",
            "741651        9  OFF. AGNST PUB ORD SENSBLTY &\n",
            "741680        9  OFF. AGNST PUB ORD SENSBLTY &\n",
            "741688        9  OFF. AGNST PUB ORD SENSBLTY &\n",
            "741775        9  OFF. AGNST PUB ORD SENSBLTY &\n",
            "741806        9  OFF. AGNST PUB ORD SENSBLTY &\n",
            "...         ...                            ...\n",
            "1006642       9  OFF. AGNST PUB ORD SENSBLTY &\n",
            "1006644       9  OFF. AGNST PUB ORD SENSBLTY &\n",
            "1006646       9  OFF. AGNST PUB ORD SENSBLTY &\n",
            "1006648       9  OFF. AGNST PUB ORD SENSBLTY &\n",
            "1006650       9  OFF. AGNST PUB ORD SENSBLTY &\n",
            "\n",
            "[257404 rows x 2 columns]\n",
            "         Target                       OFNS_DESC\n",
            "1006758       2  CRIMINAL MISCHIEF & RELATED OF\n",
            "1007304       2  CRIMINAL MISCHIEF & RELATED OF\n",
            "1007602       2  CRIMINAL MISCHIEF & RELATED OF\n",
            "1008173       2  CRIMINAL MISCHIEF & RELATED OF\n",
            "1009123       2  CRIMINAL MISCHIEF & RELATED OF\n",
            "...         ...                             ...\n",
            "1396979       2  CRIMINAL MISCHIEF & RELATED OF\n",
            "1396980       2  CRIMINAL MISCHIEF & RELATED OF\n",
            "1396984       2  CRIMINAL MISCHIEF & RELATED OF\n",
            "1396992       2  CRIMINAL MISCHIEF & RELATED OF\n",
            "1396994       2  CRIMINAL MISCHIEF & RELATED OF\n",
            "\n",
            "[365627 rows x 2 columns]\n",
            "         Target OFNS_DESC\n",
            "1397187       1  BURGLARY\n",
            "1397503       1  BURGLARY\n",
            "1397830       1  BURGLARY\n",
            "1398148       1  BURGLARY\n",
            "1398179       1  BURGLARY\n",
            "...         ...       ...\n",
            "1533510       1  BURGLARY\n",
            "1533512       1  BURGLARY\n",
            "1533515       1  BURGLARY\n",
            "1533517       1  BURGLARY\n",
            "1533521       1  BURGLARY\n",
            "\n",
            "[127327 rows x 2 columns]\n",
            "         Target   OFNS_DESC\n",
            "1533522      13  SEX CRIMES\n",
            "1533523      13  SEX CRIMES\n",
            "1533525      13  SEX CRIMES\n",
            "1533526      13  SEX CRIMES\n",
            "1533529      13  SEX CRIMES\n",
            "...         ...         ...\n",
            "1593232      13  SEX CRIMES\n",
            "1593239      13  SEX CRIMES\n",
            "1593244      13  SEX CRIMES\n",
            "1593256      13  SEX CRIMES\n",
            "1593258      13  SEX CRIMES\n",
            "\n",
            "[59430 rows x 2 columns]\n",
            "         Target      OFNS_DESC\n",
            "1593277       7  HARRASSMENT 2\n",
            "1593280       7  HARRASSMENT 2\n",
            "1593281       7  HARRASSMENT 2\n",
            "1593297       7  HARRASSMENT 2\n",
            "1593300       7  HARRASSMENT 2\n",
            "...         ...            ...\n",
            "2222949       7  HARRASSMENT 2\n",
            "2222950       7  HARRASSMENT 2\n",
            "2222953       7  HARRASSMENT 2\n",
            "2222957       7  HARRASSMENT 2\n",
            "2222958       7  HARRASSMENT 2\n",
            "\n",
            "[600231 rows x 2 columns]\n",
            "         Target      OFNS_DESC\n",
            "2222962      11  PETIT LARCENY\n",
            "2222969      11  PETIT LARCENY\n",
            "2222979      11  PETIT LARCENY\n",
            "2223021      11  PETIT LARCENY\n",
            "2223036      11  PETIT LARCENY\n",
            "...         ...            ...\n",
            "2847182      11  PETIT LARCENY\n",
            "2847184      11  PETIT LARCENY\n",
            "2847185      11  PETIT LARCENY\n",
            "2847193      11  PETIT LARCENY\n",
            "2847195      11  PETIT LARCENY\n",
            "\n",
            "[593901 rows x 2 columns]\n",
            "         Target      OFNS_DESC\n",
            "2847368       5  GRAND LARCENY\n",
            "2847426       5  GRAND LARCENY\n",
            "2847443       5  GRAND LARCENY\n",
            "2847483       5  GRAND LARCENY\n",
            "2847484       5  GRAND LARCENY\n",
            "...         ...            ...\n",
            "3238817       5  GRAND LARCENY\n",
            "3238819       5  GRAND LARCENY\n",
            "3238824       5  GRAND LARCENY\n",
            "3238828       5  GRAND LARCENY\n",
            "3238829       5  GRAND LARCENY\n",
            "\n",
            "[360312 rows x 2 columns]\n",
            "         Target                     OFNS_DESC\n",
            "3238857       0  ASSAULT 3 & RELATED OFFENSES\n",
            "3238877       0  ASSAULT 3 & RELATED OFFENSES\n",
            "3238892       0  ASSAULT 3 & RELATED OFFENSES\n",
            "3238901       0  ASSAULT 3 & RELATED OFFENSES\n",
            "3238904       0  ASSAULT 3 & RELATED OFFENSES\n",
            "...         ...                           ...\n",
            "3758752       0  ASSAULT 3 & RELATED OFFENSES\n",
            "3758755       0  ASSAULT 3 & RELATED OFFENSES\n",
            "3758763       0  ASSAULT 3 & RELATED OFFENSES\n",
            "3758764       0  ASSAULT 3 & RELATED OFFENSES\n",
            "3758767       0  ASSAULT 3 & RELATED OFFENSES\n",
            "\n",
            "[513236 rows x 2 columns]\n"
          ]
        }
      ]
    },
    {
      "cell_type": "code",
      "source": [
        "for key, value in Target_dict.items():\n",
        "  print (key,':',value)"
      ],
      "metadata": {
        "colab": {
          "base_uri": "https://localhost:8080/"
        },
        "id": "6qN5zne3pEoL",
        "outputId": "da3d5693-e965-47f3-b438-2b151fcb13de"
      },
      "execution_count": null,
      "outputs": [
        {
          "output_type": "stream",
          "name": "stdout",
          "text": [
            "ROBBERY : 12\n",
            "THEFT-FRAUD : 14\n",
            "DANGEROUS DRUGS : 3\n",
            "GRAND LARCENY OF MOTOR VEHICLE : 6\n",
            "VEHICLE AND TRAFFIC LAWS : 15\n",
            "OFFENSES AGAINST PUBLIC ADMINI : 10\n",
            "MISCELLANEOUS PENAL LAW : 8\n",
            "FELONY ASSAULT : 4\n",
            "OFF. AGNST PUB ORD SENSBLTY & : 9\n",
            "CRIMINAL MISCHIEF & RELATED OF : 2\n",
            "BURGLARY : 1\n",
            "SEX CRIMES : 13\n",
            "HARRASSMENT 2 : 7\n",
            "PETIT LARCENY : 11\n",
            "GRAND LARCENY : 5\n",
            "ASSAULT 3 & RELATED OFFENSES : 0\n"
          ]
        }
      ]
    },
    {
      "cell_type": "code",
      "source": [
        "import pickle\n",
        "pickle_dict(Target_dict,'Target_dict')"
      ],
      "metadata": {
        "id": "rMDY1fLap2as"
      },
      "execution_count": null,
      "outputs": []
    },
    {
      "cell_type": "code",
      "execution_count": null,
      "metadata": {
        "id": "MhmNVJWMqWy_"
      },
      "outputs": [],
      "source": [
        "Final_df = pd.concat([dataframe_f_bin,dataframe_f],axis=1)"
      ]
    },
    {
      "cell_type": "code",
      "execution_count": null,
      "metadata": {
        "colab": {
          "base_uri": "https://localhost:8080/",
          "height": 512
        },
        "id": "1hvD01qGW5CW",
        "outputId": "856ee443-9133-4c7e-e4e6-18d01f968afb"
      },
      "outputs": [
        {
          "output_type": "execute_result",
          "data": {
            "text/html": [
              "\n",
              "  <div id=\"df-fbdb2eb2-7fb2-4a0f-bf15-80c644a4b4ef\">\n",
              "    <div class=\"colab-df-container\">\n",
              "      <div>\n",
              "<style scoped>\n",
              "    .dataframe tbody tr th:only-of-type {\n",
              "        vertical-align: middle;\n",
              "    }\n",
              "\n",
              "    .dataframe tbody tr th {\n",
              "        vertical-align: top;\n",
              "    }\n",
              "\n",
              "    .dataframe thead th {\n",
              "        text-align: right;\n",
              "    }\n",
              "</style>\n",
              "<table border=\"1\" class=\"dataframe\">\n",
              "  <thead>\n",
              "    <tr style=\"text-align: right;\">\n",
              "      <th></th>\n",
              "      <th>PATROL_BORO_0</th>\n",
              "      <th>PATROL_BORO_1</th>\n",
              "      <th>PATROL_BORO_2</th>\n",
              "      <th>PATROL_BORO_3</th>\n",
              "      <th>PREM_TYP_DESC_0</th>\n",
              "      <th>PREM_TYP_DESC_1</th>\n",
              "      <th>PREM_TYP_DESC_2</th>\n",
              "      <th>PREM_TYP_DESC_3</th>\n",
              "      <th>PREM_TYP_DESC_4</th>\n",
              "      <th>PREM_TYP_DESC_5</th>\n",
              "      <th>PREM_TYP_DESC_6</th>\n",
              "      <th>BORO_NM_0</th>\n",
              "      <th>BORO_NM_1</th>\n",
              "      <th>BORO_NM_2</th>\n",
              "      <th>VIC_AGE_GROUP_0</th>\n",
              "      <th>VIC_AGE_GROUP_1</th>\n",
              "      <th>VIC_AGE_GROUP_2</th>\n",
              "      <th>VIC_SEX_0</th>\n",
              "      <th>VIC_SEX_1</th>\n",
              "      <th>VIC_SEX_2</th>\n",
              "      <th>VIC_RACE_0</th>\n",
              "      <th>VIC_RACE_1</th>\n",
              "      <th>VIC_RACE_2</th>\n",
              "      <th>VIC_RACE_3</th>\n",
              "      <th>Unnamed: 0</th>\n",
              "      <th>ADDR_PCT_CD</th>\n",
              "      <th>OFNS_DESC</th>\n",
              "      <th>BORO_NM</th>\n",
              "      <th>Latitude</th>\n",
              "      <th>Longitude</th>\n",
              "      <th>PATROL_BORO</th>\n",
              "      <th>VIC_AGE_GROUP</th>\n",
              "      <th>VIC_RACE</th>\n",
              "      <th>VIC_SEX</th>\n",
              "      <th>DateTime</th>\n",
              "    </tr>\n",
              "  </thead>\n",
              "  <tbody>\n",
              "    <tr>\n",
              "      <th>7</th>\n",
              "      <td>0</td>\n",
              "      <td>0</td>\n",
              "      <td>0</td>\n",
              "      <td>1</td>\n",
              "      <td>0</td>\n",
              "      <td>0</td>\n",
              "      <td>0</td>\n",
              "      <td>0</td>\n",
              "      <td>0</td>\n",
              "      <td>0</td>\n",
              "      <td>1</td>\n",
              "      <td>0</td>\n",
              "      <td>0</td>\n",
              "      <td>1</td>\n",
              "      <td>0</td>\n",
              "      <td>0</td>\n",
              "      <td>1</td>\n",
              "      <td>0</td>\n",
              "      <td>0</td>\n",
              "      <td>1</td>\n",
              "      <td>0</td>\n",
              "      <td>0</td>\n",
              "      <td>0</td>\n",
              "      <td>1</td>\n",
              "      <td>342</td>\n",
              "      <td>105.0</td>\n",
              "      <td>12</td>\n",
              "      <td>QUEENS</td>\n",
              "      <td>40.696382</td>\n",
              "      <td>-73.745237</td>\n",
              "      <td>PATROL BORO QUEENS SOUTH</td>\n",
              "      <td>&lt;18</td>\n",
              "      <td>BLACK</td>\n",
              "      <td>M</td>\n",
              "      <td>1.483693e+09</td>\n",
              "    </tr>\n",
              "    <tr>\n",
              "      <th>17</th>\n",
              "      <td>0</td>\n",
              "      <td>0</td>\n",
              "      <td>1</td>\n",
              "      <td>0</td>\n",
              "      <td>0</td>\n",
              "      <td>0</td>\n",
              "      <td>0</td>\n",
              "      <td>0</td>\n",
              "      <td>0</td>\n",
              "      <td>0</td>\n",
              "      <td>1</td>\n",
              "      <td>0</td>\n",
              "      <td>1</td>\n",
              "      <td>0</td>\n",
              "      <td>0</td>\n",
              "      <td>0</td>\n",
              "      <td>1</td>\n",
              "      <td>0</td>\n",
              "      <td>0</td>\n",
              "      <td>1</td>\n",
              "      <td>0</td>\n",
              "      <td>0</td>\n",
              "      <td>1</td>\n",
              "      <td>0</td>\n",
              "      <td>754</td>\n",
              "      <td>52.0</td>\n",
              "      <td>12</td>\n",
              "      <td>BRONX</td>\n",
              "      <td>40.864694</td>\n",
              "      <td>-73.899577</td>\n",
              "      <td>PATROL BORO BRONX</td>\n",
              "      <td>&lt;18</td>\n",
              "      <td>BLACK HISPANIC</td>\n",
              "      <td>M</td>\n",
              "      <td>1.458067e+09</td>\n",
              "    </tr>\n",
              "    <tr>\n",
              "      <th>27</th>\n",
              "      <td>0</td>\n",
              "      <td>0</td>\n",
              "      <td>1</td>\n",
              "      <td>1</td>\n",
              "      <td>0</td>\n",
              "      <td>0</td>\n",
              "      <td>0</td>\n",
              "      <td>0</td>\n",
              "      <td>0</td>\n",
              "      <td>0</td>\n",
              "      <td>1</td>\n",
              "      <td>0</td>\n",
              "      <td>1</td>\n",
              "      <td>1</td>\n",
              "      <td>0</td>\n",
              "      <td>0</td>\n",
              "      <td>1</td>\n",
              "      <td>0</td>\n",
              "      <td>0</td>\n",
              "      <td>1</td>\n",
              "      <td>0</td>\n",
              "      <td>0</td>\n",
              "      <td>1</td>\n",
              "      <td>1</td>\n",
              "      <td>933</td>\n",
              "      <td>90.0</td>\n",
              "      <td>12</td>\n",
              "      <td>BROOKLYN</td>\n",
              "      <td>40.711611</td>\n",
              "      <td>-73.940499</td>\n",
              "      <td>PATROL BORO BKLYN NORTH</td>\n",
              "      <td>&lt;18</td>\n",
              "      <td>WHITE HISPANIC</td>\n",
              "      <td>M</td>\n",
              "      <td>1.495217e+09</td>\n",
              "    </tr>\n",
              "    <tr>\n",
              "      <th>29</th>\n",
              "      <td>0</td>\n",
              "      <td>1</td>\n",
              "      <td>0</td>\n",
              "      <td>0</td>\n",
              "      <td>0</td>\n",
              "      <td>0</td>\n",
              "      <td>0</td>\n",
              "      <td>0</td>\n",
              "      <td>0</td>\n",
              "      <td>1</td>\n",
              "      <td>0</td>\n",
              "      <td>0</td>\n",
              "      <td>1</td>\n",
              "      <td>1</td>\n",
              "      <td>0</td>\n",
              "      <td>0</td>\n",
              "      <td>1</td>\n",
              "      <td>0</td>\n",
              "      <td>0</td>\n",
              "      <td>1</td>\n",
              "      <td>0</td>\n",
              "      <td>0</td>\n",
              "      <td>0</td>\n",
              "      <td>1</td>\n",
              "      <td>968</td>\n",
              "      <td>71.0</td>\n",
              "      <td>12</td>\n",
              "      <td>BROOKLYN</td>\n",
              "      <td>40.661679</td>\n",
              "      <td>-73.937264</td>\n",
              "      <td>PATROL BORO BKLYN SOUTH</td>\n",
              "      <td>&lt;18</td>\n",
              "      <td>BLACK</td>\n",
              "      <td>M</td>\n",
              "      <td>1.425307e+09</td>\n",
              "    </tr>\n",
              "    <tr>\n",
              "      <th>31</th>\n",
              "      <td>0</td>\n",
              "      <td>1</td>\n",
              "      <td>0</td>\n",
              "      <td>1</td>\n",
              "      <td>0</td>\n",
              "      <td>0</td>\n",
              "      <td>0</td>\n",
              "      <td>0</td>\n",
              "      <td>0</td>\n",
              "      <td>0</td>\n",
              "      <td>1</td>\n",
              "      <td>1</td>\n",
              "      <td>0</td>\n",
              "      <td>0</td>\n",
              "      <td>0</td>\n",
              "      <td>0</td>\n",
              "      <td>1</td>\n",
              "      <td>0</td>\n",
              "      <td>1</td>\n",
              "      <td>0</td>\n",
              "      <td>0</td>\n",
              "      <td>0</td>\n",
              "      <td>1</td>\n",
              "      <td>1</td>\n",
              "      <td>997</td>\n",
              "      <td>28.0</td>\n",
              "      <td>12</td>\n",
              "      <td>MANHATTAN</td>\n",
              "      <td>40.810476</td>\n",
              "      <td>-73.951880</td>\n",
              "      <td>PATROL BORO MAN NORTH</td>\n",
              "      <td>&lt;18</td>\n",
              "      <td>WHITE HISPANIC</td>\n",
              "      <td>F</td>\n",
              "      <td>1.199174e+09</td>\n",
              "    </tr>\n",
              "  </tbody>\n",
              "</table>\n",
              "</div>\n",
              "      <button class=\"colab-df-convert\" onclick=\"convertToInteractive('df-fbdb2eb2-7fb2-4a0f-bf15-80c644a4b4ef')\"\n",
              "              title=\"Convert this dataframe to an interactive table.\"\n",
              "              style=\"display:none;\">\n",
              "        \n",
              "  <svg xmlns=\"http://www.w3.org/2000/svg\" height=\"24px\"viewBox=\"0 0 24 24\"\n",
              "       width=\"24px\">\n",
              "    <path d=\"M0 0h24v24H0V0z\" fill=\"none\"/>\n",
              "    <path d=\"M18.56 5.44l.94 2.06.94-2.06 2.06-.94-2.06-.94-.94-2.06-.94 2.06-2.06.94zm-11 1L8.5 8.5l.94-2.06 2.06-.94-2.06-.94L8.5 2.5l-.94 2.06-2.06.94zm10 10l.94 2.06.94-2.06 2.06-.94-2.06-.94-.94-2.06-.94 2.06-2.06.94z\"/><path d=\"M17.41 7.96l-1.37-1.37c-.4-.4-.92-.59-1.43-.59-.52 0-1.04.2-1.43.59L10.3 9.45l-7.72 7.72c-.78.78-.78 2.05 0 2.83L4 21.41c.39.39.9.59 1.41.59.51 0 1.02-.2 1.41-.59l7.78-7.78 2.81-2.81c.8-.78.8-2.07 0-2.86zM5.41 20L4 18.59l7.72-7.72 1.47 1.35L5.41 20z\"/>\n",
              "  </svg>\n",
              "      </button>\n",
              "      \n",
              "  <style>\n",
              "    .colab-df-container {\n",
              "      display:flex;\n",
              "      flex-wrap:wrap;\n",
              "      gap: 12px;\n",
              "    }\n",
              "\n",
              "    .colab-df-convert {\n",
              "      background-color: #E8F0FE;\n",
              "      border: none;\n",
              "      border-radius: 50%;\n",
              "      cursor: pointer;\n",
              "      display: none;\n",
              "      fill: #1967D2;\n",
              "      height: 32px;\n",
              "      padding: 0 0 0 0;\n",
              "      width: 32px;\n",
              "    }\n",
              "\n",
              "    .colab-df-convert:hover {\n",
              "      background-color: #E2EBFA;\n",
              "      box-shadow: 0px 1px 2px rgba(60, 64, 67, 0.3), 0px 1px 3px 1px rgba(60, 64, 67, 0.15);\n",
              "      fill: #174EA6;\n",
              "    }\n",
              "\n",
              "    [theme=dark] .colab-df-convert {\n",
              "      background-color: #3B4455;\n",
              "      fill: #D2E3FC;\n",
              "    }\n",
              "\n",
              "    [theme=dark] .colab-df-convert:hover {\n",
              "      background-color: #434B5C;\n",
              "      box-shadow: 0px 1px 3px 1px rgba(0, 0, 0, 0.15);\n",
              "      filter: drop-shadow(0px 1px 2px rgba(0, 0, 0, 0.3));\n",
              "      fill: #FFFFFF;\n",
              "    }\n",
              "  </style>\n",
              "\n",
              "      <script>\n",
              "        const buttonEl =\n",
              "          document.querySelector('#df-fbdb2eb2-7fb2-4a0f-bf15-80c644a4b4ef button.colab-df-convert');\n",
              "        buttonEl.style.display =\n",
              "          google.colab.kernel.accessAllowed ? 'block' : 'none';\n",
              "\n",
              "        async function convertToInteractive(key) {\n",
              "          const element = document.querySelector('#df-fbdb2eb2-7fb2-4a0f-bf15-80c644a4b4ef');\n",
              "          const dataTable =\n",
              "            await google.colab.kernel.invokeFunction('convertToInteractive',\n",
              "                                                     [key], {});\n",
              "          if (!dataTable) return;\n",
              "\n",
              "          const docLinkHtml = 'Like what you see? Visit the ' +\n",
              "            '<a target=\"_blank\" href=https://colab.research.google.com/notebooks/data_table.ipynb>data table notebook</a>'\n",
              "            + ' to learn more about interactive tables.';\n",
              "          element.innerHTML = '';\n",
              "          dataTable['output_type'] = 'display_data';\n",
              "          await google.colab.output.renderOutput(dataTable, element);\n",
              "          const docLink = document.createElement('div');\n",
              "          docLink.innerHTML = docLinkHtml;\n",
              "          element.appendChild(docLink);\n",
              "        }\n",
              "      </script>\n",
              "    </div>\n",
              "  </div>\n",
              "  "
            ],
            "text/plain": [
              "    PATROL_BORO_0  PATROL_BORO_1  ...  VIC_SEX      DateTime\n",
              "7               0              0  ...        M  1.483693e+09\n",
              "17              0              0  ...        M  1.458067e+09\n",
              "27              0              0  ...        M  1.495217e+09\n",
              "29              0              1  ...        M  1.425307e+09\n",
              "31              0              1  ...        F  1.199174e+09\n",
              "\n",
              "[5 rows x 35 columns]"
            ]
          },
          "metadata": {},
          "execution_count": 15
        }
      ],
      "source": [
        "Final_df.head() "
      ]
    },
    {
      "cell_type": "code",
      "source": [
        "Final_df.drop(['PREM_TYP_DESC'],axis=1,inplace=True)"
      ],
      "metadata": {
        "id": "Xyo5gvZTFLuc"
      },
      "execution_count": null,
      "outputs": []
    },
    {
      "cell_type": "code",
      "source": [
        "Final_df['PATROL_BORO'].unique()"
      ],
      "metadata": {
        "colab": {
          "base_uri": "https://localhost:8080/"
        },
        "id": "7rgffW8uhBWC",
        "outputId": "2d6110e8-0177-45fb-d7f9-0b6dc53c095a"
      },
      "execution_count": null,
      "outputs": [
        {
          "output_type": "execute_result",
          "data": {
            "text/plain": [
              "array(['PATROL BORO QUEENS SOUTH', 'PATROL BORO BRONX',\n",
              "       'PATROL BORO BKLYN NORTH', 'PATROL BORO BKLYN SOUTH',\n",
              "       'PATROL BORO MAN NORTH', 'PATROL BORO QUEENS NORTH',\n",
              "       'PATROL BORO STATEN ISLAND', 'PATROL BORO MAN SOUTH'], dtype=object)"
            ]
          },
          "metadata": {},
          "execution_count": 50
        }
      ]
    },
    {
      "cell_type": "code",
      "source": [
        "patrol_df=Final_df[['PATROL_BORO_0','PATROL_BORO_1','PATROL_BORO_2','PATROL_BORO_3','PATROL_BORO']]\n",
        "patrol_dict={}\n",
        "for i in patrol_df['PATROL_BORO'].unique():\n",
        "  c = patrol_df[patrol_df['PATROL_BORO']==i]\n",
        "  patrol_dict[i]=c[['PATROL_BORO_0','PATROL_BORO_1','PATROL_BORO_2','PATROL_BORO_3']].iloc[0]\n",
        "  continue\n"
      ],
      "metadata": {
        "id": "aFokdsrEmKm-"
      },
      "execution_count": null,
      "outputs": []
    },
    {
      "cell_type": "code",
      "source": [
        "for key,value in patrol_dict.items():\n",
        "  print(key,':','\\n',value)"
      ],
      "metadata": {
        "colab": {
          "base_uri": "https://localhost:8080/"
        },
        "id": "u5DCe2oDn2ns",
        "outputId": "4984fea4-21ea-4d28-dfd4-a8929d8777a2"
      },
      "execution_count": null,
      "outputs": [
        {
          "output_type": "stream",
          "name": "stdout",
          "text": [
            "PATROL BORO QUEENS SOUTH : \n",
            " PATROL_BORO_0    0\n",
            "PATROL_BORO_1    0\n",
            "PATROL_BORO_2    0\n",
            "PATROL_BORO_3    1\n",
            "Name: 7, dtype: int64\n",
            "PATROL BORO BRONX : \n",
            " PATROL_BORO_0    0\n",
            "PATROL_BORO_1    0\n",
            "PATROL_BORO_2    1\n",
            "PATROL_BORO_3    0\n",
            "Name: 17, dtype: int64\n",
            "PATROL BORO BKLYN NORTH : \n",
            " PATROL_BORO_0    0\n",
            "PATROL_BORO_1    0\n",
            "PATROL_BORO_2    1\n",
            "PATROL_BORO_3    1\n",
            "Name: 27, dtype: int64\n",
            "PATROL BORO BKLYN SOUTH : \n",
            " PATROL_BORO_0    0\n",
            "PATROL_BORO_1    1\n",
            "PATROL_BORO_2    0\n",
            "PATROL_BORO_3    0\n",
            "Name: 29, dtype: int64\n",
            "PATROL BORO MAN NORTH : \n",
            " PATROL_BORO_0    0\n",
            "PATROL_BORO_1    1\n",
            "PATROL_BORO_2    0\n",
            "PATROL_BORO_3    1\n",
            "Name: 31, dtype: int64\n",
            "PATROL BORO QUEENS NORTH : \n",
            " PATROL_BORO_0    0\n",
            "PATROL_BORO_1    1\n",
            "PATROL_BORO_2    1\n",
            "PATROL_BORO_3    0\n",
            "Name: 44, dtype: int64\n",
            "PATROL BORO STATEN ISLAND : \n",
            " PATROL_BORO_0    0\n",
            "PATROL_BORO_1    1\n",
            "PATROL_BORO_2    1\n",
            "PATROL_BORO_3    1\n",
            "Name: 136, dtype: int64\n",
            "PATROL BORO MAN SOUTH : \n",
            " PATROL_BORO_0    1\n",
            "PATROL_BORO_1    0\n",
            "PATROL_BORO_2    0\n",
            "PATROL_BORO_3    0\n",
            "Name: 271, dtype: int64\n"
          ]
        }
      ]
    },
    {
      "cell_type": "code",
      "source": [
        "dataframe_f['VIC_AGE_GROUP'].unique()"
      ],
      "metadata": {
        "colab": {
          "base_uri": "https://localhost:8080/"
        },
        "id": "7xGk_kpsrJJa",
        "outputId": "498684eb-0506-4129-ec99-2e879cf5c98f"
      },
      "execution_count": null,
      "outputs": [
        {
          "output_type": "execute_result",
          "data": {
            "text/plain": [
              "array(['<18', '45-64', '18-24', 'UNKNOWN', '25-44'], dtype=object)"
            ]
          },
          "metadata": {},
          "execution_count": 53
        }
      ]
    },
    {
      "cell_type": "code",
      "source": [
        "VIC_AGE_GROUP_df=Final_df[['VIC_AGE_GROUP_0','VIC_AGE_GROUP_1','VIC_AGE_GROUP_2','VIC_AGE_GROUP']]\n",
        "VIC_AGE_GROUP_dict={}\n",
        "for i in VIC_AGE_GROUP_df['VIC_AGE_GROUP'].unique():\n",
        "  c = VIC_AGE_GROUP_df[VIC_AGE_GROUP_df['VIC_AGE_GROUP']==i]\n",
        "  VIC_AGE_GROUP_dict[i]=c[['VIC_AGE_GROUP_0','VIC_AGE_GROUP_1','VIC_AGE_GROUP_2']].iloc[0]\n",
        "  continue"
      ],
      "metadata": {
        "id": "bMx8JvjYhYXK"
      },
      "execution_count": null,
      "outputs": []
    },
    {
      "cell_type": "code",
      "source": [
        "for key,value in VIC_AGE_GROUP_dict.items():\n",
        "  print(key,':','\\n',value)"
      ],
      "metadata": {
        "colab": {
          "base_uri": "https://localhost:8080/"
        },
        "id": "mnXaTXbZ0wlo",
        "outputId": "076c146d-685f-40ac-e17c-5b7a0563ede6"
      },
      "execution_count": null,
      "outputs": [
        {
          "output_type": "stream",
          "name": "stdout",
          "text": [
            "<18 : \n",
            " VIC_AGE_GROUP_0    0\n",
            "VIC_AGE_GROUP_1    0\n",
            "VIC_AGE_GROUP_2    1\n",
            "Name: 7, dtype: int64\n",
            "45-64 : \n",
            " VIC_AGE_GROUP_0    0\n",
            "VIC_AGE_GROUP_1    1\n",
            "VIC_AGE_GROUP_2    0\n",
            "Name: 6, dtype: int64\n",
            "18-24 : \n",
            " VIC_AGE_GROUP_0    0\n",
            "VIC_AGE_GROUP_1    1\n",
            "VIC_AGE_GROUP_2    1\n",
            "Name: 5, dtype: int64\n",
            "UNKNOWN : \n",
            " VIC_AGE_GROUP_0    1\n",
            "VIC_AGE_GROUP_1    0\n",
            "VIC_AGE_GROUP_2    0\n",
            "Name: 4, dtype: int64\n",
            "25-44 : \n",
            " VIC_AGE_GROUP_0    1\n",
            "VIC_AGE_GROUP_1    0\n",
            "VIC_AGE_GROUP_2    1\n",
            "Name: 0, dtype: int64\n"
          ]
        }
      ]
    },
    {
      "cell_type": "code",
      "source": [
        "VIC_RACE_df=Final_df[['VIC_RACE_0','VIC_RACE_1','VIC_RACE_2','VIC_RACE_3','VIC_RACE']]\n",
        "VIC_RACE_dict={}\n",
        "for i in VIC_RACE_df['VIC_RACE'].unique():\n",
        "  c = VIC_RACE_df[VIC_RACE_df['VIC_RACE']==i]\n",
        "  VIC_RACE_dict[i]=c[['VIC_RACE_0','VIC_RACE_1','VIC_RACE_2','VIC_RACE_3']].iloc[0]\n",
        "  continue"
      ],
      "metadata": {
        "id": "nTvtTA-h5KCR"
      },
      "execution_count": null,
      "outputs": []
    },
    {
      "cell_type": "code",
      "source": [
        "for key,value in VIC_RACE_dict.items():\n",
        "  print(key,':','\\n',value)"
      ],
      "metadata": {
        "colab": {
          "base_uri": "https://localhost:8080/"
        },
        "id": "B5X1HR4r5Ll5",
        "outputId": "6fc5cb43-e4b1-42e6-bec8-c5a3fec3f967"
      },
      "execution_count": null,
      "outputs": [
        {
          "output_type": "stream",
          "name": "stdout",
          "text": [
            "BLACK : \n",
            " VIC_RACE_0    0\n",
            "VIC_RACE_1    0\n",
            "VIC_RACE_2    0\n",
            "VIC_RACE_3    1\n",
            "Name: 7, dtype: int64\n",
            "BLACK HISPANIC : \n",
            " VIC_RACE_0    0\n",
            "VIC_RACE_1    0\n",
            "VIC_RACE_2    1\n",
            "VIC_RACE_3    0\n",
            "Name: 17, dtype: int64\n",
            "WHITE HISPANIC : \n",
            " VIC_RACE_0    0\n",
            "VIC_RACE_1    0\n",
            "VIC_RACE_2    1\n",
            "VIC_RACE_3    1\n",
            "Name: 27, dtype: int64\n",
            "WHITE : \n",
            " VIC_RACE_0    0\n",
            "VIC_RACE_1    1\n",
            "VIC_RACE_2    0\n",
            "VIC_RACE_3    0\n",
            "Name: 136, dtype: int64\n",
            "ASIAN / PACIFIC ISLANDER : \n",
            " VIC_RACE_0    0\n",
            "VIC_RACE_1    1\n",
            "VIC_RACE_2    0\n",
            "VIC_RACE_3    1\n",
            "Name: 168, dtype: int64\n",
            "UNKNOWN : \n",
            " VIC_RACE_0    0\n",
            "VIC_RACE_1    1\n",
            "VIC_RACE_2    1\n",
            "VIC_RACE_3    0\n",
            "Name: 259, dtype: int64\n",
            "AMERICAN INDIAN/ALASKAN NATIVE : \n",
            " VIC_RACE_0    0\n",
            "VIC_RACE_1    1\n",
            "VIC_RACE_2    1\n",
            "VIC_RACE_3    1\n",
            "Name: 638, dtype: int64\n",
            "OTHER : \n",
            " VIC_RACE_0    1\n",
            "VIC_RACE_1    0\n",
            "VIC_RACE_2    0\n",
            "VIC_RACE_3    0\n",
            "Name: 25808, dtype: int64\n"
          ]
        }
      ]
    },
    {
      "cell_type": "code",
      "source": [
        "VIC_SEX_df=Final_df[['VIC_SEX_0','VIC_SEX_1','VIC_SEX_2','VIC_SEX']]\n",
        "VIC_SEX_dict={}\n",
        "for i in VIC_SEX_df['VIC_SEX'].unique():\n",
        "  c = VIC_SEX_df[VIC_SEX_df['VIC_SEX']==i]\n",
        "  VIC_SEX_dict[i]=c[['VIC_SEX_0','VIC_SEX_1','VIC_SEX_2']].iloc[0]\n",
        "  continue"
      ],
      "metadata": {
        "id": "nh1rvZ325Ml5"
      },
      "execution_count": null,
      "outputs": []
    },
    {
      "cell_type": "code",
      "source": [
        "for key,value in VIC_SEX_dict.items():\n",
        "  print(key,':','\\n',value)"
      ],
      "metadata": {
        "colab": {
          "base_uri": "https://localhost:8080/"
        },
        "id": "zytOzhVU5L7Q",
        "outputId": "7a77a683-2c56-4c17-920b-087cd7cf0140"
      },
      "execution_count": null,
      "outputs": [
        {
          "output_type": "stream",
          "name": "stdout",
          "text": [
            "M : \n",
            " VIC_SEX_0    0\n",
            "VIC_SEX_1    0\n",
            "VIC_SEX_2    1\n",
            "Name: 7, dtype: int64\n",
            "F : \n",
            " VIC_SEX_0    0\n",
            "VIC_SEX_1    1\n",
            "VIC_SEX_2    0\n",
            "Name: 31, dtype: int64\n",
            "D : \n",
            " VIC_SEX_0    0\n",
            "VIC_SEX_1    1\n",
            "VIC_SEX_2    1\n",
            "Name: 151758, dtype: int64\n",
            "E : \n",
            " VIC_SEX_0    1\n",
            "VIC_SEX_1    0\n",
            "VIC_SEX_2    0\n",
            "Name: 232421, dtype: int64\n"
          ]
        }
      ]
    },
    {
      "cell_type": "code",
      "source": [
        "BORO_NM_df=Final_df[['BORO_NM_0','BORO_NM_1','BORO_NM_2','BORO_NM']]\n",
        "BORO_NM_dict={}\n",
        "for i in BORO_NM_df['BORO_NM'].unique():\n",
        "  c = BORO_NM_df[BORO_NM_df['BORO_NM']==i]\n",
        "  BORO_NM_dict[i]=c[['BORO_NM_0','BORO_NM_1','BORO_NM_2']].iloc[0]\n",
        "  continue"
      ],
      "metadata": {
        "id": "UVQn-Bif7veK"
      },
      "execution_count": null,
      "outputs": []
    },
    {
      "cell_type": "code",
      "source": [
        "for key,value in BORO_NM_dict.items():\n",
        "  print(key,':','\\n',value)"
      ],
      "metadata": {
        "colab": {
          "base_uri": "https://localhost:8080/"
        },
        "id": "1SubNtru7xH5",
        "outputId": "18a48f59-5b6d-4a0d-9356-65133113c516"
      },
      "execution_count": null,
      "outputs": [
        {
          "output_type": "stream",
          "name": "stdout",
          "text": [
            "QUEENS : \n",
            " BORO_NM_0    0\n",
            "BORO_NM_1    0\n",
            "BORO_NM_2    1\n",
            "Name: 7, dtype: int64\n",
            "BRONX : \n",
            " BORO_NM_0    0\n",
            "BORO_NM_1    1\n",
            "BORO_NM_2    0\n",
            "Name: 17, dtype: int64\n",
            "BROOKLYN : \n",
            " BORO_NM_0    0\n",
            "BORO_NM_1    1\n",
            "BORO_NM_2    1\n",
            "Name: 27, dtype: int64\n",
            "MANHATTAN : \n",
            " BORO_NM_0    1\n",
            "BORO_NM_1    0\n",
            "BORO_NM_2    0\n",
            "Name: 31, dtype: int64\n",
            "STATEN ISLAND : \n",
            " BORO_NM_0    1\n",
            "BORO_NM_1    0\n",
            "BORO_NM_2    1\n",
            "Name: 136, dtype: int64\n"
          ]
        }
      ]
    },
    {
      "cell_type": "code",
      "source": [
        "def pickle_dict ( dictionnary : dict , dict_name : str):\n",
        "  with open('/content/drive/MyDrive/Crimes Detection/NY_crimes/{}.pickle'.format(dict_name), 'wb') as handle:\n",
        "    pickle.dump(dictionnary, handle, protocol=pickle.HIGHEST_PROTOCOL)"
      ],
      "metadata": {
        "id": "EzBI0-7HmEfC"
      },
      "execution_count": null,
      "outputs": []
    },
    {
      "cell_type": "code",
      "source": [
        "pickle_dict(BORO_NM_dict,'BORO_NM_dict')\n",
        "pickle_dict(VIC_SEX_dict,'VIC_SEX_dict')\n",
        "pickle_dict(VIC_RACE_dict,'VIC_RACE_dict')\n",
        "pickle_dict(VIC_AGE_GROUP_dict,'VIC_AGE_GROUP_dict')\n",
        "pickle_dict(patrol_dict,'patrol_dict')"
      ],
      "metadata": {
        "id": "lHGaNKZHmdNz"
      },
      "execution_count": null,
      "outputs": []
    },
    {
      "cell_type": "code",
      "source": [
        "Final_df.drop([\"VIC_AGE_GROUP\",\"VIC_SEX\",\"VIC_RACE\",\"PATROL_BORO\",\"BORO_NM\"],axis=1,inplace=True)"
      ],
      "metadata": {
        "id": "bSpp0KU0gICB"
      },
      "execution_count": null,
      "outputs": []
    },
    {
      "cell_type": "code",
      "source": [
        "Final_df.head()"
      ],
      "metadata": {
        "colab": {
          "base_uri": "https://localhost:8080/",
          "height": 287
        },
        "id": "4Fx1vgaAfjrZ",
        "outputId": "58fd276a-beca-418e-cfdb-bee113e2beea"
      },
      "execution_count": null,
      "outputs": [
        {
          "output_type": "execute_result",
          "data": {
            "text/html": [
              "\n",
              "  <div id=\"df-e44fe2c7-6ba5-42e8-9f17-90602fe1d70a\">\n",
              "    <div class=\"colab-df-container\">\n",
              "      <div>\n",
              "<style scoped>\n",
              "    .dataframe tbody tr th:only-of-type {\n",
              "        vertical-align: middle;\n",
              "    }\n",
              "\n",
              "    .dataframe tbody tr th {\n",
              "        vertical-align: top;\n",
              "    }\n",
              "\n",
              "    .dataframe thead th {\n",
              "        text-align: right;\n",
              "    }\n",
              "</style>\n",
              "<table border=\"1\" class=\"dataframe\">\n",
              "  <thead>\n",
              "    <tr style=\"text-align: right;\">\n",
              "      <th></th>\n",
              "      <th>PATROL_BORO_0</th>\n",
              "      <th>PATROL_BORO_1</th>\n",
              "      <th>PATROL_BORO_2</th>\n",
              "      <th>PATROL_BORO_3</th>\n",
              "      <th>PREM_TYP_DESC_0</th>\n",
              "      <th>PREM_TYP_DESC_1</th>\n",
              "      <th>PREM_TYP_DESC_2</th>\n",
              "      <th>PREM_TYP_DESC_3</th>\n",
              "      <th>PREM_TYP_DESC_4</th>\n",
              "      <th>PREM_TYP_DESC_5</th>\n",
              "      <th>PREM_TYP_DESC_6</th>\n",
              "      <th>BORO_NM_0</th>\n",
              "      <th>BORO_NM_1</th>\n",
              "      <th>BORO_NM_2</th>\n",
              "      <th>VIC_AGE_GROUP_0</th>\n",
              "      <th>VIC_AGE_GROUP_1</th>\n",
              "      <th>VIC_AGE_GROUP_2</th>\n",
              "      <th>VIC_SEX_0</th>\n",
              "      <th>VIC_SEX_1</th>\n",
              "      <th>VIC_SEX_2</th>\n",
              "      <th>VIC_RACE_0</th>\n",
              "      <th>VIC_RACE_1</th>\n",
              "      <th>VIC_RACE_2</th>\n",
              "      <th>VIC_RACE_3</th>\n",
              "      <th>Unnamed: 0</th>\n",
              "      <th>ADDR_PCT_CD</th>\n",
              "      <th>OFNS_DESC</th>\n",
              "      <th>Latitude</th>\n",
              "      <th>Longitude</th>\n",
              "      <th>DateTime</th>\n",
              "    </tr>\n",
              "  </thead>\n",
              "  <tbody>\n",
              "    <tr>\n",
              "      <th>7</th>\n",
              "      <td>0</td>\n",
              "      <td>0</td>\n",
              "      <td>0</td>\n",
              "      <td>1</td>\n",
              "      <td>0</td>\n",
              "      <td>0</td>\n",
              "      <td>0</td>\n",
              "      <td>0</td>\n",
              "      <td>0</td>\n",
              "      <td>0</td>\n",
              "      <td>1</td>\n",
              "      <td>0</td>\n",
              "      <td>0</td>\n",
              "      <td>1</td>\n",
              "      <td>0</td>\n",
              "      <td>0</td>\n",
              "      <td>1</td>\n",
              "      <td>0</td>\n",
              "      <td>0</td>\n",
              "      <td>1</td>\n",
              "      <td>0</td>\n",
              "      <td>0</td>\n",
              "      <td>0</td>\n",
              "      <td>1</td>\n",
              "      <td>342</td>\n",
              "      <td>105.0</td>\n",
              "      <td>12</td>\n",
              "      <td>40.696382</td>\n",
              "      <td>-73.745237</td>\n",
              "      <td>1.483693e+09</td>\n",
              "    </tr>\n",
              "    <tr>\n",
              "      <th>17</th>\n",
              "      <td>0</td>\n",
              "      <td>0</td>\n",
              "      <td>1</td>\n",
              "      <td>0</td>\n",
              "      <td>0</td>\n",
              "      <td>0</td>\n",
              "      <td>0</td>\n",
              "      <td>0</td>\n",
              "      <td>0</td>\n",
              "      <td>0</td>\n",
              "      <td>1</td>\n",
              "      <td>0</td>\n",
              "      <td>1</td>\n",
              "      <td>0</td>\n",
              "      <td>0</td>\n",
              "      <td>0</td>\n",
              "      <td>1</td>\n",
              "      <td>0</td>\n",
              "      <td>0</td>\n",
              "      <td>1</td>\n",
              "      <td>0</td>\n",
              "      <td>0</td>\n",
              "      <td>1</td>\n",
              "      <td>0</td>\n",
              "      <td>754</td>\n",
              "      <td>52.0</td>\n",
              "      <td>12</td>\n",
              "      <td>40.864694</td>\n",
              "      <td>-73.899577</td>\n",
              "      <td>1.458067e+09</td>\n",
              "    </tr>\n",
              "    <tr>\n",
              "      <th>27</th>\n",
              "      <td>0</td>\n",
              "      <td>0</td>\n",
              "      <td>1</td>\n",
              "      <td>1</td>\n",
              "      <td>0</td>\n",
              "      <td>0</td>\n",
              "      <td>0</td>\n",
              "      <td>0</td>\n",
              "      <td>0</td>\n",
              "      <td>0</td>\n",
              "      <td>1</td>\n",
              "      <td>0</td>\n",
              "      <td>1</td>\n",
              "      <td>1</td>\n",
              "      <td>0</td>\n",
              "      <td>0</td>\n",
              "      <td>1</td>\n",
              "      <td>0</td>\n",
              "      <td>0</td>\n",
              "      <td>1</td>\n",
              "      <td>0</td>\n",
              "      <td>0</td>\n",
              "      <td>1</td>\n",
              "      <td>1</td>\n",
              "      <td>933</td>\n",
              "      <td>90.0</td>\n",
              "      <td>12</td>\n",
              "      <td>40.711611</td>\n",
              "      <td>-73.940499</td>\n",
              "      <td>1.495217e+09</td>\n",
              "    </tr>\n",
              "    <tr>\n",
              "      <th>29</th>\n",
              "      <td>0</td>\n",
              "      <td>1</td>\n",
              "      <td>0</td>\n",
              "      <td>0</td>\n",
              "      <td>0</td>\n",
              "      <td>0</td>\n",
              "      <td>0</td>\n",
              "      <td>0</td>\n",
              "      <td>0</td>\n",
              "      <td>1</td>\n",
              "      <td>0</td>\n",
              "      <td>0</td>\n",
              "      <td>1</td>\n",
              "      <td>1</td>\n",
              "      <td>0</td>\n",
              "      <td>0</td>\n",
              "      <td>1</td>\n",
              "      <td>0</td>\n",
              "      <td>0</td>\n",
              "      <td>1</td>\n",
              "      <td>0</td>\n",
              "      <td>0</td>\n",
              "      <td>0</td>\n",
              "      <td>1</td>\n",
              "      <td>968</td>\n",
              "      <td>71.0</td>\n",
              "      <td>12</td>\n",
              "      <td>40.661679</td>\n",
              "      <td>-73.937264</td>\n",
              "      <td>1.425307e+09</td>\n",
              "    </tr>\n",
              "    <tr>\n",
              "      <th>31</th>\n",
              "      <td>0</td>\n",
              "      <td>1</td>\n",
              "      <td>0</td>\n",
              "      <td>1</td>\n",
              "      <td>0</td>\n",
              "      <td>0</td>\n",
              "      <td>0</td>\n",
              "      <td>0</td>\n",
              "      <td>0</td>\n",
              "      <td>0</td>\n",
              "      <td>1</td>\n",
              "      <td>1</td>\n",
              "      <td>0</td>\n",
              "      <td>0</td>\n",
              "      <td>0</td>\n",
              "      <td>0</td>\n",
              "      <td>1</td>\n",
              "      <td>0</td>\n",
              "      <td>1</td>\n",
              "      <td>0</td>\n",
              "      <td>0</td>\n",
              "      <td>0</td>\n",
              "      <td>1</td>\n",
              "      <td>1</td>\n",
              "      <td>997</td>\n",
              "      <td>28.0</td>\n",
              "      <td>12</td>\n",
              "      <td>40.810476</td>\n",
              "      <td>-73.951880</td>\n",
              "      <td>1.199174e+09</td>\n",
              "    </tr>\n",
              "  </tbody>\n",
              "</table>\n",
              "</div>\n",
              "      <button class=\"colab-df-convert\" onclick=\"convertToInteractive('df-e44fe2c7-6ba5-42e8-9f17-90602fe1d70a')\"\n",
              "              title=\"Convert this dataframe to an interactive table.\"\n",
              "              style=\"display:none;\">\n",
              "        \n",
              "  <svg xmlns=\"http://www.w3.org/2000/svg\" height=\"24px\"viewBox=\"0 0 24 24\"\n",
              "       width=\"24px\">\n",
              "    <path d=\"M0 0h24v24H0V0z\" fill=\"none\"/>\n",
              "    <path d=\"M18.56 5.44l.94 2.06.94-2.06 2.06-.94-2.06-.94-.94-2.06-.94 2.06-2.06.94zm-11 1L8.5 8.5l.94-2.06 2.06-.94-2.06-.94L8.5 2.5l-.94 2.06-2.06.94zm10 10l.94 2.06.94-2.06 2.06-.94-2.06-.94-.94-2.06-.94 2.06-2.06.94z\"/><path d=\"M17.41 7.96l-1.37-1.37c-.4-.4-.92-.59-1.43-.59-.52 0-1.04.2-1.43.59L10.3 9.45l-7.72 7.72c-.78.78-.78 2.05 0 2.83L4 21.41c.39.39.9.59 1.41.59.51 0 1.02-.2 1.41-.59l7.78-7.78 2.81-2.81c.8-.78.8-2.07 0-2.86zM5.41 20L4 18.59l7.72-7.72 1.47 1.35L5.41 20z\"/>\n",
              "  </svg>\n",
              "      </button>\n",
              "      \n",
              "  <style>\n",
              "    .colab-df-container {\n",
              "      display:flex;\n",
              "      flex-wrap:wrap;\n",
              "      gap: 12px;\n",
              "    }\n",
              "\n",
              "    .colab-df-convert {\n",
              "      background-color: #E8F0FE;\n",
              "      border: none;\n",
              "      border-radius: 50%;\n",
              "      cursor: pointer;\n",
              "      display: none;\n",
              "      fill: #1967D2;\n",
              "      height: 32px;\n",
              "      padding: 0 0 0 0;\n",
              "      width: 32px;\n",
              "    }\n",
              "\n",
              "    .colab-df-convert:hover {\n",
              "      background-color: #E2EBFA;\n",
              "      box-shadow: 0px 1px 2px rgba(60, 64, 67, 0.3), 0px 1px 3px 1px rgba(60, 64, 67, 0.15);\n",
              "      fill: #174EA6;\n",
              "    }\n",
              "\n",
              "    [theme=dark] .colab-df-convert {\n",
              "      background-color: #3B4455;\n",
              "      fill: #D2E3FC;\n",
              "    }\n",
              "\n",
              "    [theme=dark] .colab-df-convert:hover {\n",
              "      background-color: #434B5C;\n",
              "      box-shadow: 0px 1px 3px 1px rgba(0, 0, 0, 0.15);\n",
              "      filter: drop-shadow(0px 1px 2px rgba(0, 0, 0, 0.3));\n",
              "      fill: #FFFFFF;\n",
              "    }\n",
              "  </style>\n",
              "\n",
              "      <script>\n",
              "        const buttonEl =\n",
              "          document.querySelector('#df-e44fe2c7-6ba5-42e8-9f17-90602fe1d70a button.colab-df-convert');\n",
              "        buttonEl.style.display =\n",
              "          google.colab.kernel.accessAllowed ? 'block' : 'none';\n",
              "\n",
              "        async function convertToInteractive(key) {\n",
              "          const element = document.querySelector('#df-e44fe2c7-6ba5-42e8-9f17-90602fe1d70a');\n",
              "          const dataTable =\n",
              "            await google.colab.kernel.invokeFunction('convertToInteractive',\n",
              "                                                     [key], {});\n",
              "          if (!dataTable) return;\n",
              "\n",
              "          const docLinkHtml = 'Like what you see? Visit the ' +\n",
              "            '<a target=\"_blank\" href=https://colab.research.google.com/notebooks/data_table.ipynb>data table notebook</a>'\n",
              "            + ' to learn more about interactive tables.';\n",
              "          element.innerHTML = '';\n",
              "          dataTable['output_type'] = 'display_data';\n",
              "          await google.colab.output.renderOutput(dataTable, element);\n",
              "          const docLink = document.createElement('div');\n",
              "          docLink.innerHTML = docLinkHtml;\n",
              "          element.appendChild(docLink);\n",
              "        }\n",
              "      </script>\n",
              "    </div>\n",
              "  </div>\n",
              "  "
            ],
            "text/plain": [
              "    PATROL_BORO_0  PATROL_BORO_1  ...  Longitude      DateTime\n",
              "7               0              0  ... -73.745237  1.483693e+09\n",
              "17              0              0  ... -73.899577  1.458067e+09\n",
              "27              0              0  ... -73.940499  1.495217e+09\n",
              "29              0              1  ... -73.937264  1.425307e+09\n",
              "31              0              1  ... -73.951880  1.199174e+09\n",
              "\n",
              "[5 rows x 30 columns]"
            ]
          },
          "metadata": {},
          "execution_count": 17
        }
      ]
    },
    {
      "cell_type": "code",
      "execution_count": null,
      "metadata": {
        "id": "D0omCL91ehkZ"
      },
      "outputs": [],
      "source": [
        "Final_df.to_csv(\"/content/drive/MyDrive/Crimes Detection/NY_crimes/Crimes_Detection_final.csv\")"
      ]
    },
    {
      "cell_type": "markdown",
      "metadata": {
        "id": "qEGdeJEcr513"
      },
      "source": [
        "# Data preparation for processing and model selection"
      ]
    },
    {
      "cell_type": "code",
      "source": [
        "dataframe_f = Final_df"
      ],
      "metadata": {
        "id": "v0Vv_TSdKAtI"
      },
      "execution_count": null,
      "outputs": []
    },
    {
      "cell_type": "code",
      "execution_count": null,
      "metadata": {
        "id": "RuQ5LBXv_UHT",
        "colab": {
          "base_uri": "https://localhost:8080/",
          "height": 571
        },
        "outputId": "dc0d3e96-de37-40b9-8efd-3f34666853e2"
      },
      "outputs": [
        {
          "output_type": "error",
          "ename": "KeyError",
          "evalue": "ignored",
          "traceback": [
            "\u001b[0;31m---------------------------------------------------------------------------\u001b[0m",
            "\u001b[0;31mKeyError\u001b[0m                                  Traceback (most recent call last)",
            "\u001b[0;32m/usr/local/lib/python3.7/dist-packages/pandas/core/indexes/base.py\u001b[0m in \u001b[0;36mget_loc\u001b[0;34m(self, key, method, tolerance)\u001b[0m\n\u001b[1;32m   2897\u001b[0m             \u001b[0;32mtry\u001b[0m\u001b[0;34m:\u001b[0m\u001b[0;34m\u001b[0m\u001b[0;34m\u001b[0m\u001b[0m\n\u001b[0;32m-> 2898\u001b[0;31m                 \u001b[0;32mreturn\u001b[0m \u001b[0mself\u001b[0m\u001b[0;34m.\u001b[0m\u001b[0m_engine\u001b[0m\u001b[0;34m.\u001b[0m\u001b[0mget_loc\u001b[0m\u001b[0;34m(\u001b[0m\u001b[0mcasted_key\u001b[0m\u001b[0;34m)\u001b[0m\u001b[0;34m\u001b[0m\u001b[0;34m\u001b[0m\u001b[0m\n\u001b[0m\u001b[1;32m   2899\u001b[0m             \u001b[0;32mexcept\u001b[0m \u001b[0mKeyError\u001b[0m \u001b[0;32mas\u001b[0m \u001b[0merr\u001b[0m\u001b[0;34m:\u001b[0m\u001b[0;34m\u001b[0m\u001b[0;34m\u001b[0m\u001b[0m\n",
            "\u001b[0;32mpandas/_libs/index.pyx\u001b[0m in \u001b[0;36mpandas._libs.index.IndexEngine.get_loc\u001b[0;34m()\u001b[0m\n",
            "\u001b[0;32mpandas/_libs/index.pyx\u001b[0m in \u001b[0;36mpandas._libs.index.IndexEngine.get_loc\u001b[0;34m()\u001b[0m\n",
            "\u001b[0;32mpandas/_libs/hashtable_class_helper.pxi\u001b[0m in \u001b[0;36mpandas._libs.hashtable.PyObjectHashTable.get_item\u001b[0;34m()\u001b[0m\n",
            "\u001b[0;32mpandas/_libs/hashtable_class_helper.pxi\u001b[0m in \u001b[0;36mpandas._libs.hashtable.PyObjectHashTable.get_item\u001b[0;34m()\u001b[0m\n",
            "\u001b[0;31mKeyError\u001b[0m: 'OFNS_DESC'",
            "\nThe above exception was the direct cause of the following exception:\n",
            "\u001b[0;31mKeyError\u001b[0m                                  Traceback (most recent call last)",
            "\u001b[0;32m<ipython-input-32-82209983c0b4>\u001b[0m in \u001b[0;36m<module>\u001b[0;34m()\u001b[0m\n\u001b[1;32m      1\u001b[0m \u001b[0;31m# Y= dataframe_f.pop('Target')\u001b[0m\u001b[0;34m\u001b[0m\u001b[0;34m\u001b[0m\u001b[0;34m\u001b[0m\u001b[0m\n\u001b[0;32m----> 2\u001b[0;31m \u001b[0mY\u001b[0m \u001b[0;34m=\u001b[0m \u001b[0mdataframe_f\u001b[0m\u001b[0;34m.\u001b[0m\u001b[0mpop\u001b[0m\u001b[0;34m(\u001b[0m\u001b[0;34m'OFNS_DESC'\u001b[0m\u001b[0;34m)\u001b[0m\u001b[0;34m\u001b[0m\u001b[0;34m\u001b[0m\u001b[0m\n\u001b[0m",
            "\u001b[0;32m/usr/local/lib/python3.7/dist-packages/pandas/core/frame.py\u001b[0m in \u001b[0;36mpop\u001b[0;34m(self, item)\u001b[0m\n\u001b[1;32m   4369\u001b[0m         \u001b[0;36m3\u001b[0m  \u001b[0mmonkey\u001b[0m        \u001b[0mNaN\u001b[0m\u001b[0;34m\u001b[0m\u001b[0;34m\u001b[0m\u001b[0m\n\u001b[1;32m   4370\u001b[0m         \"\"\"\n\u001b[0;32m-> 4371\u001b[0;31m         \u001b[0;32mreturn\u001b[0m \u001b[0msuper\u001b[0m\u001b[0;34m(\u001b[0m\u001b[0;34m)\u001b[0m\u001b[0;34m.\u001b[0m\u001b[0mpop\u001b[0m\u001b[0;34m(\u001b[0m\u001b[0mitem\u001b[0m\u001b[0;34m=\u001b[0m\u001b[0mitem\u001b[0m\u001b[0;34m)\u001b[0m\u001b[0;34m\u001b[0m\u001b[0;34m\u001b[0m\u001b[0m\n\u001b[0m\u001b[1;32m   4372\u001b[0m \u001b[0;34m\u001b[0m\u001b[0m\n\u001b[1;32m   4373\u001b[0m     \u001b[0;34m@\u001b[0m\u001b[0mdoc\u001b[0m\u001b[0;34m(\u001b[0m\u001b[0mNDFrame\u001b[0m\u001b[0;34m.\u001b[0m\u001b[0mreplace\u001b[0m\u001b[0;34m,\u001b[0m \u001b[0;34m**\u001b[0m\u001b[0m_shared_doc_kwargs\u001b[0m\u001b[0;34m)\u001b[0m\u001b[0;34m\u001b[0m\u001b[0;34m\u001b[0m\u001b[0m\n",
            "\u001b[0;32m/usr/local/lib/python3.7/dist-packages/pandas/core/generic.py\u001b[0m in \u001b[0;36mpop\u001b[0;34m(self, item)\u001b[0m\n\u001b[1;32m    659\u001b[0m \u001b[0;34m\u001b[0m\u001b[0m\n\u001b[1;32m    660\u001b[0m     \u001b[0;32mdef\u001b[0m \u001b[0mpop\u001b[0m\u001b[0;34m(\u001b[0m\u001b[0mself\u001b[0m\u001b[0;34m,\u001b[0m \u001b[0mitem\u001b[0m\u001b[0;34m:\u001b[0m \u001b[0mLabel\u001b[0m\u001b[0;34m)\u001b[0m \u001b[0;34m->\u001b[0m \u001b[0mUnion\u001b[0m\u001b[0;34m[\u001b[0m\u001b[0;34m\"Series\"\u001b[0m\u001b[0;34m,\u001b[0m \u001b[0mAny\u001b[0m\u001b[0;34m]\u001b[0m\u001b[0;34m:\u001b[0m\u001b[0;34m\u001b[0m\u001b[0;34m\u001b[0m\u001b[0m\n\u001b[0;32m--> 661\u001b[0;31m         \u001b[0mresult\u001b[0m \u001b[0;34m=\u001b[0m \u001b[0mself\u001b[0m\u001b[0;34m[\u001b[0m\u001b[0mitem\u001b[0m\u001b[0;34m]\u001b[0m\u001b[0;34m\u001b[0m\u001b[0;34m\u001b[0m\u001b[0m\n\u001b[0m\u001b[1;32m    662\u001b[0m         \u001b[0;32mdel\u001b[0m \u001b[0mself\u001b[0m\u001b[0;34m[\u001b[0m\u001b[0mitem\u001b[0m\u001b[0;34m]\u001b[0m\u001b[0;34m\u001b[0m\u001b[0;34m\u001b[0m\u001b[0m\n\u001b[1;32m    663\u001b[0m         \u001b[0;32mif\u001b[0m \u001b[0mself\u001b[0m\u001b[0;34m.\u001b[0m\u001b[0mndim\u001b[0m \u001b[0;34m==\u001b[0m \u001b[0;36m2\u001b[0m\u001b[0;34m:\u001b[0m\u001b[0;34m\u001b[0m\u001b[0;34m\u001b[0m\u001b[0m\n",
            "\u001b[0;32m/usr/local/lib/python3.7/dist-packages/pandas/core/frame.py\u001b[0m in \u001b[0;36m__getitem__\u001b[0;34m(self, key)\u001b[0m\n\u001b[1;32m   2904\u001b[0m             \u001b[0;32mif\u001b[0m \u001b[0mself\u001b[0m\u001b[0;34m.\u001b[0m\u001b[0mcolumns\u001b[0m\u001b[0;34m.\u001b[0m\u001b[0mnlevels\u001b[0m \u001b[0;34m>\u001b[0m \u001b[0;36m1\u001b[0m\u001b[0;34m:\u001b[0m\u001b[0;34m\u001b[0m\u001b[0;34m\u001b[0m\u001b[0m\n\u001b[1;32m   2905\u001b[0m                 \u001b[0;32mreturn\u001b[0m \u001b[0mself\u001b[0m\u001b[0;34m.\u001b[0m\u001b[0m_getitem_multilevel\u001b[0m\u001b[0;34m(\u001b[0m\u001b[0mkey\u001b[0m\u001b[0;34m)\u001b[0m\u001b[0;34m\u001b[0m\u001b[0;34m\u001b[0m\u001b[0m\n\u001b[0;32m-> 2906\u001b[0;31m             \u001b[0mindexer\u001b[0m \u001b[0;34m=\u001b[0m \u001b[0mself\u001b[0m\u001b[0;34m.\u001b[0m\u001b[0mcolumns\u001b[0m\u001b[0;34m.\u001b[0m\u001b[0mget_loc\u001b[0m\u001b[0;34m(\u001b[0m\u001b[0mkey\u001b[0m\u001b[0;34m)\u001b[0m\u001b[0;34m\u001b[0m\u001b[0;34m\u001b[0m\u001b[0m\n\u001b[0m\u001b[1;32m   2907\u001b[0m             \u001b[0;32mif\u001b[0m \u001b[0mis_integer\u001b[0m\u001b[0;34m(\u001b[0m\u001b[0mindexer\u001b[0m\u001b[0;34m)\u001b[0m\u001b[0;34m:\u001b[0m\u001b[0;34m\u001b[0m\u001b[0;34m\u001b[0m\u001b[0m\n\u001b[1;32m   2908\u001b[0m                 \u001b[0mindexer\u001b[0m \u001b[0;34m=\u001b[0m \u001b[0;34m[\u001b[0m\u001b[0mindexer\u001b[0m\u001b[0;34m]\u001b[0m\u001b[0;34m\u001b[0m\u001b[0;34m\u001b[0m\u001b[0m\n",
            "\u001b[0;32m/usr/local/lib/python3.7/dist-packages/pandas/core/indexes/base.py\u001b[0m in \u001b[0;36mget_loc\u001b[0;34m(self, key, method, tolerance)\u001b[0m\n\u001b[1;32m   2898\u001b[0m                 \u001b[0;32mreturn\u001b[0m \u001b[0mself\u001b[0m\u001b[0;34m.\u001b[0m\u001b[0m_engine\u001b[0m\u001b[0;34m.\u001b[0m\u001b[0mget_loc\u001b[0m\u001b[0;34m(\u001b[0m\u001b[0mcasted_key\u001b[0m\u001b[0;34m)\u001b[0m\u001b[0;34m\u001b[0m\u001b[0;34m\u001b[0m\u001b[0m\n\u001b[1;32m   2899\u001b[0m             \u001b[0;32mexcept\u001b[0m \u001b[0mKeyError\u001b[0m \u001b[0;32mas\u001b[0m \u001b[0merr\u001b[0m\u001b[0;34m:\u001b[0m\u001b[0;34m\u001b[0m\u001b[0;34m\u001b[0m\u001b[0m\n\u001b[0;32m-> 2900\u001b[0;31m                 \u001b[0;32mraise\u001b[0m \u001b[0mKeyError\u001b[0m\u001b[0;34m(\u001b[0m\u001b[0mkey\u001b[0m\u001b[0;34m)\u001b[0m \u001b[0;32mfrom\u001b[0m \u001b[0merr\u001b[0m\u001b[0;34m\u001b[0m\u001b[0;34m\u001b[0m\u001b[0m\n\u001b[0m\u001b[1;32m   2901\u001b[0m \u001b[0;34m\u001b[0m\u001b[0m\n\u001b[1;32m   2902\u001b[0m         \u001b[0;32mif\u001b[0m \u001b[0mtolerance\u001b[0m \u001b[0;32mis\u001b[0m \u001b[0;32mnot\u001b[0m \u001b[0;32mNone\u001b[0m\u001b[0;34m:\u001b[0m\u001b[0;34m\u001b[0m\u001b[0;34m\u001b[0m\u001b[0m\n",
            "\u001b[0;31mKeyError\u001b[0m: 'OFNS_DESC'"
          ]
        }
      ],
      "source": [
        "# Y= dataframe_f.pop('Target')\n",
        "Y_no = dataframe_f.pop('OFNS_DESC')"
      ]
    },
    {
      "cell_type": "code",
      "source": [
        ""
      ],
      "metadata": {
        "id": "HxBj-cFhJIRy"
      },
      "execution_count": null,
      "outputs": []
    },
    {
      "cell_type": "code",
      "execution_count": null,
      "metadata": {
        "id": "nNHOmJHuEpxF"
      },
      "outputs": [],
      "source": [
        "dataframe_f.drop(['Unnamed: 0'],axis=1,inplace=True)\n",
        "# dataframe_f.drop(['PD_CD'],axis=1,inplace=True)             \n",
        "# dataframe_f.drop(['Unnamed: 0.1'],axis=1,inplace=True)"
      ]
    },
    {
      "cell_type": "code",
      "source": [
        "dataframe_f.head()"
      ],
      "metadata": {
        "colab": {
          "base_uri": "https://localhost:8080/",
          "height": 269
        },
        "id": "x_e1P7yvI-Xy",
        "outputId": "5115f620-319a-4769-dbd8-d7c7ff4ad384"
      },
      "execution_count": null,
      "outputs": [
        {
          "output_type": "execute_result",
          "data": {
            "text/html": [
              "\n",
              "  <div id=\"df-4526e93a-eb09-4c2a-9487-8fab6da2955c\">\n",
              "    <div class=\"colab-df-container\">\n",
              "      <div>\n",
              "<style scoped>\n",
              "    .dataframe tbody tr th:only-of-type {\n",
              "        vertical-align: middle;\n",
              "    }\n",
              "\n",
              "    .dataframe tbody tr th {\n",
              "        vertical-align: top;\n",
              "    }\n",
              "\n",
              "    .dataframe thead th {\n",
              "        text-align: right;\n",
              "    }\n",
              "</style>\n",
              "<table border=\"1\" class=\"dataframe\">\n",
              "  <thead>\n",
              "    <tr style=\"text-align: right;\">\n",
              "      <th></th>\n",
              "      <th>PATROL_BORO_0</th>\n",
              "      <th>PATROL_BORO_1</th>\n",
              "      <th>PATROL_BORO_2</th>\n",
              "      <th>PATROL_BORO_3</th>\n",
              "      <th>PREM_TYP_DESC_0</th>\n",
              "      <th>PREM_TYP_DESC_1</th>\n",
              "      <th>PREM_TYP_DESC_2</th>\n",
              "      <th>PREM_TYP_DESC_3</th>\n",
              "      <th>PREM_TYP_DESC_4</th>\n",
              "      <th>PREM_TYP_DESC_5</th>\n",
              "      <th>PREM_TYP_DESC_6</th>\n",
              "      <th>BORO_NM_0</th>\n",
              "      <th>BORO_NM_1</th>\n",
              "      <th>BORO_NM_2</th>\n",
              "      <th>VIC_AGE_GROUP_0</th>\n",
              "      <th>VIC_AGE_GROUP_1</th>\n",
              "      <th>VIC_AGE_GROUP_2</th>\n",
              "      <th>VIC_SEX_0</th>\n",
              "      <th>VIC_SEX_1</th>\n",
              "      <th>VIC_SEX_2</th>\n",
              "      <th>VIC_RACE_0</th>\n",
              "      <th>VIC_RACE_1</th>\n",
              "      <th>VIC_RACE_2</th>\n",
              "      <th>VIC_RACE_3</th>\n",
              "      <th>ADDR_PCT_CD</th>\n",
              "      <th>Latitude</th>\n",
              "      <th>Longitude</th>\n",
              "      <th>DateTime</th>\n",
              "    </tr>\n",
              "  </thead>\n",
              "  <tbody>\n",
              "    <tr>\n",
              "      <th>7</th>\n",
              "      <td>0</td>\n",
              "      <td>0</td>\n",
              "      <td>0</td>\n",
              "      <td>1</td>\n",
              "      <td>0</td>\n",
              "      <td>0</td>\n",
              "      <td>0</td>\n",
              "      <td>0</td>\n",
              "      <td>0</td>\n",
              "      <td>0</td>\n",
              "      <td>1</td>\n",
              "      <td>0</td>\n",
              "      <td>0</td>\n",
              "      <td>1</td>\n",
              "      <td>0</td>\n",
              "      <td>0</td>\n",
              "      <td>1</td>\n",
              "      <td>0</td>\n",
              "      <td>0</td>\n",
              "      <td>1</td>\n",
              "      <td>0</td>\n",
              "      <td>0</td>\n",
              "      <td>0</td>\n",
              "      <td>1</td>\n",
              "      <td>105.0</td>\n",
              "      <td>40.696382</td>\n",
              "      <td>-73.745237</td>\n",
              "      <td>1.483693e+09</td>\n",
              "    </tr>\n",
              "    <tr>\n",
              "      <th>17</th>\n",
              "      <td>0</td>\n",
              "      <td>0</td>\n",
              "      <td>1</td>\n",
              "      <td>0</td>\n",
              "      <td>0</td>\n",
              "      <td>0</td>\n",
              "      <td>0</td>\n",
              "      <td>0</td>\n",
              "      <td>0</td>\n",
              "      <td>0</td>\n",
              "      <td>1</td>\n",
              "      <td>0</td>\n",
              "      <td>1</td>\n",
              "      <td>0</td>\n",
              "      <td>0</td>\n",
              "      <td>0</td>\n",
              "      <td>1</td>\n",
              "      <td>0</td>\n",
              "      <td>0</td>\n",
              "      <td>1</td>\n",
              "      <td>0</td>\n",
              "      <td>0</td>\n",
              "      <td>1</td>\n",
              "      <td>0</td>\n",
              "      <td>52.0</td>\n",
              "      <td>40.864694</td>\n",
              "      <td>-73.899577</td>\n",
              "      <td>1.458067e+09</td>\n",
              "    </tr>\n",
              "    <tr>\n",
              "      <th>27</th>\n",
              "      <td>0</td>\n",
              "      <td>0</td>\n",
              "      <td>1</td>\n",
              "      <td>1</td>\n",
              "      <td>0</td>\n",
              "      <td>0</td>\n",
              "      <td>0</td>\n",
              "      <td>0</td>\n",
              "      <td>0</td>\n",
              "      <td>0</td>\n",
              "      <td>1</td>\n",
              "      <td>0</td>\n",
              "      <td>1</td>\n",
              "      <td>1</td>\n",
              "      <td>0</td>\n",
              "      <td>0</td>\n",
              "      <td>1</td>\n",
              "      <td>0</td>\n",
              "      <td>0</td>\n",
              "      <td>1</td>\n",
              "      <td>0</td>\n",
              "      <td>0</td>\n",
              "      <td>1</td>\n",
              "      <td>1</td>\n",
              "      <td>90.0</td>\n",
              "      <td>40.711611</td>\n",
              "      <td>-73.940499</td>\n",
              "      <td>1.495217e+09</td>\n",
              "    </tr>\n",
              "    <tr>\n",
              "      <th>29</th>\n",
              "      <td>0</td>\n",
              "      <td>1</td>\n",
              "      <td>0</td>\n",
              "      <td>0</td>\n",
              "      <td>0</td>\n",
              "      <td>0</td>\n",
              "      <td>0</td>\n",
              "      <td>0</td>\n",
              "      <td>0</td>\n",
              "      <td>1</td>\n",
              "      <td>0</td>\n",
              "      <td>0</td>\n",
              "      <td>1</td>\n",
              "      <td>1</td>\n",
              "      <td>0</td>\n",
              "      <td>0</td>\n",
              "      <td>1</td>\n",
              "      <td>0</td>\n",
              "      <td>0</td>\n",
              "      <td>1</td>\n",
              "      <td>0</td>\n",
              "      <td>0</td>\n",
              "      <td>0</td>\n",
              "      <td>1</td>\n",
              "      <td>71.0</td>\n",
              "      <td>40.661679</td>\n",
              "      <td>-73.937264</td>\n",
              "      <td>1.425307e+09</td>\n",
              "    </tr>\n",
              "    <tr>\n",
              "      <th>31</th>\n",
              "      <td>0</td>\n",
              "      <td>1</td>\n",
              "      <td>0</td>\n",
              "      <td>1</td>\n",
              "      <td>0</td>\n",
              "      <td>0</td>\n",
              "      <td>0</td>\n",
              "      <td>0</td>\n",
              "      <td>0</td>\n",
              "      <td>0</td>\n",
              "      <td>1</td>\n",
              "      <td>1</td>\n",
              "      <td>0</td>\n",
              "      <td>0</td>\n",
              "      <td>0</td>\n",
              "      <td>0</td>\n",
              "      <td>1</td>\n",
              "      <td>0</td>\n",
              "      <td>1</td>\n",
              "      <td>0</td>\n",
              "      <td>0</td>\n",
              "      <td>0</td>\n",
              "      <td>1</td>\n",
              "      <td>1</td>\n",
              "      <td>28.0</td>\n",
              "      <td>40.810476</td>\n",
              "      <td>-73.951880</td>\n",
              "      <td>1.199174e+09</td>\n",
              "    </tr>\n",
              "  </tbody>\n",
              "</table>\n",
              "</div>\n",
              "      <button class=\"colab-df-convert\" onclick=\"convertToInteractive('df-4526e93a-eb09-4c2a-9487-8fab6da2955c')\"\n",
              "              title=\"Convert this dataframe to an interactive table.\"\n",
              "              style=\"display:none;\">\n",
              "        \n",
              "  <svg xmlns=\"http://www.w3.org/2000/svg\" height=\"24px\"viewBox=\"0 0 24 24\"\n",
              "       width=\"24px\">\n",
              "    <path d=\"M0 0h24v24H0V0z\" fill=\"none\"/>\n",
              "    <path d=\"M18.56 5.44l.94 2.06.94-2.06 2.06-.94-2.06-.94-.94-2.06-.94 2.06-2.06.94zm-11 1L8.5 8.5l.94-2.06 2.06-.94-2.06-.94L8.5 2.5l-.94 2.06-2.06.94zm10 10l.94 2.06.94-2.06 2.06-.94-2.06-.94-.94-2.06-.94 2.06-2.06.94z\"/><path d=\"M17.41 7.96l-1.37-1.37c-.4-.4-.92-.59-1.43-.59-.52 0-1.04.2-1.43.59L10.3 9.45l-7.72 7.72c-.78.78-.78 2.05 0 2.83L4 21.41c.39.39.9.59 1.41.59.51 0 1.02-.2 1.41-.59l7.78-7.78 2.81-2.81c.8-.78.8-2.07 0-2.86zM5.41 20L4 18.59l7.72-7.72 1.47 1.35L5.41 20z\"/>\n",
              "  </svg>\n",
              "      </button>\n",
              "      \n",
              "  <style>\n",
              "    .colab-df-container {\n",
              "      display:flex;\n",
              "      flex-wrap:wrap;\n",
              "      gap: 12px;\n",
              "    }\n",
              "\n",
              "    .colab-df-convert {\n",
              "      background-color: #E8F0FE;\n",
              "      border: none;\n",
              "      border-radius: 50%;\n",
              "      cursor: pointer;\n",
              "      display: none;\n",
              "      fill: #1967D2;\n",
              "      height: 32px;\n",
              "      padding: 0 0 0 0;\n",
              "      width: 32px;\n",
              "    }\n",
              "\n",
              "    .colab-df-convert:hover {\n",
              "      background-color: #E2EBFA;\n",
              "      box-shadow: 0px 1px 2px rgba(60, 64, 67, 0.3), 0px 1px 3px 1px rgba(60, 64, 67, 0.15);\n",
              "      fill: #174EA6;\n",
              "    }\n",
              "\n",
              "    [theme=dark] .colab-df-convert {\n",
              "      background-color: #3B4455;\n",
              "      fill: #D2E3FC;\n",
              "    }\n",
              "\n",
              "    [theme=dark] .colab-df-convert:hover {\n",
              "      background-color: #434B5C;\n",
              "      box-shadow: 0px 1px 3px 1px rgba(0, 0, 0, 0.15);\n",
              "      filter: drop-shadow(0px 1px 2px rgba(0, 0, 0, 0.3));\n",
              "      fill: #FFFFFF;\n",
              "    }\n",
              "  </style>\n",
              "\n",
              "      <script>\n",
              "        const buttonEl =\n",
              "          document.querySelector('#df-4526e93a-eb09-4c2a-9487-8fab6da2955c button.colab-df-convert');\n",
              "        buttonEl.style.display =\n",
              "          google.colab.kernel.accessAllowed ? 'block' : 'none';\n",
              "\n",
              "        async function convertToInteractive(key) {\n",
              "          const element = document.querySelector('#df-4526e93a-eb09-4c2a-9487-8fab6da2955c');\n",
              "          const dataTable =\n",
              "            await google.colab.kernel.invokeFunction('convertToInteractive',\n",
              "                                                     [key], {});\n",
              "          if (!dataTable) return;\n",
              "\n",
              "          const docLinkHtml = 'Like what you see? Visit the ' +\n",
              "            '<a target=\"_blank\" href=https://colab.research.google.com/notebooks/data_table.ipynb>data table notebook</a>'\n",
              "            + ' to learn more about interactive tables.';\n",
              "          element.innerHTML = '';\n",
              "          dataTable['output_type'] = 'display_data';\n",
              "          await google.colab.output.renderOutput(dataTable, element);\n",
              "          const docLink = document.createElement('div');\n",
              "          docLink.innerHTML = docLinkHtml;\n",
              "          element.appendChild(docLink);\n",
              "        }\n",
              "      </script>\n",
              "    </div>\n",
              "  </div>\n",
              "  "
            ],
            "text/plain": [
              "    PATROL_BORO_0  PATROL_BORO_1  ...  Longitude      DateTime\n",
              "7               0              0  ... -73.745237  1.483693e+09\n",
              "17              0              0  ... -73.899577  1.458067e+09\n",
              "27              0              0  ... -73.940499  1.495217e+09\n",
              "29              0              1  ... -73.937264  1.425307e+09\n",
              "31              0              1  ... -73.951880  1.199174e+09\n",
              "\n",
              "[5 rows x 28 columns]"
            ]
          },
          "metadata": {},
          "execution_count": 23
        }
      ]
    },
    {
      "cell_type": "code",
      "execution_count": null,
      "metadata": {
        "colab": {
          "base_uri": "https://localhost:8080/"
        },
        "id": "LynQDTSvEwds",
        "outputId": "93d491ca-9605-4aee-8011-54767c26c4b9"
      },
      "outputs": [
        {
          "output_type": "stream",
          "name": "stdout",
          "text": [
            "for the column : PATROL_BORO_0, the maximum is :1, and the minimum is 0.\n",
            "for the column : PATROL_BORO_1, the maximum is :1, and the minimum is 0.\n",
            "for the column : PATROL_BORO_2, the maximum is :1, and the minimum is 0.\n",
            "for the column : PATROL_BORO_3, the maximum is :1, and the minimum is 0.\n",
            "for the column : PREM_TYP_DESC_0, the maximum is :1, and the minimum is 0.\n",
            "for the column : PREM_TYP_DESC_1, the maximum is :1, and the minimum is 0.\n",
            "for the column : PREM_TYP_DESC_2, the maximum is :1, and the minimum is 0.\n",
            "for the column : PREM_TYP_DESC_3, the maximum is :1, and the minimum is 0.\n",
            "for the column : PREM_TYP_DESC_4, the maximum is :1, and the minimum is 0.\n",
            "for the column : PREM_TYP_DESC_5, the maximum is :1, and the minimum is 0.\n",
            "for the column : PREM_TYP_DESC_6, the maximum is :1, and the minimum is 0.\n",
            "for the column : BORO_NM_0, the maximum is :1, and the minimum is 0.\n",
            "for the column : BORO_NM_1, the maximum is :1, and the minimum is 0.\n",
            "for the column : BORO_NM_2, the maximum is :1, and the minimum is 0.\n",
            "for the column : VIC_AGE_GROUP_0, the maximum is :1, and the minimum is 0.\n",
            "for the column : VIC_AGE_GROUP_1, the maximum is :1, and the minimum is 0.\n",
            "for the column : VIC_AGE_GROUP_2, the maximum is :1, and the minimum is 0.\n",
            "for the column : VIC_SEX_0, the maximum is :1, and the minimum is 0.\n",
            "for the column : VIC_SEX_1, the maximum is :1, and the minimum is 0.\n",
            "for the column : VIC_SEX_2, the maximum is :1, and the minimum is 0.\n",
            "for the column : VIC_RACE_0, the maximum is :1, and the minimum is 0.\n",
            "for the column : VIC_RACE_1, the maximum is :1, and the minimum is 0.\n",
            "for the column : VIC_RACE_2, the maximum is :1, and the minimum is 0.\n",
            "for the column : VIC_RACE_3, the maximum is :1, and the minimum is 0.\n",
            "for the column : ADDR_PCT_CD, the maximum is :123.0, and the minimum is -99.0.\n",
            "for the column : Latitude, the maximum is :59.657273946000004, and the minimum is 40.494426993000005.\n",
            "for the column : Longitude, the maximum is :-73.684788384, and the minimum is -77.056722703.\n",
            "for the column : DateTime, the maximum is :1577835300.0, and the minimum is -30114590400.0.\n"
          ]
        }
      ],
      "source": [
        "for i in dataframe_f.columns:\n",
        "  print('for the column : {}, the maximum is :{}, and the minimum is {}.'.format(i,dataframe_f[i].max(),dataframe_f[i].min()))"
      ]
    },
    {
      "cell_type": "code",
      "execution_count": null,
      "metadata": {
        "colab": {
          "base_uri": "https://localhost:8080/"
        },
        "id": "rZ00iS9-Fm_b",
        "outputId": "f316cb1a-ee27-498f-b54e-c56f80573dd4"
      },
      "outputs": [
        {
          "output_type": "stream",
          "name": "stdout",
          "text": [
            "PATROL_BORO_0 : 0\n",
            "PATROL_BORO_1 : 0\n",
            "PATROL_BORO_2 : 0\n",
            "PATROL_BORO_3 : 0\n",
            "PREM_TYP_DESC_0 : 0\n",
            "PREM_TYP_DESC_1 : 0\n",
            "PREM_TYP_DESC_2 : 0\n",
            "PREM_TYP_DESC_3 : 0\n",
            "PREM_TYP_DESC_4 : 0\n",
            "PREM_TYP_DESC_5 : 0\n",
            "PREM_TYP_DESC_6 : 0\n",
            "BORO_NM_0 : 0\n",
            "BORO_NM_1 : 0\n",
            "BORO_NM_2 : 0\n",
            "VIC_AGE_GROUP_0 : 0\n",
            "VIC_AGE_GROUP_1 : 0\n",
            "VIC_AGE_GROUP_2 : 0\n",
            "VIC_SEX_0 : 0\n",
            "VIC_SEX_1 : 0\n",
            "VIC_SEX_2 : 0\n",
            "VIC_RACE_0 : 0\n",
            "VIC_RACE_1 : 0\n",
            "VIC_RACE_2 : 0\n",
            "VIC_RACE_3 : 0\n",
            "ADDR_PCT_CD : 0\n",
            "Latitude : 0\n",
            "Longitude : 0\n",
            "DateTime : 0\n"
          ]
        }
      ],
      "source": [
        "for i in dataframe_f.columns:\n",
        "  print(i,':',dataframe_f[i].isnull().sum())"
      ]
    },
    {
      "cell_type": "code",
      "execution_count": null,
      "metadata": {
        "id": "etXckit4SOPZ"
      },
      "outputs": [],
      "source": [
        "# X = np.array(normalized_df)"
      ]
    },
    {
      "cell_type": "code",
      "source": [
        "# # from category_encoders.james_stein import JamesSteinEncoder\n",
        "# # JSE_encoder = JamesSteinEncoder()\n",
        "# from sklearn.preprocessing import LabelEncoder\n",
        "# labelencoder = LabelEncoder() "
      ],
      "metadata": {
        "colab": {
          "base_uri": "https://localhost:8080/"
        },
        "id": "cqZFgFzxgSn6",
        "outputId": "c9acc0a4-01b8-40b6-fafb-c1e4ba3abe18"
      },
      "execution_count": null,
      "outputs": [
        {
          "output_type": "stream",
          "name": "stderr",
          "text": [
            "/usr/local/lib/python3.7/dist-packages/sklearn/preprocessing/_label.py:115: DataConversionWarning: A column-vector y was passed when a 1d array was expected. Please change the shape of y to (n_samples, ), for example using ravel().\n",
            "  y = column_or_1d(y, warn=True)\n"
          ]
        }
      ]
    },
    {
      "cell_type": "code",
      "source": [
        "dataframe_f['Latitude']=(dataframe_f['Latitude']-dataframe_f['Latitude'].min())/(dataframe_f['Latitude'].max()-dataframe_f['Latitude'].min())\n",
        "dataframe_f['Longitude']=(dataframe_f['Longitude']-dataframe_f['Longitude'].min())/(dataframe_f['Longitude'].max()-dataframe_f['Longitude'].min())\n",
        "dataframe_f['DateTime']=(dataframe_f['DateTime']-dataframe_f['DateTime'].min())/(dataframe_f['DateTime'].max()-dataframe_f['DateTime'].min())\n",
        "dataframe_f['ADDR_PCT_CD']=(dataframe_f['ADDR_PCT_CD']-dataframe_f['ADDR_PCT_CD'].min())/(dataframe_f['ADDR_PCT_CD'].max()-dataframe_f['ADDR_PCT_CD'].min())\n",
        "# dataframe_f['PD_CD']=(dataframe_f['PD_CD']-dataframe_f['PD_CD'].min())/(dataframe_f['PD_CD'].max()-dataframe_f['PD_CD'].min())\n"
      ],
      "metadata": {
        "id": "Tvv9dgh971tH"
      },
      "execution_count": null,
      "outputs": []
    },
    {
      "cell_type": "code",
      "source": [
        "# dict_min_max={}\n",
        "dict_min_max['Latitude'] = [Final_df['Latitude'].min(),Final_df['Latitude'].max()]\n",
        "dict_min_max['Longitude'] = [Final_df['Longitude'].min(),Final_df['Longitude'].max()]\n",
        "dict_min_max['DateTime'] = [Final_df['DateTime'].min(),Final_df['DateTime'].max()]\n",
        "dict_min_max['ADDR_PCT_CD'] = [Final_df['ADDR_PCT_CD'].min(),Final_df['ADDR_PCT_CD'].max()]\n",
        "\n",
        "import pickle \n",
        "\n",
        "def normalize(feature : str , value : float):\n",
        "  liste = dict_min_max[feature]\n",
        "  return ((value-liste[0])/(liste[1]-liste[0]))\n",
        "\n",
        "with open('/content/drive/MyDrive/Crimes Detection/NY_crimes/dict_min_max.pickle', 'wb') as handle:\n",
        "    pickle.dump(dict_min_max, handle, protocol=pickle.HIGHEST_PROTOCOL)\n"
      ],
      "metadata": {
        "id": "ouJ0XKyIj8Yr"
      },
      "execution_count": null,
      "outputs": []
    },
    {
      "cell_type": "code",
      "source": [
        "import pickle\n",
        "\n",
        "# Store data (serialize)\n",
        "\n",
        "# Load data (deserialize)\n",
        "with open('/content/drive/MyDrive/Crimes Detection/NY_crimes/dict_min_max.pickle', 'rb') as handle:\n",
        "    unserialized_data = pickle.load(handle)\n",
        "\n",
        "print(dict_min_max == unserialized_data)"
      ],
      "metadata": {
        "colab": {
          "base_uri": "https://localhost:8080/"
        },
        "id": "g6VjG1Jji4Aa",
        "outputId": "f0d10fb0-9edf-4b25-af68-f3d3d037a3e0"
      },
      "execution_count": null,
      "outputs": [
        {
          "output_type": "stream",
          "name": "stdout",
          "text": [
            "True\n"
          ]
        }
      ]
    },
    {
      "cell_type": "code",
      "source": [
        "for i , j in unserialized_data.items():\n",
        "  print(i,':',j)"
      ],
      "metadata": {
        "colab": {
          "base_uri": "https://localhost:8080/"
        },
        "id": "rf3J2_3NjAJx",
        "outputId": "f696923a-7836-4292-b9ed-88819ea763b6"
      },
      "execution_count": null,
      "outputs": [
        {
          "output_type": "stream",
          "name": "stdout",
          "text": [
            "Latitude : [40.494426993000005, 59.657273946000004]\n",
            "Longitude : [-77.056722703, -73.684788384]\n",
            "DateTime : [-30114590400.0, 1577835300.0]\n",
            "ADDR_PCT_CD : [-99.0, 123.0]\n"
          ]
        }
      ]
    },
    {
      "cell_type": "code",
      "source": [
        "dataframe_f.head()"
      ],
      "metadata": {
        "colab": {
          "base_uri": "https://localhost:8080/",
          "height": 269
        },
        "id": "VVo9V9pB82lR",
        "outputId": "649ca990-62e1-4331-985d-5ad9ecc99b4d"
      },
      "execution_count": null,
      "outputs": [
        {
          "output_type": "execute_result",
          "data": {
            "text/html": [
              "\n",
              "  <div id=\"df-84a286c4-8941-424c-9906-59185c76235f\">\n",
              "    <div class=\"colab-df-container\">\n",
              "      <div>\n",
              "<style scoped>\n",
              "    .dataframe tbody tr th:only-of-type {\n",
              "        vertical-align: middle;\n",
              "    }\n",
              "\n",
              "    .dataframe tbody tr th {\n",
              "        vertical-align: top;\n",
              "    }\n",
              "\n",
              "    .dataframe thead th {\n",
              "        text-align: right;\n",
              "    }\n",
              "</style>\n",
              "<table border=\"1\" class=\"dataframe\">\n",
              "  <thead>\n",
              "    <tr style=\"text-align: right;\">\n",
              "      <th></th>\n",
              "      <th>PATROL_BORO_0</th>\n",
              "      <th>PATROL_BORO_1</th>\n",
              "      <th>PATROL_BORO_2</th>\n",
              "      <th>PATROL_BORO_3</th>\n",
              "      <th>PREM_TYP_DESC_0</th>\n",
              "      <th>PREM_TYP_DESC_1</th>\n",
              "      <th>PREM_TYP_DESC_2</th>\n",
              "      <th>PREM_TYP_DESC_3</th>\n",
              "      <th>PREM_TYP_DESC_4</th>\n",
              "      <th>PREM_TYP_DESC_5</th>\n",
              "      <th>PREM_TYP_DESC_6</th>\n",
              "      <th>BORO_NM_0</th>\n",
              "      <th>BORO_NM_1</th>\n",
              "      <th>BORO_NM_2</th>\n",
              "      <th>VIC_AGE_GROUP_0</th>\n",
              "      <th>VIC_AGE_GROUP_1</th>\n",
              "      <th>VIC_AGE_GROUP_2</th>\n",
              "      <th>VIC_SEX_0</th>\n",
              "      <th>VIC_SEX_1</th>\n",
              "      <th>VIC_SEX_2</th>\n",
              "      <th>VIC_RACE_0</th>\n",
              "      <th>VIC_RACE_1</th>\n",
              "      <th>VIC_RACE_2</th>\n",
              "      <th>VIC_RACE_3</th>\n",
              "      <th>ADDR_PCT_CD</th>\n",
              "      <th>Latitude</th>\n",
              "      <th>Longitude</th>\n",
              "      <th>DateTime</th>\n",
              "    </tr>\n",
              "  </thead>\n",
              "  <tbody>\n",
              "    <tr>\n",
              "      <th>7</th>\n",
              "      <td>0</td>\n",
              "      <td>0</td>\n",
              "      <td>0</td>\n",
              "      <td>1</td>\n",
              "      <td>0</td>\n",
              "      <td>0</td>\n",
              "      <td>0</td>\n",
              "      <td>0</td>\n",
              "      <td>0</td>\n",
              "      <td>0</td>\n",
              "      <td>1</td>\n",
              "      <td>0</td>\n",
              "      <td>0</td>\n",
              "      <td>1</td>\n",
              "      <td>0</td>\n",
              "      <td>0</td>\n",
              "      <td>1</td>\n",
              "      <td>0</td>\n",
              "      <td>0</td>\n",
              "      <td>1</td>\n",
              "      <td>0</td>\n",
              "      <td>0</td>\n",
              "      <td>0</td>\n",
              "      <td>1</td>\n",
              "      <td>0.918919</td>\n",
              "      <td>0.010539</td>\n",
              "      <td>0.982073</td>\n",
              "      <td>0.997030</td>\n",
              "    </tr>\n",
              "    <tr>\n",
              "      <th>17</th>\n",
              "      <td>0</td>\n",
              "      <td>0</td>\n",
              "      <td>1</td>\n",
              "      <td>0</td>\n",
              "      <td>0</td>\n",
              "      <td>0</td>\n",
              "      <td>0</td>\n",
              "      <td>0</td>\n",
              "      <td>0</td>\n",
              "      <td>0</td>\n",
              "      <td>1</td>\n",
              "      <td>0</td>\n",
              "      <td>1</td>\n",
              "      <td>0</td>\n",
              "      <td>0</td>\n",
              "      <td>0</td>\n",
              "      <td>1</td>\n",
              "      <td>0</td>\n",
              "      <td>0</td>\n",
              "      <td>1</td>\n",
              "      <td>0</td>\n",
              "      <td>0</td>\n",
              "      <td>1</td>\n",
              "      <td>0</td>\n",
              "      <td>0.680180</td>\n",
              "      <td>0.019322</td>\n",
              "      <td>0.936301</td>\n",
              "      <td>0.996221</td>\n",
              "    </tr>\n",
              "    <tr>\n",
              "      <th>27</th>\n",
              "      <td>0</td>\n",
              "      <td>0</td>\n",
              "      <td>1</td>\n",
              "      <td>1</td>\n",
              "      <td>0</td>\n",
              "      <td>0</td>\n",
              "      <td>0</td>\n",
              "      <td>0</td>\n",
              "      <td>0</td>\n",
              "      <td>0</td>\n",
              "      <td>1</td>\n",
              "      <td>0</td>\n",
              "      <td>1</td>\n",
              "      <td>1</td>\n",
              "      <td>0</td>\n",
              "      <td>0</td>\n",
              "      <td>1</td>\n",
              "      <td>0</td>\n",
              "      <td>0</td>\n",
              "      <td>1</td>\n",
              "      <td>0</td>\n",
              "      <td>0</td>\n",
              "      <td>1</td>\n",
              "      <td>1</td>\n",
              "      <td>0.851351</td>\n",
              "      <td>0.011334</td>\n",
              "      <td>0.924165</td>\n",
              "      <td>0.997393</td>\n",
              "    </tr>\n",
              "    <tr>\n",
              "      <th>29</th>\n",
              "      <td>0</td>\n",
              "      <td>1</td>\n",
              "      <td>0</td>\n",
              "      <td>0</td>\n",
              "      <td>0</td>\n",
              "      <td>0</td>\n",
              "      <td>0</td>\n",
              "      <td>0</td>\n",
              "      <td>0</td>\n",
              "      <td>1</td>\n",
              "      <td>0</td>\n",
              "      <td>0</td>\n",
              "      <td>1</td>\n",
              "      <td>1</td>\n",
              "      <td>0</td>\n",
              "      <td>0</td>\n",
              "      <td>1</td>\n",
              "      <td>0</td>\n",
              "      <td>0</td>\n",
              "      <td>1</td>\n",
              "      <td>0</td>\n",
              "      <td>0</td>\n",
              "      <td>0</td>\n",
              "      <td>1</td>\n",
              "      <td>0.765766</td>\n",
              "      <td>0.008728</td>\n",
              "      <td>0.925125</td>\n",
              "      <td>0.995187</td>\n",
              "    </tr>\n",
              "    <tr>\n",
              "      <th>31</th>\n",
              "      <td>0</td>\n",
              "      <td>1</td>\n",
              "      <td>0</td>\n",
              "      <td>1</td>\n",
              "      <td>0</td>\n",
              "      <td>0</td>\n",
              "      <td>0</td>\n",
              "      <td>0</td>\n",
              "      <td>0</td>\n",
              "      <td>0</td>\n",
              "      <td>1</td>\n",
              "      <td>1</td>\n",
              "      <td>0</td>\n",
              "      <td>0</td>\n",
              "      <td>0</td>\n",
              "      <td>0</td>\n",
              "      <td>1</td>\n",
              "      <td>0</td>\n",
              "      <td>1</td>\n",
              "      <td>0</td>\n",
              "      <td>0</td>\n",
              "      <td>0</td>\n",
              "      <td>1</td>\n",
              "      <td>1</td>\n",
              "      <td>0.572072</td>\n",
              "      <td>0.016493</td>\n",
              "      <td>0.920790</td>\n",
              "      <td>0.988052</td>\n",
              "    </tr>\n",
              "  </tbody>\n",
              "</table>\n",
              "</div>\n",
              "      <button class=\"colab-df-convert\" onclick=\"convertToInteractive('df-84a286c4-8941-424c-9906-59185c76235f')\"\n",
              "              title=\"Convert this dataframe to an interactive table.\"\n",
              "              style=\"display:none;\">\n",
              "        \n",
              "  <svg xmlns=\"http://www.w3.org/2000/svg\" height=\"24px\"viewBox=\"0 0 24 24\"\n",
              "       width=\"24px\">\n",
              "    <path d=\"M0 0h24v24H0V0z\" fill=\"none\"/>\n",
              "    <path d=\"M18.56 5.44l.94 2.06.94-2.06 2.06-.94-2.06-.94-.94-2.06-.94 2.06-2.06.94zm-11 1L8.5 8.5l.94-2.06 2.06-.94-2.06-.94L8.5 2.5l-.94 2.06-2.06.94zm10 10l.94 2.06.94-2.06 2.06-.94-2.06-.94-.94-2.06-.94 2.06-2.06.94z\"/><path d=\"M17.41 7.96l-1.37-1.37c-.4-.4-.92-.59-1.43-.59-.52 0-1.04.2-1.43.59L10.3 9.45l-7.72 7.72c-.78.78-.78 2.05 0 2.83L4 21.41c.39.39.9.59 1.41.59.51 0 1.02-.2 1.41-.59l7.78-7.78 2.81-2.81c.8-.78.8-2.07 0-2.86zM5.41 20L4 18.59l7.72-7.72 1.47 1.35L5.41 20z\"/>\n",
              "  </svg>\n",
              "      </button>\n",
              "      \n",
              "  <style>\n",
              "    .colab-df-container {\n",
              "      display:flex;\n",
              "      flex-wrap:wrap;\n",
              "      gap: 12px;\n",
              "    }\n",
              "\n",
              "    .colab-df-convert {\n",
              "      background-color: #E8F0FE;\n",
              "      border: none;\n",
              "      border-radius: 50%;\n",
              "      cursor: pointer;\n",
              "      display: none;\n",
              "      fill: #1967D2;\n",
              "      height: 32px;\n",
              "      padding: 0 0 0 0;\n",
              "      width: 32px;\n",
              "    }\n",
              "\n",
              "    .colab-df-convert:hover {\n",
              "      background-color: #E2EBFA;\n",
              "      box-shadow: 0px 1px 2px rgba(60, 64, 67, 0.3), 0px 1px 3px 1px rgba(60, 64, 67, 0.15);\n",
              "      fill: #174EA6;\n",
              "    }\n",
              "\n",
              "    [theme=dark] .colab-df-convert {\n",
              "      background-color: #3B4455;\n",
              "      fill: #D2E3FC;\n",
              "    }\n",
              "\n",
              "    [theme=dark] .colab-df-convert:hover {\n",
              "      background-color: #434B5C;\n",
              "      box-shadow: 0px 1px 3px 1px rgba(0, 0, 0, 0.15);\n",
              "      filter: drop-shadow(0px 1px 2px rgba(0, 0, 0, 0.3));\n",
              "      fill: #FFFFFF;\n",
              "    }\n",
              "  </style>\n",
              "\n",
              "      <script>\n",
              "        const buttonEl =\n",
              "          document.querySelector('#df-84a286c4-8941-424c-9906-59185c76235f button.colab-df-convert');\n",
              "        buttonEl.style.display =\n",
              "          google.colab.kernel.accessAllowed ? 'block' : 'none';\n",
              "\n",
              "        async function convertToInteractive(key) {\n",
              "          const element = document.querySelector('#df-84a286c4-8941-424c-9906-59185c76235f');\n",
              "          const dataTable =\n",
              "            await google.colab.kernel.invokeFunction('convertToInteractive',\n",
              "                                                     [key], {});\n",
              "          if (!dataTable) return;\n",
              "\n",
              "          const docLinkHtml = 'Like what you see? Visit the ' +\n",
              "            '<a target=\"_blank\" href=https://colab.research.google.com/notebooks/data_table.ipynb>data table notebook</a>'\n",
              "            + ' to learn more about interactive tables.';\n",
              "          element.innerHTML = '';\n",
              "          dataTable['output_type'] = 'display_data';\n",
              "          await google.colab.output.renderOutput(dataTable, element);\n",
              "          const docLink = document.createElement('div');\n",
              "          docLink.innerHTML = docLinkHtml;\n",
              "          element.appendChild(docLink);\n",
              "        }\n",
              "      </script>\n",
              "    </div>\n",
              "  </div>\n",
              "  "
            ],
            "text/plain": [
              "    PATROL_BORO_0  PATROL_BORO_1  PATROL_BORO_2  ...  Latitude  Longitude  DateTime\n",
              "7               0              0              0  ...  0.010539   0.982073  0.997030\n",
              "17              0              0              1  ...  0.019322   0.936301  0.996221\n",
              "27              0              0              1  ...  0.011334   0.924165  0.997393\n",
              "29              0              1              0  ...  0.008728   0.925125  0.995187\n",
              "31              0              1              0  ...  0.016493   0.920790  0.988052\n",
              "\n",
              "[5 rows x 28 columns]"
            ]
          },
          "metadata": {},
          "execution_count": 28
        }
      ]
    },
    {
      "cell_type": "code",
      "execution_count": null,
      "metadata": {
        "id": "cKZY8Pdls9p_"
      },
      "outputs": [],
      "source": [
        "# from sklearn.model_selection import train_test_split\n",
        "# X_train,X_test,Y_train,Y_test = train_test_split(dataframe_f,Y,test_size=0.25,shuffle=True)\n",
        "# X_train = pd.DataFrame(X_train)\n",
        "# Y_train = pd.DataFrame(Y_train)\n",
        "# X_test = pd.DataFrame(X_test)\n",
        "# Y_test = pd.DataFrame(Y_test)"
      ]
    },
    {
      "cell_type": "code",
      "source": [
        "# X_tr = np.array(normalized_X_tr)\n",
        "# Y_tr = np.array(Y_train)\n",
        "# X_te = np.array(normalized_X_te)\n",
        "# Y_te = np.array(Y_test)"
      ],
      "metadata": {
        "id": "Okhws4tLqTHH"
      },
      "execution_count": null,
      "outputs": []
    },
    {
      "cell_type": "code",
      "source": [
        "# print(X_train.shape,Y_train.shape,X_test.shape,Y_test.shape)"
      ],
      "metadata": {
        "colab": {
          "base_uri": "https://localhost:8080/"
        },
        "id": "71mpd8iUtwcu",
        "outputId": "cc371f71-1de7-444d-9d17-e858271bdb14"
      },
      "execution_count": null,
      "outputs": [
        {
          "output_type": "stream",
          "name": "stdout",
          "text": [
            "(705981, 18) (705981, 1) (235328, 18) (235328, 1)\n"
          ]
        }
      ]
    },
    {
      "cell_type": "code",
      "execution_count": null,
      "metadata": {
        "id": "9raWXML-skvh"
      },
      "outputs": [],
      "source": [
        "# normalized_df_data = pd.concat([normalized_X_tr,normalized_X_te],axis=0)\n",
        "# normalized_df_target = pd.concat([pd.DataFrame(Y_tr),pd.DataFrame(Y_te)],axis=0)"
      ]
    },
    {
      "cell_type": "code",
      "source": [
        "# normalized_df_data.to_csv(\"/content/drive/MyDrive/Crimes Detection/NY_crimes/Final_pretrained_dataset_observations.csv\")"
      ],
      "metadata": {
        "id": "li1J7Du1sBs3"
      },
      "execution_count": null,
      "outputs": []
    },
    {
      "cell_type": "code",
      "source": [
        "# normalized_df_target.to_csv(\"/content/drive/MyDrive/Crimes Detection/NY_crimes/Final_pretrained_dataset_targets.csv\")"
      ],
      "metadata": {
        "id": "PfpdWu0Uul59"
      },
      "execution_count": null,
      "outputs": []
    },
    {
      "cell_type": "markdown",
      "metadata": {
        "id": "SnmW_OuFthO4"
      },
      "source": [
        "# Model 1 : Artificial Neural Network"
      ]
    },
    {
      "cell_type": "code",
      "source": [
        "import numpy as np\n",
        "import pandas as pd\n",
        "import seaborn as sns\n",
        "import matplotlib.pyplot as plt\n",
        "from collections import Counter\n",
        "import os"
      ],
      "metadata": {
        "id": "mky2Wma1uqMW"
      },
      "execution_count": null,
      "outputs": []
    },
    {
      "cell_type": "code",
      "source": [
        "Y_no.to_csv(\"/content/drive/MyDrive/Crimes Detection/NY_crimes/pre-training_target.csv\")\n",
        "dataframe_f.to_csv(\"/content/drive/MyDrive/Crimes Detection/NY_crimes/pre-training_feautures.csv\")"
      ],
      "metadata": {
        "id": "O6Ul9OOOGbAJ"
      },
      "execution_count": null,
      "outputs": []
    },
    {
      "cell_type": "code",
      "source": [
        "Y_df = pd.read_csv('/content/drive/MyDrive/Crimes Detection/NY_crimes/pre-training_target.csv')\n",
        "X_df =pd.read_csv('/content/drive/MyDrive/Crimes Detection/NY_crimes/pre-training_feautures.csv')"
      ],
      "metadata": {
        "id": "O25BVDRVutym"
      },
      "execution_count": null,
      "outputs": []
    },
    {
      "cell_type": "code",
      "source": [
        "from sklearn.model_selection import train_test_split\n",
        "X_train,X_test,Y_train,Y_test = train_test_split(X_df,Y_df,test_size=0.28,shuffle=True)\n",
        "Y_train.drop(['Unnamed: 0'],axis=1,inplace=True)\n",
        "Y_test.drop(['Unnamed: 0'],axis=1,inplace=True)\n",
        "X_tr = np.array(X_train)\n",
        "X_te = np.array(X_test)\n",
        "Y_tr = np.array(Y_train)\n",
        "Y_te = np.array(Y_test)"
      ],
      "metadata": {
        "id": "GCn-F5ITu-VI"
      },
      "execution_count": null,
      "outputs": []
    },
    {
      "cell_type": "code",
      "source": [
        "import gc\n",
        "del [[X_df,Y_df]]\n",
        "gc.collect()\n",
        "X_df=pd.DataFrame()\n",
        "Y_df=pd.DataFrame()"
      ],
      "metadata": {
        "id": "Eq3g1m0VHN9R"
      },
      "execution_count": null,
      "outputs": []
    },
    {
      "cell_type": "code",
      "source": [
        "print(X_tr.shape,X_te.shape,Y_tr.shape,Y_te.shape)"
      ],
      "metadata": {
        "colab": {
          "base_uri": "https://localhost:8080/"
        },
        "id": "nw7aO0gA2ouM",
        "outputId": "c32e1621-3f34-4ea1-f37b-14b3146f34fd"
      },
      "execution_count": null,
      "outputs": [
        {
          "output_type": "stream",
          "name": "stdout",
          "text": [
            "(2582951, 29) (1004482, 29) (2582951, 1) (1004482, 1)\n"
          ]
        }
      ]
    },
    {
      "cell_type": "code",
      "execution_count": null,
      "metadata": {
        "colab": {
          "base_uri": "https://localhost:8080/"
        },
        "id": "hhp6NGfItZlf",
        "outputId": "c2aeb337-6352-4aa3-8dca-6b943d0e30c5"
      },
      "outputs": [
        {
          "output_type": "stream",
          "name": "stdout",
          "text": [
            "Requirement already satisfied: h5py in /usr/local/lib/python3.7/dist-packages (3.1.0)\n",
            "Requirement already satisfied: numpy>=1.14.5 in /usr/local/lib/python3.7/dist-packages (from h5py) (1.19.5)\n",
            "Requirement already satisfied: cached-property in /usr/local/lib/python3.7/dist-packages (from h5py) (1.5.2)\n",
            "Collecting keras-tqdm\n",
            "  Downloading keras_tqdm-2.0.1-py2.py3-none-any.whl (7.1 kB)\n",
            "Requirement already satisfied: tqdm in /usr/local/lib/python3.7/dist-packages (from keras-tqdm) (4.62.3)\n",
            "Requirement already satisfied: Keras in /usr/local/lib/python3.7/dist-packages (from keras-tqdm) (2.7.0)\n",
            "Installing collected packages: keras-tqdm\n",
            "Successfully installed keras-tqdm-2.0.1\n",
            "Collecting tensorflow-addons\n",
            "  Downloading tensorflow_addons-0.15.0-cp37-cp37m-manylinux_2_12_x86_64.manylinux2010_x86_64.whl (1.1 MB)\n",
            "\u001b[K     |████████████████████████████████| 1.1 MB 4.7 MB/s \n",
            "\u001b[?25hRequirement already satisfied: typeguard>=2.7 in /usr/local/lib/python3.7/dist-packages (from tensorflow-addons) (2.7.1)\n",
            "Installing collected packages: tensorflow-addons\n",
            "Successfully installed tensorflow-addons-0.15.0\n"
          ]
        }
      ],
      "source": [
        "# !pip install h5py\n",
        "# !pip install keras-tqdm\n",
        "# # from keras.tqdm import TQDMNotebookCallback\n",
        "# !pip install -q \"tqdm>=4.36.1\" # installer une version de TQDM supérieur à 4.36.1\n",
        "# !pip install -U tensorflow-addons\n",
        "\n",
        "# import tensorflow as tf\n",
        "# import tensorflow_addons as tfa # tensorflow.addons : TensorFlow Addons is a repository of contributions that conform to well-established API patterns, but implement new functionality not available in core TensorFlow.\n",
        "# import tqdm # library to show the progress bar as a callback\n",
        "\n",
        "# # defining the function to plot a progress bar \n",
        "# import sys \n",
        "# from IPython.lib import deepreload \n",
        "\n",
        "# stdout = sys.stdout\n",
        "# sys.stdout = open('junk','w')\n",
        "# deepreload.reload(tqdm)\n",
        "# sys.stdout = stdout\n",
        "# tqdm_callback = tfa.callbacks.TQDMProgressBar()"
      ]
    },
    {
      "cell_type": "code",
      "execution_count": null,
      "metadata": {
        "colab": {
          "base_uri": "https://localhost:8080/"
        },
        "id": "wMsso2-btumQ",
        "outputId": "f5528f77-c05f-4f20-e5a6-fdd0f6be3282"
      },
      "outputs": [
        {
          "output_type": "stream",
          "name": "stdout",
          "text": [
            "Epoch 1/100\n",
            "80714/80718 [============================>.] - ETA: 0s - loss: 70.4358 - sparse_categorical_accuracy: 0.1661\n",
            "Epoch 00001: val_sparse_categorical_accuracy improved from -inf to 0.16665, saving model to /content/drive/MyDrive/Crimes Detection/NY_crimes/Crimes_Detection_weights_new.h5\n",
            "80718/80718 [==============================] - 527s 7ms/step - loss: 70.4331 - sparse_categorical_accuracy: 0.1661 - val_loss: 2.4182 - val_sparse_categorical_accuracy: 0.1666\n",
            "Epoch 2/100\n",
            "80713/80718 [============================>.] - ETA: 0s - loss: 2.4953 - sparse_categorical_accuracy: 0.1670\n",
            "Epoch 00002: val_sparse_categorical_accuracy did not improve from 0.16665\n",
            "80718/80718 [==============================] - 526s 7ms/step - loss: 2.4953 - sparse_categorical_accuracy: 0.1670 - val_loss: 2.4181 - val_sparse_categorical_accuracy: 0.1662\n",
            "Epoch 3/100\n",
            "80718/80718 [==============================] - ETA: 0s - loss: 2.4421 - sparse_categorical_accuracy: 0.1668\n",
            "Epoch 00003: val_sparse_categorical_accuracy did not improve from 0.16665\n",
            "80718/80718 [==============================] - 524s 6ms/step - loss: 2.4421 - sparse_categorical_accuracy: 0.1668 - val_loss: 2.4181 - val_sparse_categorical_accuracy: 0.1662\n",
            "Epoch 4/100\n",
            "80717/80718 [============================>.] - ETA: 0s - loss: 4.0639 - sparse_categorical_accuracy: 0.1671\n",
            "Epoch 00004: val_sparse_categorical_accuracy improved from 0.16665 to 0.16668, saving model to /content/drive/MyDrive/Crimes Detection/NY_crimes/Crimes_Detection_weights_new.h5\n",
            "80718/80718 [==============================] - 524s 6ms/step - loss: 4.0639 - sparse_categorical_accuracy: 0.1671 - val_loss: 2.4180 - val_sparse_categorical_accuracy: 0.1667\n",
            "Epoch 5/100\n",
            "80718/80718 [==============================] - ETA: 0s - loss: 2.5967 - sparse_categorical_accuracy: 0.1672\n",
            "Epoch 00005: val_sparse_categorical_accuracy did not improve from 0.16668\n",
            "80718/80718 [==============================] - 523s 6ms/step - loss: 2.5967 - sparse_categorical_accuracy: 0.1672 - val_loss: 2.4178 - val_sparse_categorical_accuracy: 0.1663\n",
            "Epoch 6/100\n",
            "80715/80718 [============================>.] - ETA: 0s - loss: 2.4381 - sparse_categorical_accuracy: 0.1670\n",
            "Epoch 00006: val_sparse_categorical_accuracy did not improve from 0.16668\n",
            "80718/80718 [==============================] - 522s 6ms/step - loss: 2.4381 - sparse_categorical_accuracy: 0.1670 - val_loss: 2.4179 - val_sparse_categorical_accuracy: 0.1667\n",
            "Epoch 7/100\n",
            "80710/80718 [============================>.] - ETA: 0s - loss: 2.4371 - sparse_categorical_accuracy: 0.1671\n",
            "Epoch 00007: val_sparse_categorical_accuracy did not improve from 0.16668\n",
            "80718/80718 [==============================] - 521s 6ms/step - loss: 2.4371 - sparse_categorical_accuracy: 0.1671 - val_loss: 2.4180 - val_sparse_categorical_accuracy: 0.1667\n",
            "Epoch 8/100\n",
            "80711/80718 [============================>.] - ETA: 0s - loss: 2.5347 - sparse_categorical_accuracy: 0.1673\n",
            "Epoch 00008: val_sparse_categorical_accuracy did not improve from 0.16668\n",
            "80718/80718 [==============================] - 519s 6ms/step - loss: 2.5347 - sparse_categorical_accuracy: 0.1673 - val_loss: 2.4177 - val_sparse_categorical_accuracy: 0.1667\n",
            "Epoch 9/100\n",
            "80710/80718 [============================>.] - ETA: 0s - loss: 2.5029 - sparse_categorical_accuracy: 0.1674\n",
            "Epoch 00009: val_sparse_categorical_accuracy did not improve from 0.16668\n",
            "80718/80718 [==============================] - 526s 7ms/step - loss: 2.5028 - sparse_categorical_accuracy: 0.1673 - val_loss: 2.4178 - val_sparse_categorical_accuracy: 0.1667\n",
            "Epoch 10/100\n",
            "80714/80718 [============================>.] - ETA: 0s - loss: 2.4185 - sparse_categorical_accuracy: 0.1671\n",
            "Epoch 00010: val_sparse_categorical_accuracy did not improve from 0.16668\n",
            "80718/80718 [==============================] - 526s 7ms/step - loss: 2.4185 - sparse_categorical_accuracy: 0.1671 - val_loss: 2.4179 - val_sparse_categorical_accuracy: 0.1667\n",
            "Epoch 00010: early stopping\n"
          ]
        },
        {
          "output_type": "execute_result",
          "data": {
            "text/plain": [
              "<keras.callbacks.History at 0x7fb6e014f610>"
            ]
          },
          "metadata": {},
          "execution_count": 7
        }
      ],
      "source": [
        "import keras\n",
        "from keras.models import Sequential\n",
        "from keras.layers import Dense\n",
        "ANN = Sequential([\n",
        "                  keras.layers.Dense(2000,input_shape=(X_train.shape[1],),activation='relu'),\n",
        "                  keras.layers.Dense(1000, activation='relu'),\n",
        "                  keras.layers.Dense(500,activation='relu'),\n",
        "                  keras.layers.Dense(16,activation='softmax')\n",
        "])\n",
        "ES = keras.callbacks.EarlyStopping(monitor='val_sparse_categorical_accuracy',mode=\"auto\",patience=6,verbose=2)\n",
        "CP = keras.callbacks.ModelCheckpoint('/content/drive/MyDrive/Crimes Detection/NY_crimes/Crimes_Detection_weights_new.h5', monitor ='val_sparse_categorical_accuracy',verbose=2,save_best_only=True)\n",
        "ANN.compile(optimizer=\"adam\",loss=\"sparse_categorical_crossentropy\",metrics=[\"sparse_categorical_accuracy\"])\n",
        "ANN.fit(X_tr,Y_tr,epochs=100,batch_size=32,verbose=1,callbacks=[ES,CP],validation_data=(X_te,Y_te))"
      ]
    },
    {
      "cell_type": "markdown",
      "source": [
        "# predict"
      ],
      "metadata": {
        "id": "EGtgNUunLytb"
      }
    },
    {
      "cell_type": "code",
      "source": [
        ""
      ],
      "metadata": {
        "id": "pd6u4aJqLyAE"
      },
      "execution_count": null,
      "outputs": []
    },
    {
      "cell_type": "markdown",
      "source": [
        "#New value"
      ],
      "metadata": {
        "id": "2JsC2idrL7xb"
      }
    },
    {
      "cell_type": "code",
      "source": [
        "from sklearn.model_selection import train_test_split\n",
        "from sklearn.linear_model import LinearRegression\n",
        "import pickle\n",
        "lr = LinearRegression()\n",
        "df.head()\n",
        "# targ = dataframe_f.pop('PD_CD')\n",
        "traindf,testdf,Ytrain,Ytest= train_test_split(dataframe_f,targ,test_size=0.3,shuffle=True) \n",
        "lr.fit(traindf,Ytrain)\n",
        "pickle.dump(lr,open('/content/drive/MyDrive/Crimes Detection/NY_crimes/PD_CD_predict.h5','wb'))\n",
        "r2_score = lr.score(testdf,Ytest)\n",
        "print(r2_score*100,'%')"
      ],
      "metadata": {
        "colab": {
          "base_uri": "https://localhost:8080/"
        },
        "id": "6NV0Qwz9LyFD",
        "outputId": "cc001c6c-2f3a-4986-c233-20e4767908e1"
      },
      "execution_count": null,
      "outputs": [
        {
          "output_type": "stream",
          "name": "stdout",
          "text": [
            "2.3770191298599586 %\n"
          ]
        }
      ]
    },
    {
      "cell_type": "code",
      "source": [
        "test_dataframe = dataframe_f.copy()\n",
        "# test_dataframe.drop(['PD_CD'],axis=1,inplace=True)\n",
        "test_observation = test_dataframe.iloc[0]\n",
        "loaded_model = pickle.load(open('/content/drive/MyDrive/Crimes Detection/NY_crimes/PD_CD_predict.h5', 'rb'))\n",
        "PD_CD = loaded_model.predict(obser)[0][0]\n",
        "print(PD_CD[0][0]+0.08)"
      ],
      "metadata": {
        "colab": {
          "base_uri": "https://localhost:8080/"
        },
        "id": "5FLp0exaYLZ3",
        "outputId": "cdfbdfcd-b6a3-4dd7-a0c4-cc0bce06a0ea"
      },
      "execution_count": null,
      "outputs": [
        {
          "output_type": "stream",
          "name": "stdout",
          "text": [
            "0.3664261334378826\n"
          ]
        },
        {
          "output_type": "stream",
          "name": "stderr",
          "text": [
            "/usr/local/lib/python3.7/dist-packages/sklearn/base.py:446: UserWarning: X does not have valid feature names, but LinearRegression was fitted with feature names\n",
            "  \"X does not have valid feature names, but\"\n"
          ]
        }
      ]
    },
    {
      "cell_type": "code",
      "source": [
        "obs = np.reshape(np.array(test_observation),(test_observation.shape[0],1))\n",
        "observ = pd.DataFrame(obs)\n",
        "obser = observ.transpose()"
      ],
      "metadata": {
        "id": "A7qIstxhyPEI"
      },
      "execution_count": null,
      "outputs": []
    },
    {
      "cell_type": "code",
      "source": [
        "obs.shape"
      ],
      "metadata": {
        "colab": {
          "base_uri": "https://localhost:8080/"
        },
        "id": "GiiIGag7zlqA",
        "outputId": "c990cb9b-e75d-47ca-9941-c740335a123a"
      },
      "execution_count": null,
      "outputs": [
        {
          "output_type": "execute_result",
          "data": {
            "text/plain": [
              "(21, 1)"
            ]
          },
          "metadata": {},
          "execution_count": 88
        }
      ]
    },
    {
      "cell_type": "code",
      "source": [
        ""
      ],
      "metadata": {
        "id": "X4V-8nm40CfI"
      },
      "execution_count": null,
      "outputs": []
    }
  ],
  "metadata": {
    "colab": {
      "collapsed_sections": [],
      "name": "Crimes Type Detection ",
      "provenance": []
    },
    "kernelspec": {
      "display_name": "Python 3",
      "name": "python3"
    },
    "language_info": {
      "name": "python"
    },
    "accelerator": "GPU"
  },
  "nbformat": 4,
  "nbformat_minor": 0
}